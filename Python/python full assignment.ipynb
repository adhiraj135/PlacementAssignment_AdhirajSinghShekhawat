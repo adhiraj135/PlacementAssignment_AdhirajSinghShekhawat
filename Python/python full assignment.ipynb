{
 "cells": [
  {
   "cell_type": "markdown",
   "id": "3faed1d1",
   "metadata": {},
   "source": [
    "Question 1: -\n",
    "Write a program that takes a string as input, and counts the frequency of each word in the string, there might\n",
    "be repeated characters in the string. Your task is to find the highest frequency and returns the length of the\n",
    "highest-frequency word."
   ]
  },
  {
   "cell_type": "markdown",
   "id": "5f859d18",
   "metadata": {},
   "source": [
    "# Answer 1."
   ]
  },
  {
   "cell_type": "code",
   "execution_count": 27,
   "id": "6fe05ee2",
   "metadata": {},
   "outputs": [],
   "source": [
    "def count_highest_frequency(string):\n",
    "    d={}\n",
    "    l=[]\n",
    "    for i in string.split(' '):\n",
    "        d[len(str(i))]=string.split(' ').count(i)\n",
    "    return max(d)"
   ]
  },
  {
   "cell_type": "code",
   "execution_count": 28,
   "id": "aa559940",
   "metadata": {},
   "outputs": [
    {
     "data": {
      "text/plain": [
       "6"
      ]
     },
     "execution_count": 28,
     "metadata": {},
     "output_type": "execute_result"
    }
   ],
   "source": [
    "count_highest_frequency(\"writes writes writes all the number from from from 1 to 100\")"
   ]
  },
  {
   "cell_type": "code",
   "execution_count": 29,
   "id": "f544e3c7",
   "metadata": {},
   "outputs": [
    {
     "data": {
      "text/plain": [
       "7"
      ]
     },
     "execution_count": 29,
     "metadata": {},
     "output_type": "execute_result"
    }
   ],
   "source": [
    "count_highest_frequency(\"I I I am a studen studen studen of Inueron Inueron Inueron\")"
   ]
  },
  {
   "cell_type": "code",
   "execution_count": 31,
   "id": "b4c182e6",
   "metadata": {},
   "outputs": [
    {
     "data": {
      "text/plain": [
       "5"
      ]
     },
     "execution_count": 31,
     "metadata": {},
     "output_type": "execute_result"
    }
   ],
   "source": [
    "count_highest_frequency(\"the are three 10 10 10 three 100 100 100 and no 10000 10000 10000 in 1 to 100\")"
   ]
  },
  {
   "cell_type": "markdown",
   "id": "c2770afc",
   "metadata": {},
   "source": [
    "Question 3: -\n",
    "Write a program, which would download the data from the provided link, and then read the data and convert\n",
    "that into properly structured data and return it in Excel format."
   ]
  },
  {
   "cell_type": "code",
   "execution_count": 6,
   "id": "bbefdc19",
   "metadata": {},
   "outputs": [],
   "source": [
    "import requests\n",
    "import json\n",
    "import pandas as pd"
   ]
  },
  {
   "cell_type": "code",
   "execution_count": 28,
   "id": "3a0d6d3f",
   "metadata": {},
   "outputs": [],
   "source": [
    "def fetch_from_url_to_excel(link):\n",
    "    response=requests.get(link)\n",
    "    if response.status_code==200:\n",
    "        with open(\"sample.json\",\"wb\") as file:\n",
    "            file.write(response.content)\n",
    "            file.close()\n",
    "        with open('sample.json',\"rb\") as file:\n",
    "            data=json.load(file)\n",
    "            df=pd.DataFrame(data['pokemon'])\n",
    "            file.close()\n",
    "        df.to_excel('C:\\\\Users\\\\DELL\\\\Downloads\\\\Inueron assignment\\\\machine learning\\\\pokemon.xlsx',index=False,header=True)\n",
    "        \n",
    "    "
   ]
  },
  {
   "cell_type": "code",
   "execution_count": 29,
   "id": "f83a5bb0",
   "metadata": {},
   "outputs": [],
   "source": [
    "fetch_from_url('https://raw.githubusercontent.com/Biuni/PokemonGO-Pokedex/master/pokedex.json')\n",
    "        "
   ]
  },
  {
   "cell_type": "markdown",
   "id": "b8c1a33c",
   "metadata": {},
   "source": [
    "Question 4 -\n",
    "Write a program to download the data from the link given below and then read the data and convert the into\n",
    "the proper structure and return it as a CSV file."
   ]
  },
  {
   "cell_type": "code",
   "execution_count": 73,
   "id": "159b2cf4",
   "metadata": {},
   "outputs": [],
   "source": [
    "def fetch_from_url_to_csv(link):\n",
    "    response=requests.get(link)\n",
    "    if response.status_code==200:\n",
    "        with open(\"sample.json\",\"wb\") as file:\n",
    "            file.write(response.content)\n",
    "            file.close()\n",
    "        with open('sample.json',\"rb\") as file:\n",
    "            data=json.load(file)\n",
    "            df=pd.DataFrame(data)\n",
    "            df.drop(columns=[':@computed_region_cbhk_fwbd',':@computed_region_nnqa_25f4'],axis=1,inplace=True)\n",
    "            df.dropna(inplace=True)\n",
    "            df['year'] = pd.to_datetime(df['year'], errors='coerce')\n",
    "            file.close()\n",
    "        df.to_csv('C:\\\\Users\\\\DELL\\\\Downloads\\\\Inueron assignment\\\\machine learning\\\\sample.csv',header=True,index=False)"
   ]
  },
  {
   "cell_type": "code",
   "execution_count": 74,
   "id": "b0f1272d",
   "metadata": {},
   "outputs": [],
   "source": [
    "fetch_from_url_to_csv('https://data.nasa.gov/resource/y77d-th95.json')"
   ]
  },
  {
   "cell_type": "markdown",
   "id": "f7f67274",
   "metadata": {},
   "source": []
  },
  {
   "cell_type": "code",
   "execution_count": 110,
   "id": "f8f73bba",
   "metadata": {},
   "outputs": [],
   "source": [
    "def fetch_from_api_to_csv(link):\n",
    "    response=requests.get('http://api.tvmaze.com/singlesearch/shows?q=westworld&embed=episodes')\n",
    "    if response.status_code==200:\n",
    "        with open(\"sample.json1\",\"wb\") as file:\n",
    "            file.write(response.content)\n",
    "            file.close()\n",
    "        with open('sample.json1',\"rb\") as file:\n",
    "            data=json.load(file)\n",
    "            df=pd.DataFrame(data['_embedded']['episodes'])\n",
    "            df['airdate']=pd.to_datetime(df['airdate'])\n",
    "            df['airtime'] = pd.to_datetime(df['airtime']).dt.strftime('%H:%M')\n",
    "\n",
    "            file.close()\n",
    "        df.to_csv('C:\\\\Users\\\\DELL\\\\Downloads\\\\Inueron assignment\\\\machine learning\\\\season_description.csv',header=True,index=False)"
   ]
  },
  {
   "cell_type": "code",
   "execution_count": 111,
   "id": "a3691baa",
   "metadata": {},
   "outputs": [],
   "source": [
    "fetch_from_api_to_csv('http://api.tvmaze.com/singlesearch/shows?q=westworld&embed=episodes')"
   ]
  },
  {
   "cell_type": "markdown",
   "id": "009391a7",
   "metadata": {},
   "source": [
    "Question 6 -\n",
    "Using the data from Question 3, write code to analyze the data and answer the following questions Note 1.\n",
    "Draw plots to demonstrate the analysis for the following questions for better visualizations.\n"
   ]
  },
  {
   "cell_type": "code",
   "execution_count": 256,
   "id": "bff479e6",
   "metadata": {},
   "outputs": [],
   "source": [
    "import matplotlib.pyplot as plt\n",
    "import seaborn as sns\n"
   ]
  },
  {
   "cell_type": "code",
   "execution_count": 113,
   "id": "59d3416f",
   "metadata": {},
   "outputs": [],
   "source": [
    "df=pd.read_excel('C:\\\\Users\\\\DELL\\\\Downloads\\\\Inueron assignment\\\\machine learning\\\\pokemon.xlsx')"
   ]
  },
  {
   "cell_type": "markdown",
   "id": "ebc5c819",
   "metadata": {},
   "source": [
    "1. Get all Pokemons whose spawn rate is less than 5%"
   ]
  },
  {
   "cell_type": "code",
   "execution_count": 262,
   "id": "9554ecee",
   "metadata": {},
   "outputs": [],
   "source": [
    "total_spawn_rate=df['spawn_chance'].count()"
   ]
  },
  {
   "cell_type": "code",
   "execution_count": 265,
   "id": "3cca6e2b",
   "metadata": {},
   "outputs": [
    {
     "data": {
      "text/plain": [
       "65"
      ]
     },
     "execution_count": 265,
     "metadata": {},
     "output_type": "execute_result"
    }
   ],
   "source": [
    "spawn_less_than_5percent=df['spawn_chance'][df['spawn_chance']<0.05].count()\n",
    "spawn_less_than_5percent"
   ]
  },
  {
   "cell_type": "code",
   "execution_count": 268,
   "id": "bedf78a4",
   "metadata": {},
   "outputs": [
    {
     "data": {
      "image/png": "[encoded data removed]",
      "text/plain": [
       "<Figure size 432x288 with 1 Axes>"
      ]
     },
     "metadata": {
      "needs_background": "light"
     },
     "output_type": "display_data"
    }
   ],
   "source": [
    "\n",
    "spawn_less_than_5percent = 65\n",
    "total_spawn_rate = 151\n",
    "\n",
    "\n",
    "labels = ['Spawn Less Than 5%', 'Total Spawn Rate']\n",
    "values = [spawn_less_than_5percent, total_spawn_rate]\n",
    "\n",
    "plt.bar(labels, values)\n",
    "\n",
    "\n",
    "plt.xlabel('Count')\n",
    "plt.title('Comparison: Spawn Less Than 5% vs Total Spawn Rate')\n",
    "\n",
    "\n",
    "plt.show()"
   ]
  },
  {
   "cell_type": "markdown",
   "id": "0644538e",
   "metadata": {},
   "source": [
    "out of 151, 65 has less spawn rate than 5 percent"
   ]
  },
  {
   "cell_type": "markdown",
   "id": "a8202e53",
   "metadata": {},
   "source": [
    "2. Get all Pokemons that have less than 4 weaknesses"
   ]
  },
  {
   "cell_type": "code",
   "execution_count": 163,
   "id": "d1f9ea33",
   "metadata": {},
   "outputs": [],
   "source": [
    "df['weaknesses']=df['weaknesses'].apply(lambda x: eval(x))\n",
    "\n",
    "    "
   ]
  },
  {
   "cell_type": "code",
   "execution_count": 269,
   "id": "9935e416",
   "metadata": {},
   "outputs": [],
   "source": [
    "total_weakness=df['weaknesses'].count()"
   ]
  },
  {
   "cell_type": "code",
   "execution_count": 270,
   "id": "00fe71a1",
   "metadata": {},
   "outputs": [],
   "source": [
    "def less_than_4_weakness(x):\n",
    "    if len(x)<4:\n",
    "        return x"
   ]
  },
  {
   "cell_type": "code",
   "execution_count": 271,
   "id": "12b67df3",
   "metadata": {},
   "outputs": [],
   "source": [
    "less_than_4_weakness=df['weaknesses'].apply(less_than_4_weakness).count()"
   ]
  },
  {
   "cell_type": "code",
   "execution_count": 273,
   "id": "a2f3bee6",
   "metadata": {},
   "outputs": [
    {
     "name": "stdout",
     "output_type": "stream",
     "text": [
      "Pokemons that have less than 4 weaknesses are 102\n"
     ]
    }
   ],
   "source": [
    "print(\"Pokemons that have less than 4 weaknesses are\",less_than_4_weakness)"
   ]
  },
  {
   "cell_type": "code",
   "execution_count": 275,
   "id": "4149b846",
   "metadata": {},
   "outputs": [
    {
     "data": {
      "image/png": "[encoded data removed]",
      "text/plain": [
       "<Figure size 432x288 with 1 Axes>"
      ]
     },
     "metadata": {
      "needs_background": "light"
     },
     "output_type": "display_data"
    }
   ],
   "source": [
    "\n",
    "less_than_4_weakness= 102\n",
    "total = 151\n",
    "\n",
    "\n",
    "labels = ['weakness Less Than 4', 'total']\n",
    "values = [less_than_4_weakness, total]\n",
    "\n",
    "plt.bar(labels, values)\n",
    "\n",
    "\n",
    "plt.xlabel('Count')\n",
    "plt.title('Comparison: less_than_4_weakness vs Total')\n",
    "\n",
    "plt.show()"
   ]
  },
  {
   "cell_type": "markdown",
   "id": "d6c2851e",
   "metadata": {},
   "source": [
    "3. Get all Pokemons that have no multipliers at all"
   ]
  },
  {
   "cell_type": "code",
   "execution_count": 206,
   "id": "ca75b1a9",
   "metadata": {},
   "outputs": [
    {
     "data": {
      "text/plain": [
       "81"
      ]
     },
     "execution_count": 206,
     "metadata": {},
     "output_type": "execute_result"
    }
   ],
   "source": [
    "df['multipliers'].isnull().sum()"
   ]
  },
  {
   "cell_type": "code",
   "execution_count": 276,
   "id": "8f89c2b8",
   "metadata": {},
   "outputs": [
    {
     "data": {
      "image/png": "[encoded data removed]",
      "text/plain": [
       "<Figure size 432x288 with 1 Axes>"
      ]
     },
     "metadata": {
      "needs_background": "light"
     },
     "output_type": "display_data"
    }
   ],
   "source": [
    "\n",
    "no_multipliers= 82\n",
    "total = 151\n",
    "\n",
    "\n",
    "labels = ['no multipliers', 'total']\n",
    "values = [no_multipliers, total]\n",
    "\n",
    "plt.bar(labels, values)\n",
    "\n",
    "\n",
    "plt.xlabel('Count')\n",
    "plt.title('Comparison: no_multipliers vs Total')\n",
    "\n",
    "plt.show()"
   ]
  },
  {
   "cell_type": "markdown",
   "id": "b1c7b3d6",
   "metadata": {},
   "source": [
    "81 have no multipliers at all i.e NaN values"
   ]
  },
  {
   "cell_type": "markdown",
   "id": "45896148",
   "metadata": {},
   "source": [
    "4. Get all Pokemons that do not have more than 2 evolutions"
   ]
  },
  {
   "cell_type": "code",
   "execution_count": 217,
   "id": "c9849ef1",
   "metadata": {},
   "outputs": [
    {
     "data": {
      "text/plain": [
       "81"
      ]
     },
     "execution_count": 217,
     "metadata": {},
     "output_type": "execute_result"
    }
   ],
   "source": [
    "df['next_evolution'].isnull().sum()"
   ]
  },
  {
   "cell_type": "code",
   "execution_count": 220,
   "id": "2d3915cb",
   "metadata": {},
   "outputs": [
    {
     "data": {
      "text/plain": [
       "0      [{'num': '002', 'name': 'Ivysaur'}, {'num': '0...\n",
       "1                   [{'num': '003', 'name': 'Venusaur'}]\n",
       "3      [{'num': '005', 'name': 'Charmeleon'}, {'num':...\n",
       "4                  [{'num': '006', 'name': 'Charizard'}]\n",
       "6      [{'num': '008', 'name': 'Wartortle'}, {'num': ...\n",
       "                             ...                        \n",
       "132                                                 None\n",
       "137                  [{'num': '139', 'name': 'Omastar'}]\n",
       "139                 [{'num': '141', 'name': 'Kabutops'}]\n",
       "146    [{'num': '148', 'name': 'Dragonair'}, {'num': ...\n",
       "147                [{'num': '149', 'name': 'Dragonite'}]\n",
       "Name: next_evolution, Length: 70, dtype: object"
      ]
     },
     "execution_count": 220,
     "metadata": {},
     "output_type": "execute_result"
    }
   ],
   "source": [
    "df['next_evolution'].dropna().apply(lambda x:eval(x)).apply(less_than_2_evolutions)"
   ]
  },
  {
   "cell_type": "code",
   "execution_count": 219,
   "id": "9fb98a2f",
   "metadata": {},
   "outputs": [],
   "source": [
    "def less_than_2_evolutions(x):\n",
    "    if len(x)<=2:\n",
    "        return x"
   ]
  },
  {
   "cell_type": "code",
   "execution_count": 277,
   "id": "cec2fd5f",
   "metadata": {},
   "outputs": [
    {
     "data": {
      "image/png": "[encoded data removed]",
      "text/plain": [
       "<Figure size 432x288 with 1 Axes>"
      ]
     },
     "metadata": {
      "needs_background": "light"
     },
     "output_type": "display_data"
    }
   ],
   "source": [
    "\n",
    "less_than_2_evolutions= 70\n",
    "total = 151\n",
    "\n",
    "\n",
    "labels = ['less_than_2_evolutions', 'total']\n",
    "values = [less_than_2_evolutions, total]\n",
    "\n",
    "plt.bar(labels, values)\n",
    "\n",
    "\n",
    "plt.xlabel('Count')\n",
    "plt.title('Comparison: less_than_2_evolutions vs Total')\n",
    "\n",
    "plt.show()"
   ]
  },
  {
   "cell_type": "markdown",
   "id": "e125f491",
   "metadata": {},
   "source": [
    "70 has less than 2 evolution"
   ]
  },
  {
   "cell_type": "markdown",
   "id": "ca127f47",
   "metadata": {},
   "source": [
    "5. Get all Pokemons whose spawn time is less than 300 seconds"
   ]
  },
  {
   "cell_type": "code",
   "execution_count": 246,
   "id": "4f7d16ae",
   "metadata": {},
   "outputs": [
    {
     "data": {
      "text/plain": [
       "75"
      ]
     },
     "execution_count": 246,
     "metadata": {},
     "output_type": "execute_result"
    }
   ],
   "source": [
    "df['spawn_time'].dropna().apply(total_spawn_seconds)[df['spawn_time'].dropna().apply(total_spawn_seconds)<300].count()"
   ]
  },
  {
   "cell_type": "code",
   "execution_count": 237,
   "id": "40643aed",
   "metadata": {},
   "outputs": [],
   "source": [
    "def total_spawn_seconds(x):\n",
    "    return int(x.split(\":\")[0])*60 + int(x.split(\":\")[1])"
   ]
  },
  {
   "cell_type": "code",
   "execution_count": 278,
   "id": "9f69a4b0",
   "metadata": {},
   "outputs": [
    {
     "data": {
      "image/png": "[encoded data removed]",
      "text/plain": [
       "<Figure size 432x288 with 1 Axes>"
      ]
     },
     "metadata": {
      "needs_background": "light"
     },
     "output_type": "display_data"
    }
   ],
   "source": [
    "spawn_less_than_300= 75\n",
    "total = 151\n",
    "\n",
    "\n",
    "labels = ['spawn_less_than_300', 'total']\n",
    "values = [spawn_less_than_300, total]\n",
    "\n",
    "plt.bar(labels, values)\n",
    "\n",
    "\n",
    "plt.xlabel('Count')\n",
    "plt.title('Comparison: spawn_less_than_300 vs Total')\n",
    "\n",
    "plt.show()"
   ]
  },
  {
   "cell_type": "markdown",
   "id": "5732d110",
   "metadata": {},
   "source": [
    "75 Pokemons has spawn time less than 300 seconds"
   ]
  },
  {
   "cell_type": "markdown",
   "id": "6a2ca0b9",
   "metadata": {},
   "source": [
    "6.  Get all Pokemon who have more than two types of capabilities"
   ]
  },
  {
   "cell_type": "code",
   "execution_count": 255,
   "id": "2b2c502d",
   "metadata": {},
   "outputs": [
    {
     "data": {
      "text/plain": [
       "0"
      ]
     },
     "execution_count": 255,
     "metadata": {},
     "output_type": "execute_result"
    }
   ],
   "source": [
    "df['type'].apply(lambda x:eval(x)).apply(more_than_2_capabilities).count()"
   ]
  },
  {
   "cell_type": "code",
   "execution_count": 279,
   "id": "d1f88bac",
   "metadata": {},
   "outputs": [
    {
     "data": {
      "image/png": "[encoded data removed]",
      "text/plain": [
       "<Figure size 432x288 with 1 Axes>"
      ]
     },
     "metadata": {
      "needs_background": "light"
     },
     "output_type": "display_data"
    }
   ],
   "source": [
    "more_than_2_capabilities= 0\n",
    "total = 151\n",
    "\n",
    "\n",
    "labels = ['more_than_2_capabilities', 'total']\n",
    "values = [more_than_2_capabilities, total]\n",
    "\n",
    "plt.bar(labels, values)\n",
    "\n",
    "\n",
    "plt.xlabel('Count')\n",
    "plt.title('Comparison: more_than_2_capabilities vs Total')\n",
    "\n",
    "plt.show()"
   ]
  },
  {
   "cell_type": "code",
   "execution_count": 253,
   "id": "2a475aeb",
   "metadata": {},
   "outputs": [],
   "source": [
    "def more_than_2_capabilities(x):\n",
    "    if len(x)>2:\n",
    "        return x"
   ]
  },
  {
   "cell_type": "markdown",
   "id": "970330e2",
   "metadata": {},
   "source": [
    "None of the pokemons has more than 2 capabilities"
   ]
  },
  {
   "cell_type": "markdown",
   "id": "8ecfcddf",
   "metadata": {},
   "source": [
    "Question 7 -\n",
    "Using the data from Question 4, write code to analyze the data and answer the following questions Note -\n",
    "1. Draw plots to demonstrate the analysis for the following questions for better visualizations\n",
    "2. Write code comments wherever required for code understanding\n",
    "Insights to be drawn -\n",
    "\n",
    "● Get all the Earth meteorites that fell before the year 2000\n",
    "\n",
    "● Get all the earth meteorites co-ordinates who fell before the year 1970\n",
    "\n",
    "● Assuming that the mass of the earth meteorites was in kg, get all those whose mass was more\n",
    "than 10000kg"
   ]
  },
  {
   "cell_type": "markdown",
   "id": "befa7ef9",
   "metadata": {},
   "source": [
    "● Get all the Earth meteorites that fell before the year 2000"
   ]
  },
  {
   "cell_type": "code",
   "execution_count": 280,
   "id": "5caff4f8",
   "metadata": {},
   "outputs": [],
   "source": [
    "df=pd.read_csv('C:\\\\Users\\\\DELL\\\\Downloads\\\\Inueron assignment\\\\machine learning\\\\sample.csv')"
   ]
  },
  {
   "cell_type": "code",
   "execution_count": 296,
   "id": "7d3a0943",
   "metadata": {},
   "outputs": [
    {
     "data": {
      "text/plain": [
       "882"
      ]
     },
     "execution_count": 296,
     "metadata": {},
     "output_type": "execute_result"
    }
   ],
   "source": [
    "meteors_before_2000=pd.to_datetime(df['year'])[pd.to_datetime(df['year']).dt.year<2000].count()\n",
    "meteors_before_2000"
   ]
  },
  {
   "cell_type": "code",
   "execution_count": 289,
   "id": "120854dd",
   "metadata": {},
   "outputs": [
    {
     "data": {
      "text/plain": [
       "948"
      ]
     },
     "execution_count": 289,
     "metadata": {},
     "output_type": "execute_result"
    }
   ],
   "source": [
    "df.year.count()"
   ]
  },
  {
   "cell_type": "code",
   "execution_count": 329,
   "id": "53e4b579",
   "metadata": {},
   "outputs": [
    {
     "data": {
      "image/png": "[encoded data removed]",
      "text/plain": [
       "<Figure size 432x288 with 1 Axes>"
      ]
     },
     "metadata": {
      "needs_background": "light"
     },
     "output_type": "display_data"
    }
   ],
   "source": [
    "meteors_before_2000 =882 \n",
    "total = 948\n",
    "\n",
    "labels = ['meteors_before_2000', 'total']\n",
    "values = [meteors_before_2000, total]\n",
    "\n",
    "\n",
    "plt.bar(labels,values)\n",
    "\n",
    "\n",
    "plt.title('Comparison: meteors_before_2000 vs Total')\n",
    "\n",
    "\n",
    "plt.show()"
   ]
  },
  {
   "cell_type": "markdown",
   "id": "e61e3093",
   "metadata": {},
   "source": [
    "● Get all the earth meteorites co-ordinates who fell before the year 1970"
   ]
  },
  {
   "cell_type": "code",
   "execution_count": 316,
   "id": "8dc0b116",
   "metadata": {},
   "outputs": [
    {
     "data": {
      "text/plain": [
       "0          [6.08333, 50.775]\n",
       "1       [10.23333, 56.18333]\n",
       "2           [-113, 54.21667]\n",
       "4        [-64.95, -33.16667]\n",
       "5               [71.8, 32.1]\n",
       "               ...          \n",
       "953             [35.2, 54.5]\n",
       "954     [79.41667, 13.63333]\n",
       "956    [111.53333, -7.08333]\n",
       "957    [106.58333, -6.66667]\n",
       "958        [34.76667, 47.85]\n",
       "Name: geolocation, Length: 739, dtype: object"
      ]
     },
     "execution_count": 316,
     "metadata": {},
     "output_type": "execute_result"
    }
   ],
   "source": [
    "df['geolocation'][pd.to_datetime(df['year']).dt.year<1970].apply(lambda x:eval(x)).apply(lambda x:x['coordinates'])"
   ]
  },
  {
   "cell_type": "code",
   "execution_count": 317,
   "id": "e83f22a5",
   "metadata": {},
   "outputs": [
    {
     "data": {
      "text/plain": [
       "0      1880-01-01\n",
       "1      1951-01-01\n",
       "2      1952-01-01\n",
       "3      1976-01-01\n",
       "4      1902-01-01\n",
       "          ...    \n",
       "954    1934-01-01\n",
       "955    2011-01-01\n",
       "956    1869-01-01\n",
       "957    1922-01-01\n",
       "958    1905-01-01\n",
       "Name: year, Length: 959, dtype: object"
      ]
     },
     "execution_count": 317,
     "metadata": {},
     "output_type": "execute_result"
    }
   ],
   "source": [
    "df['year']"
   ]
  },
  {
   "cell_type": "code",
   "execution_count": 318,
   "id": "b1462efa",
   "metadata": {},
   "outputs": [
    {
     "data": {
      "image/png": "[encoded data removed]",
      "text/plain": [
       "<Figure size 432x288 with 1 Axes>"
      ]
     },
     "metadata": {
      "needs_background": "light"
     },
     "output_type": "display_data"
    }
   ],
   "source": [
    "meteors_cord_1970 =739\n",
    "total = 958\n",
    "\n",
    "labels = ['meteors_cord_1970', 'total']\n",
    "values = [meteors_cord_1970, total]\n",
    "\n",
    "\n",
    "plt.bar(labels,values)\n",
    "\n",
    "\n",
    "plt.title('Comparison: meteors_cord_1970 vs Total')\n",
    "\n",
    "\n",
    "plt.show()"
   ]
  },
  {
   "cell_type": "markdown",
   "id": "317b5af0",
   "metadata": {},
   "source": [
    "● Assuming that the mass of the earth meteorites was in kg, get all those whose mass was more\n",
    "than 10000kg"
   ]
  },
  {
   "cell_type": "code",
   "execution_count": 324,
   "id": "21200167",
   "metadata": {},
   "outputs": [
    {
     "data": {
      "text/plain": [
       "243"
      ]
     },
     "execution_count": 324,
     "metadata": {},
     "output_type": "execute_result"
    }
   ],
   "source": [
    "mass_10000=df['mass'][df['mass']>10000].count()"
   ]
  },
  {
   "cell_type": "code",
   "execution_count": 327,
   "id": "b83c4212",
   "metadata": {},
   "outputs": [
    {
     "data": {
      "text/plain": [
       "959"
      ]
     },
     "execution_count": 327,
     "metadata": {},
     "output_type": "execute_result"
    }
   ],
   "source": [
    "df['mass'].count()"
   ]
  },
  {
   "cell_type": "code",
   "execution_count": 330,
   "id": "46a59ad5",
   "metadata": {},
   "outputs": [
    {
     "data": {
      "image/png": "[encoded data removed]",
      "text/plain": [
       "<Figure size 432x288 with 1 Axes>"
      ]
     },
     "metadata": {
      "needs_background": "light"
     },
     "output_type": "display_data"
    }
   ],
   "source": [
    "mass_10000 =243\n",
    "total = 959\n",
    "\n",
    "labels = ['mass_10000', 'total']\n",
    "values = [mass_10000, total]\n",
    "\n",
    "\n",
    "plt.bar(labels,values)\n",
    "\n",
    "\n",
    "plt.title('Comparison: mass_10000 vs Total')\n",
    "\n",
    "\n",
    "plt.show()"
   ]
  },
  {
   "cell_type": "code",
   "execution_count": null,
   "id": "193e11b7",
   "metadata": {},
   "outputs": [],
   "source": []
  }
 ],
 "metadata": {
  "kernelspec": {
   "display_name": "Python 3 (ipykernel)",
   "language": "python",
   "name": "python3"
  },
  "language_info": {
   "codemirror_mode": {
    "name": "ipython",
    "version": 3
   },
   "file_extension": ".py",
   "mimetype": "text/x-python",
   "name": "python",
   "nbconvert_exporter": "python",
   "pygments_lexer": "ipython3",
   "version": "3.9.12"
  }
 },
 "nbformat": 4,
 "nbformat_minor": 5
}
