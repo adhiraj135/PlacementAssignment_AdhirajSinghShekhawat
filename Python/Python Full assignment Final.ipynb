{
 "cells": [
  {
   "cell_type": "markdown",
   "id": "3c28d46c",
   "metadata": {},
   "source": [
    "# Question 1: -\n",
    "Write a program that takes a string as input, and counts the frequency of each word in the string, there might\n",
    "be repeated characters in the string. Your task is to find the highest frequency and returns the length of the\n",
    "highest-frequency word."
   ]
  },
  {
   "cell_type": "markdown",
   "id": "60c2852a",
   "metadata": {},
   "source": [
    "# ANSWER 1 ."
   ]
  },
  {
   "cell_type": "code",
   "execution_count": 27,
   "id": "d317ac80",
   "metadata": {},
   "outputs": [],
   "source": [
    "def count_highest_frequency(string):\n",
    "    d={}\n",
    "    l=[]\n",
    "    for i in string.split(' '):\n",
    "        d[len(str(i))]=string.split(' ').count(i)\n",
    "    return max(d)"
   ]
  },
  {
   "cell_type": "code",
   "execution_count": 28,
   "id": "05965414",
   "metadata": {},
   "outputs": [
    {
     "data": {
      "text/plain": [
       "6"
      ]
     },
     "execution_count": 28,
     "metadata": {},
     "output_type": "execute_result"
    }
   ],
   "source": [
    "count_highest_frequency(\"writes writes writes all the number from from from 1 to 100\")"
   ]
  },
  {
   "cell_type": "code",
   "execution_count": 29,
   "id": "8569afe6",
   "metadata": {},
   "outputs": [
    {
     "data": {
      "text/plain": [
       "7"
      ]
     },
     "execution_count": 29,
     "metadata": {},
     "output_type": "execute_result"
    }
   ],
   "source": [
    "count_highest_frequency(\"I I I am a studen studen studen of Inueron Inueron Inueron\")"
   ]
  },
  {
   "cell_type": "code",
   "execution_count": 31,
   "id": "8192cf0c",
   "metadata": {},
   "outputs": [
    {
     "data": {
      "text/plain": [
       "5"
      ]
     },
     "execution_count": 31,
     "metadata": {},
     "output_type": "execute_result"
    }
   ],
   "source": [
    "count_highest_frequency(\"the are three 10 10 10 three 100 100 100 and no 10000 10000 10000 in 1 to 100\")"
   ]
  },
  {
   "cell_type": "markdown",
   "id": "349175dc",
   "metadata": {},
   "source": [
    "# Question 3: -\n",
    "Write a program, which would download the data from the provided link, and then read the data and convert\n",
    "that into properly structured data and return it in Excel format."
   ]
  },
  {
   "cell_type": "markdown",
   "id": "ccc284e4",
   "metadata": {},
   "source": [
    "# ANSWER 3 ."
   ]
  },
  {
   "cell_type": "code",
   "execution_count": 6,
   "id": "a51b94e7",
   "metadata": {},
   "outputs": [],
   "source": [
    "import requests\n",
    "import json\n",
    "import pandas as pd"
   ]
  },
  {
   "cell_type": "code",
   "execution_count": 28,
   "id": "19945337",
   "metadata": {},
   "outputs": [],
   "source": [
    "def fetch_from_url_to_excel(link):\n",
    "    response=requests.get(link)\n",
    "    if response.status_code==200:\n",
    "        with open(\"sample.json\",\"wb\") as file:\n",
    "            file.write(response.content)\n",
    "            file.close()\n",
    "        with open('sample.json',\"rb\") as file:\n",
    "            data=json.load(file)\n",
    "            df=pd.DataFrame(data['pokemon'])\n",
    "            file.close()\n",
    "        df.to_excel('C:\\\\Users\\\\DELL\\\\Downloads\\\\Inueron assignment\\\\machine learning\\\\pokemon.xlsx',index=False,header=True)\n",
    "        \n",
    "    "
   ]
  },
  {
   "cell_type": "code",
   "execution_count": 29,
   "id": "09ab22b0",
   "metadata": {},
   "outputs": [],
   "source": [
    "fetch_from_url('https://raw.githubusercontent.com/Biuni/PokemonGO-Pokedex/master/pokedex.json')\n",
    "        "
   ]
  },
  {
   "cell_type": "markdown",
   "id": "8c04195b",
   "metadata": {},
   "source": [
    "# Question 4 -\n",
    "Write a program to download the data from the link given below and then read the data and convert the into\n",
    "the proper structure and return it as a CSV file."
   ]
  },
  {
   "cell_type": "markdown",
   "id": "4cd442be",
   "metadata": {},
   "source": [
    "# ANSWER 4 ."
   ]
  },
  {
   "cell_type": "code",
   "execution_count": 73,
   "id": "5dc7555c",
   "metadata": {},
   "outputs": [],
   "source": [
    "def fetch_from_url_to_csv(link):\n",
    "    response=requests.get(link)\n",
    "    if response.status_code==200:\n",
    "        with open(\"sample.json\",\"wb\") as file:\n",
    "            file.write(response.content)\n",
    "            file.close()\n",
    "        with open('sample.json',\"rb\") as file:\n",
    "            data=json.load(file)\n",
    "            df=pd.DataFrame(data)\n",
    "            df.drop(columns=[':@computed_region_cbhk_fwbd',':@computed_region_nnqa_25f4'],axis=1,inplace=True)\n",
    "            df.dropna(inplace=True)\n",
    "            df['year'] = pd.to_datetime(df['year'], errors='coerce')\n",
    "            file.close()\n",
    "        df.to_csv('C:\\\\Users\\\\DELL\\\\Downloads\\\\Inueron assignment\\\\machine learning\\\\sample.csv',header=True,index=False)"
   ]
  },
  {
   "cell_type": "code",
   "execution_count": 74,
   "id": "3db881a7",
   "metadata": {},
   "outputs": [],
   "source": [
    "fetch_from_url_to_csv('https://data.nasa.gov/resource/y77d-th95.json')"
   ]
  },
  {
   "cell_type": "markdown",
   "id": "b923cf21",
   "metadata": {},
   "source": [
    "\n",
    "# Question 5 -\n",
    "Write a program to download the data from the given API link and then extract the following data with\n",
    "proper formatting\n",
    "Link - http://api.tvmaze.com/singlesearch/shows?q=westworld&embed=episodes"
   ]
  },
  {
   "cell_type": "markdown",
   "id": "a037fe28",
   "metadata": {},
   "source": [
    "# ANSWER 5 ."
   ]
  },
  {
   "cell_type": "code",
   "execution_count": 110,
   "id": "944834b8",
   "metadata": {},
   "outputs": [],
   "source": [
    "def fetch_from_api_to_csv(link):\n",
    "    response=requests.get('http://api.tvmaze.com/singlesearch/shows?q=westworld&embed=episodes')\n",
    "    if response.status_code==200:\n",
    "        with open(\"sample.json1\",\"wb\") as file:\n",
    "            file.write(response.content)\n",
    "            file.close()\n",
    "        with open('sample.json1',\"rb\") as file:\n",
    "            data=json.load(file)\n",
    "            df=pd.DataFrame(data['_embedded']['episodes'])\n",
    "            df['airdate']=pd.to_datetime(df['airdate'])\n",
    "            df['airtime'] = pd.to_datetime(df['airtime']).dt.strftime('%H:%M')\n",
    "\n",
    "            file.close()\n",
    "        df.to_csv('C:\\\\Users\\\\DELL\\\\Downloads\\\\Inueron assignment\\\\machine learning\\\\season_description.csv',header=True,index=False)"
   ]
  },
  {
   "cell_type": "code",
   "execution_count": 111,
   "id": "2c46e32c",
   "metadata": {},
   "outputs": [],
   "source": [
    "fetch_from_api_to_csv('http://api.tvmaze.com/singlesearch/shows?q=westworld&embed=episodes')"
   ]
  },
  {
   "cell_type": "markdown",
   "id": "6853bc0b",
   "metadata": {},
   "source": [
    "# Question 6 -\n",
    "Using the data from Question 3, write code to analyze the data and answer the following questions Note 1.\n",
    "Draw plots to demonstrate the analysis for the following questions for better visualizations.\n"
   ]
  },
  {
   "cell_type": "markdown",
   "id": "e1ef5ea8",
   "metadata": {},
   "source": [
    "# ANSWER 6 ."
   ]
  },
  {
   "cell_type": "code",
   "execution_count": 256,
   "id": "43a8c983",
   "metadata": {},
   "outputs": [],
   "source": [
    "import matplotlib.pyplot as plt\n",
    "import seaborn as sns\n"
   ]
  },
  {
   "cell_type": "code",
   "execution_count": 113,
   "id": "137ab531",
   "metadata": {},
   "outputs": [],
   "source": [
    "df=pd.read_excel('C:\\\\Users\\\\DELL\\\\Downloads\\\\Inueron assignment\\\\machine learning\\\\pokemon.xlsx')"
   ]
  },
  {
   "cell_type": "markdown",
   "id": "9b8652a3",
   "metadata": {},
   "source": [
    "1. Get all Pokemons whose spawn rate is less than 5%"
   ]
  },
  {
   "cell_type": "code",
   "execution_count": 262,
   "id": "4ab291fe",
   "metadata": {},
   "outputs": [],
   "source": [
    "total_spawn_rate=df['spawn_chance'].count()"
   ]
  },
  {
   "cell_type": "code",
   "execution_count": 265,
   "id": "dda040c4",
   "metadata": {},
   "outputs": [
    {
     "data": {
      "text/plain": [
       "65"
      ]
     },
     "execution_count": 265,
     "metadata": {},
     "output_type": "execute_result"
    }
   ],
   "source": [
    "spawn_less_than_5percent=df['spawn_chance'][df['spawn_chance']<0.05].count()\n",
    "spawn_less_than_5percent"
   ]
  },
  {
   "cell_type": "code",
   "execution_count": 268,
   "id": "5e5e7941",
   "metadata": {},
   "outputs": [
    {
     "data": {
      "image/png": "[encoded data removed]",
      "text/plain": [
       "<Figure size 432x288 with 1 Axes>"
      ]
     },
     "metadata": {
      "needs_background": "light"
     },
     "output_type": "display_data"
    }
   ],
   "source": [
    "\n",
    "spawn_less_than_5percent = 65\n",
    "total_spawn_rate = 151\n",
    "\n",
    "\n",
    "labels = ['Spawn Less Than 5%', 'Total Spawn Rate']\n",
    "values = [spawn_less_than_5percent, total_spawn_rate]\n",
    "\n",
    "plt.bar(labels, values)\n",
    "\n",
    "\n",
    "plt.xlabel('Count')\n",
    "plt.title('Comparison: Spawn Less Than 5% vs Total Spawn Rate')\n",
    "\n",
    "\n",
    "plt.show()"
   ]
  },
  {
   "cell_type": "markdown",
   "id": "fd9ebd09",
   "metadata": {},
   "source": [
    "out of 151, 65 has less spawn rate than 5 percent"
   ]
  },
  {
   "cell_type": "markdown",
   "id": "40569005",
   "metadata": {},
   "source": [
    "2. Get all Pokemons that have less than 4 weaknesses"
   ]
  },
  {
   "cell_type": "code",
   "execution_count": 163,
   "id": "1aac4576",
   "metadata": {},
   "outputs": [],
   "source": [
    "df['weaknesses']=df['weaknesses'].apply(lambda x: eval(x))\n",
    "\n",
    "    "
   ]
  },
  {
   "cell_type": "code",
   "execution_count": 269,
   "id": "22f57b78",
   "metadata": {},
   "outputs": [],
   "source": [
    "total_weakness=df['weaknesses'].count()"
   ]
  },
  {
   "cell_type": "code",
   "execution_count": 270,
   "id": "820159fc",
   "metadata": {},
   "outputs": [],
   "source": [
    "def less_than_4_weakness(x):\n",
    "    if len(x)<4:\n",
    "        return x"
   ]
  },
  {
   "cell_type": "code",
   "execution_count": 271,
   "id": "604581d8",
   "metadata": {},
   "outputs": [],
   "source": [
    "less_than_4_weakness=df['weaknesses'].apply(less_than_4_weakness).count()"
   ]
  },
  {
   "cell_type": "code",
   "execution_count": 273,
   "id": "a1335ecd",
   "metadata": {},
   "outputs": [
    {
     "name": "stdout",
     "output_type": "stream",
     "text": [
      "Pokemons that have less than 4 weaknesses are 102\n"
     ]
    }
   ],
   "source": [
    "print(\"Pokemons that have less than 4 weaknesses are\",less_than_4_weakness)"
   ]
  },
  {
   "cell_type": "code",
   "execution_count": 275,
   "id": "72fd72ef",
   "metadata": {},
   "outputs": [
    {
     "data": {
      "image/png": "[encoded data removed]",
      "text/plain": [
       "<Figure size 432x288 with 1 Axes>"
      ]
     },
     "metadata": {
      "needs_background": "light"
     },
     "output_type": "display_data"
    }
   ],
   "source": [
    "\n",
    "less_than_4_weakness= 102\n",
    "total = 151\n",
    "\n",
    "\n",
    "labels = ['weakness Less Than 4', 'total']\n",
    "values = [less_than_4_weakness, total]\n",
    "\n",
    "plt.bar(labels, values)\n",
    "\n",
    "\n",
    "plt.xlabel('Count')\n",
    "plt.title('Comparison: less_than_4_weakness vs Total')\n",
    "\n",
    "plt.show()"
   ]
  },
  {
   "cell_type": "markdown",
   "id": "369422c7",
   "metadata": {},
   "source": [
    "3. Get all Pokemons that have no multipliers at all"
   ]
  },
  {
   "cell_type": "code",
   "execution_count": 206,
   "id": "abe12b11",
   "metadata": {},
   "outputs": [
    {
     "data": {
      "text/plain": [
       "81"
      ]
     },
     "execution_count": 206,
     "metadata": {},
     "output_type": "execute_result"
    }
   ],
   "source": [
    "df['multipliers'].isnull().sum()"
   ]
  },
  {
   "cell_type": "code",
   "execution_count": 276,
   "id": "57ed4431",
   "metadata": {},
   "outputs": [
    {
     "data": {
      "image/png": "[encoded data removed]",
      "text/plain": [
       "<Figure size 432x288 with 1 Axes>"
      ]
     },
     "metadata": {
      "needs_background": "light"
     },
     "output_type": "display_data"
    }
   ],
   "source": [
    "\n",
    "no_multipliers= 82\n",
    "total = 151\n",
    "\n",
    "\n",
    "labels = ['no multipliers', 'total']\n",
    "values = [no_multipliers, total]\n",
    "\n",
    "plt.bar(labels, values)\n",
    "\n",
    "\n",
    "plt.xlabel('Count')\n",
    "plt.title('Comparison: no_multipliers vs Total')\n",
    "\n",
    "plt.show()"
   ]
  },
  {
   "cell_type": "markdown",
   "id": "5d214822",
   "metadata": {},
   "source": [
    "81 have no multipliers at all i.e NaN values"
   ]
  },
  {
   "cell_type": "markdown",
   "id": "0d9c0087",
   "metadata": {},
   "source": [
    "4. Get all Pokemons that do not have more than 2 evolutions"
   ]
  },
  {
   "cell_type": "code",
   "execution_count": 217,
   "id": "eae97163",
   "metadata": {},
   "outputs": [
    {
     "data": {
      "text/plain": [
       "81"
      ]
     },
     "execution_count": 217,
     "metadata": {},
     "output_type": "execute_result"
    }
   ],
   "source": [
    "df['next_evolution'].isnull().sum()"
   ]
  },
  {
   "cell_type": "code",
   "execution_count": 220,
   "id": "9c5d83b9",
   "metadata": {},
   "outputs": [
    {
     "data": {
      "text/plain": [
       "0      [{'num': '002', 'name': 'Ivysaur'}, {'num': '0...\n",
       "1                   [{'num': '003', 'name': 'Venusaur'}]\n",
       "3      [{'num': '005', 'name': 'Charmeleon'}, {'num':...\n",
       "4                  [{'num': '006', 'name': 'Charizard'}]\n",
       "6      [{'num': '008', 'name': 'Wartortle'}, {'num': ...\n",
       "                             ...                        \n",
       "132                                                 None\n",
       "137                  [{'num': '139', 'name': 'Omastar'}]\n",
       "139                 [{'num': '141', 'name': 'Kabutops'}]\n",
       "146    [{'num': '148', 'name': 'Dragonair'}, {'num': ...\n",
       "147                [{'num': '149', 'name': 'Dragonite'}]\n",
       "Name: next_evolution, Length: 70, dtype: object"
      ]
     },
     "execution_count": 220,
     "metadata": {},
     "output_type": "execute_result"
    }
   ],
   "source": [
    "df['next_evolution'].dropna().apply(lambda x:eval(x)).apply(less_than_2_evolutions)"
   ]
  },
  {
   "cell_type": "code",
   "execution_count": 219,
   "id": "860d3dfb",
   "metadata": {},
   "outputs": [],
   "source": [
    "def less_than_2_evolutions(x):\n",
    "    if len(x)<=2:\n",
    "        return x"
   ]
  },
  {
   "cell_type": "code",
   "execution_count": 277,
   "id": "d36a9184",
   "metadata": {},
   "outputs": [
    {
     "data": {
      "image/png": "[encoded data removed]",
      "text/plain": [
       "<Figure size 432x288 with 1 Axes>"
      ]
     },
     "metadata": {
      "needs_background": "light"
     },
     "output_type": "display_data"
    }
   ],
   "source": [
    "\n",
    "less_than_2_evolutions= 70\n",
    "total = 151\n",
    "\n",
    "\n",
    "labels = ['less_than_2_evolutions', 'total']\n",
    "values = [less_than_2_evolutions, total]\n",
    "\n",
    "plt.bar(labels, values)\n",
    "\n",
    "\n",
    "plt.xlabel('Count')\n",
    "plt.title('Comparison: less_than_2_evolutions vs Total')\n",
    "\n",
    "plt.show()"
   ]
  },
  {
   "cell_type": "markdown",
   "id": "01ac64bc",
   "metadata": {},
   "source": [
    "70 has less than 2 evolution"
   ]
  },
  {
   "cell_type": "markdown",
   "id": "76be36f5",
   "metadata": {},
   "source": [
    "5. Get all Pokemons whose spawn time is less than 300 seconds"
   ]
  },
  {
   "cell_type": "code",
   "execution_count": 246,
   "id": "dbd0f273",
   "metadata": {},
   "outputs": [
    {
     "data": {
      "text/plain": [
       "75"
      ]
     },
     "execution_count": 246,
     "metadata": {},
     "output_type": "execute_result"
    }
   ],
   "source": [
    "df['spawn_time'].dropna().apply(total_spawn_seconds)[df['spawn_time'].dropna().apply(total_spawn_seconds)<300].count()"
   ]
  },
  {
   "cell_type": "code",
   "execution_count": 237,
   "id": "1809f1e6",
   "metadata": {},
   "outputs": [],
   "source": [
    "def total_spawn_seconds(x):\n",
    "    return int(x.split(\":\")[0])*60 + int(x.split(\":\")[1])"
   ]
  },
  {
   "cell_type": "code",
   "execution_count": 278,
   "id": "00531f78",
   "metadata": {},
   "outputs": [
    {
     "data": {
      "image/png": "[encoded data removed]",
      "text/plain": [
       "<Figure size 432x288 with 1 Axes>"
      ]
     },
     "metadata": {
      "needs_background": "light"
     },
     "output_type": "display_data"
    }
   ],
   "source": [
    "spawn_less_than_300= 75\n",
    "total = 151\n",
    "\n",
    "\n",
    "labels = ['spawn_less_than_300', 'total']\n",
    "values = [spawn_less_than_300, total]\n",
    "\n",
    "plt.bar(labels, values)\n",
    "\n",
    "\n",
    "plt.xlabel('Count')\n",
    "plt.title('Comparison: spawn_less_than_300 vs Total')\n",
    "\n",
    "plt.show()"
   ]
  },
  {
   "cell_type": "markdown",
   "id": "7d49cea5",
   "metadata": {},
   "source": [
    "75 Pokemons has spawn time less than 300 seconds"
   ]
  },
  {
   "cell_type": "markdown",
   "id": "eaf87316",
   "metadata": {},
   "source": [
    "6.  Get all Pokemon who have more than two types of capabilities"
   ]
  },
  {
   "cell_type": "code",
   "execution_count": 255,
   "id": "9db1d5b9",
   "metadata": {},
   "outputs": [
    {
     "data": {
      "text/plain": [
       "0"
      ]
     },
     "execution_count": 255,
     "metadata": {},
     "output_type": "execute_result"
    }
   ],
   "source": [
    "df['type'].apply(lambda x:eval(x)).apply(more_than_2_capabilities).count()"
   ]
  },
  {
   "cell_type": "code",
   "execution_count": 279,
   "id": "74a5d0c6",
   "metadata": {},
   "outputs": [
    {
     "data": {
      "image/png": "[encoded data removed]",
      "text/plain": [
       "<Figure size 432x288 with 1 Axes>"
      ]
     },
     "metadata": {
      "needs_background": "light"
     },
     "output_type": "display_data"
    }
   ],
   "source": [
    "more_than_2_capabilities= 0\n",
    "total = 151\n",
    "\n",
    "\n",
    "labels = ['more_than_2_capabilities', 'total']\n",
    "values = [more_than_2_capabilities, total]\n",
    "\n",
    "plt.bar(labels, values)\n",
    "\n",
    "\n",
    "plt.xlabel('Count')\n",
    "plt.title('Comparison: more_than_2_capabilities vs Total')\n",
    "\n",
    "plt.show()"
   ]
  },
  {
   "cell_type": "code",
   "execution_count": 253,
   "id": "a3034d22",
   "metadata": {},
   "outputs": [],
   "source": [
    "def more_than_2_capabilities(x):\n",
    "    if len(x)>2:\n",
    "        return x"
   ]
  },
  {
   "cell_type": "markdown",
   "id": "ab7f16f2",
   "metadata": {},
   "source": [
    "None of the pokemons has more than 2 capabilities"
   ]
  },
  {
   "cell_type": "markdown",
   "id": "a20554f3",
   "metadata": {},
   "source": [
    "# Question 7 -\n",
    "Using the data from Question 4, write code to analyze the data and answer the following questions Note -\n",
    "1. Draw plots to demonstrate the analysis for the following questions for better visualizations\n",
    "2. Write code comments wherever required for code understanding\n",
    "Insights to be drawn -\n",
    "\n",
    "● Get all the Earth meteorites that fell before the year 2000\n",
    "\n",
    "● Get all the earth meteorites co-ordinates who fell before the year 1970\n",
    "\n",
    "● Assuming that the mass of the earth meteorites was in kg, get all those whose mass was more\n",
    "than 10000kg"
   ]
  },
  {
   "cell_type": "markdown",
   "id": "3fd6fb30",
   "metadata": {},
   "source": [
    "● Get all the Earth meteorites that fell before the year 2000"
   ]
  },
  {
   "cell_type": "markdown",
   "id": "c1e0f6a6",
   "metadata": {},
   "source": [
    "# Answer 7 ."
   ]
  },
  {
   "cell_type": "code",
   "execution_count": 280,
   "id": "2b43c56d",
   "metadata": {},
   "outputs": [],
   "source": [
    "df=pd.read_csv('C:\\\\Users\\\\DELL\\\\Downloads\\\\Inueron assignment\\\\machine learning\\\\sample.csv')"
   ]
  },
  {
   "cell_type": "code",
   "execution_count": 296,
   "id": "4002bb93",
   "metadata": {},
   "outputs": [
    {
     "data": {
      "text/plain": [
       "882"
      ]
     },
     "execution_count": 296,
     "metadata": {},
     "output_type": "execute_result"
    }
   ],
   "source": [
    "meteors_before_2000=pd.to_datetime(df['year'])[pd.to_datetime(df['year']).dt.year<2000].count()\n",
    "meteors_before_2000"
   ]
  },
  {
   "cell_type": "code",
   "execution_count": 289,
   "id": "fc532502",
   "metadata": {},
   "outputs": [
    {
     "data": {
      "text/plain": [
       "948"
      ]
     },
     "execution_count": 289,
     "metadata": {},
     "output_type": "execute_result"
    }
   ],
   "source": [
    "df.year.count()"
   ]
  },
  {
   "cell_type": "code",
   "execution_count": 329,
   "id": "120b1852",
   "metadata": {},
   "outputs": [
    {
     "data": {
      "image/png": "[encoded data removed]",
      "text/plain": [
       "<Figure size 432x288 with 1 Axes>"
      ]
     },
     "metadata": {
      "needs_background": "light"
     },
     "output_type": "display_data"
    }
   ],
   "source": [
    "meteors_before_2000 =882 \n",
    "total = 948\n",
    "\n",
    "labels = ['meteors_before_2000', 'total']\n",
    "values = [meteors_before_2000, total]\n",
    "\n",
    "\n",
    "plt.bar(labels,values)\n",
    "\n",
    "\n",
    "plt.title('Comparison: meteors_before_2000 vs Total')\n",
    "\n",
    "\n",
    "plt.show()"
   ]
  },
  {
   "cell_type": "markdown",
   "id": "c3efe02b",
   "metadata": {},
   "source": [
    "● Get all the earth meteorites co-ordinates who fell before the year 1970"
   ]
  },
  {
   "cell_type": "code",
   "execution_count": 316,
   "id": "9267ef77",
   "metadata": {},
   "outputs": [
    {
     "data": {
      "text/plain": [
       "0          [6.08333, 50.775]\n",
       "1       [10.23333, 56.18333]\n",
       "2           [-113, 54.21667]\n",
       "4        [-64.95, -33.16667]\n",
       "5               [71.8, 32.1]\n",
       "               ...          \n",
       "953             [35.2, 54.5]\n",
       "954     [79.41667, 13.63333]\n",
       "956    [111.53333, -7.08333]\n",
       "957    [106.58333, -6.66667]\n",
       "958        [34.76667, 47.85]\n",
       "Name: geolocation, Length: 739, dtype: object"
      ]
     },
     "execution_count": 316,
     "metadata": {},
     "output_type": "execute_result"
    }
   ],
   "source": [
    "df['geolocation'][pd.to_datetime(df['year']).dt.year<1970].apply(lambda x:eval(x)).apply(lambda x:x['coordinates'])"
   ]
  },
  {
   "cell_type": "code",
   "execution_count": 317,
   "id": "6d1354a8",
   "metadata": {},
   "outputs": [
    {
     "data": {
      "text/plain": [
       "0      1880-01-01\n",
       "1      1951-01-01\n",
       "2      1952-01-01\n",
       "3      1976-01-01\n",
       "4      1902-01-01\n",
       "          ...    \n",
       "954    1934-01-01\n",
       "955    2011-01-01\n",
       "956    1869-01-01\n",
       "957    1922-01-01\n",
       "958    1905-01-01\n",
       "Name: year, Length: 959, dtype: object"
      ]
     },
     "execution_count": 317,
     "metadata": {},
     "output_type": "execute_result"
    }
   ],
   "source": [
    "df['year']"
   ]
  },
  {
   "cell_type": "code",
   "execution_count": 318,
   "id": "08a664c8",
   "metadata": {},
   "outputs": [
    {
     "data": {
      "image/png": "[encoded data removed]",
      "text/plain": [
       "<Figure size 432x288 with 1 Axes>"
      ]
     },
     "metadata": {
      "needs_background": "light"
     },
     "output_type": "display_data"
    }
   ],
   "source": [
    "meteors_cord_1970 =739\n",
    "total = 958\n",
    "\n",
    "labels = ['meteors_cord_1970', 'total']\n",
    "values = [meteors_cord_1970, total]\n",
    "\n",
    "\n",
    "plt.bar(labels,values)\n",
    "\n",
    "\n",
    "plt.title('Comparison: meteors_cord_1970 vs Total')\n",
    "\n",
    "\n",
    "plt.show()"
   ]
  },
  {
   "cell_type": "markdown",
   "id": "a1b0bec9",
   "metadata": {},
   "source": [
    "● Assuming that the mass of the earth meteorites was in kg, get all those whose mass was more\n",
    "than 10000kg"
   ]
  },
  {
   "cell_type": "code",
   "execution_count": 324,
   "id": "fa651532",
   "metadata": {},
   "outputs": [
    {
     "data": {
      "text/plain": [
       "243"
      ]
     },
     "execution_count": 324,
     "metadata": {},
     "output_type": "execute_result"
    }
   ],
   "source": [
    "mass_10000=df['mass'][df['mass']>10000].count()"
   ]
  },
  {
   "cell_type": "code",
   "execution_count": 327,
   "id": "53da45d6",
   "metadata": {},
   "outputs": [
    {
     "data": {
      "text/plain": [
       "959"
      ]
     },
     "execution_count": 327,
     "metadata": {},
     "output_type": "execute_result"
    }
   ],
   "source": [
    "df['mass'].count()"
   ]
  },
  {
   "cell_type": "code",
   "execution_count": 330,
   "id": "eaac69a4",
   "metadata": {},
   "outputs": [
    {
     "data": {
      "image/png": "[encoded data removed]",
      "text/plain": [
       "<Figure size 432x288 with 1 Axes>"
      ]
     },
     "metadata": {
      "needs_background": "light"
     },
     "output_type": "display_data"
    }
   ],
   "source": [
    "mass_10000 =243\n",
    "total = 959\n",
    "\n",
    "labels = ['mass_10000', 'total']\n",
    "values = [mass_10000, total]\n",
    "\n",
    "\n",
    "plt.bar(labels,values)\n",
    "\n",
    "\n",
    "plt.title('Comparison: mass_10000 vs Total')\n",
    "\n",
    "\n",
    "plt.show()"
   ]
  },
  {
   "cell_type": "markdown",
   "id": "f003e295",
   "metadata": {},
   "source": [
    "# Question 8 -\n",
    "Using the data from Question 5, write code the analyze the data and answer the following questions Note -\n",
    "1. Draw plots to demonstrate the analysis for the following questions and better visualizations\n",
    "2. Write code comments wherever required for code understanding\n",
    "Insights to be drawn -\n",
    "\n",
    "● Get all the overall ratings for each season and using plots compare the ratings for all the\n",
    "seasons, like season 1 ratings, season 2, and so on.\n",
    "\n",
    "● Get all the episode names, whose average rating is more than 8 for every season\n",
    "\n",
    "● Get all the episode names that aired before May 2019\n",
    "\n",
    "● Get the episode name from each season with the highest and lowest rating\n",
    "\n",
    "● Get the summary for the most popular ( ratings ) episode in every season"
   ]
  },
  {
   "cell_type": "markdown",
   "id": "7fd9ea24",
   "metadata": {},
   "source": [
    "# Answer 8 ."
   ]
  },
  {
   "cell_type": "code",
   "execution_count": 331,
   "id": "c909144c",
   "metadata": {},
   "outputs": [],
   "source": [
    "df=pd.read_csv('C:\\\\Users\\\\DELL\\\\Downloads\\\\Inueron assignment\\\\machine learning\\\\season_description.csv')"
   ]
  },
  {
   "cell_type": "code",
   "execution_count": 335,
   "id": "20d3cc2a",
   "metadata": {},
   "outputs": [
    {
     "data": {
      "text/plain": [
       "array([1, 2, 3, 4], dtype=int64)"
      ]
     },
     "execution_count": 335,
     "metadata": {},
     "output_type": "execute_result"
    }
   ],
   "source": [
    "df['season'].unique()"
   ]
  },
  {
   "cell_type": "code",
   "execution_count": 342,
   "id": "fcd7f66d",
   "metadata": {},
   "outputs": [
    {
     "data": {
      "text/plain": [
       "80.9"
      ]
     },
     "execution_count": 342,
     "metadata": {},
     "output_type": "execute_result"
    }
   ],
   "source": [
    "season_1_rating=df['rating'][df['season']==1].apply(lambda x:eval(x)).apply(lambda x:x['average']).sum()\n",
    "season_1_rating"
   ]
  },
  {
   "cell_type": "code",
   "execution_count": 343,
   "id": "8347d1eb",
   "metadata": {},
   "outputs": [
    {
     "data": {
      "text/plain": [
       "80.0"
      ]
     },
     "execution_count": 343,
     "metadata": {},
     "output_type": "execute_result"
    }
   ],
   "source": [
    "season_2_rating=df['rating'][df['season']==2].apply(lambda x:eval(x)).apply(lambda x:x['average']).sum()\n",
    "season_2_rating"
   ]
  },
  {
   "cell_type": "code",
   "execution_count": 344,
   "id": "7316b146",
   "metadata": {},
   "outputs": [
    {
     "data": {
      "text/plain": [
       "62.2"
      ]
     },
     "execution_count": 344,
     "metadata": {},
     "output_type": "execute_result"
    }
   ],
   "source": [
    "season_3_rating=df['rating'][df['season']==3].apply(lambda x:eval(x)).apply(lambda x:x['average']).sum()\n",
    "season_3_rating"
   ]
  },
  {
   "cell_type": "code",
   "execution_count": 345,
   "id": "ddcff76d",
   "metadata": {},
   "outputs": [
    {
     "data": {
      "text/plain": [
       "60.3"
      ]
     },
     "execution_count": 345,
     "metadata": {},
     "output_type": "execute_result"
    }
   ],
   "source": [
    "season_4_rating=df['rating'][df['season']==4].apply(lambda x:eval(x)).apply(lambda x:x['average']).sum()\n",
    "season_4_rating"
   ]
  },
  {
   "cell_type": "code",
   "execution_count": 346,
   "id": "f2c3a6fc",
   "metadata": {},
   "outputs": [
    {
     "data": {
      "image/png": "[encoded data removed]",
      "text/plain": [
       "<Figure size 432x288 with 1 Axes>"
      ]
     },
     "metadata": {
      "needs_background": "light"
     },
     "output_type": "display_data"
    }
   ],
   "source": [
    "season_1_rating =80.9\n",
    "season_2_rating= 80.0\n",
    "season_3_rating=62.2\n",
    "season_4_rating=60.3\n",
    "\n",
    "labels = ['season_1_rating', 'season_2_rating','season_3_rating','season_4_rating']\n",
    "values = [season_1_rating, season_2_rating,season_3_rating,season_4_rating]\n",
    "\n",
    "\n",
    "plt.bar(labels,values)\n",
    "\n",
    "\n",
    "plt.title('Comparison: season_1_rating vs season_2_rating vs season_3_rating vs season_4_rating')\n",
    "\n",
    "\n",
    "plt.show()"
   ]
  },
  {
   "cell_type": "markdown",
   "id": "f02771ba",
   "metadata": {},
   "source": [
    "2.Get all the episode names, whose average rating is more than 8 for every season"
   ]
  },
  {
   "cell_type": "code",
   "execution_count": 353,
   "id": "ad842505",
   "metadata": {},
   "outputs": [
    {
     "data": {
      "text/plain": [
       "6"
      ]
     },
     "execution_count": 353,
     "metadata": {},
     "output_type": "execute_result"
    }
   ],
   "source": [
    "df['name'][df['rating'].apply(lambda x:eval(x)).apply(lambda x:x['average'])>8.0].count()"
   ]
  },
  {
   "cell_type": "code",
   "execution_count": 354,
   "id": "e4405748",
   "metadata": {},
   "outputs": [
    {
     "data": {
      "text/plain": [
       "36"
      ]
     },
     "execution_count": 354,
     "metadata": {},
     "output_type": "execute_result"
    }
   ],
   "source": [
    "df['name'].count()"
   ]
  },
  {
   "cell_type": "code",
   "execution_count": 355,
   "id": "18e5b290",
   "metadata": {},
   "outputs": [
    {
     "data": {
      "image/png": "[encoded data removed]",
      "text/plain": [
       "<Figure size 432x288 with 1 Axes>"
      ]
     },
     "metadata": {
      "needs_background": "light"
     },
     "output_type": "display_data"
    }
   ],
   "source": [
    "rating_more_than_8 =6\n",
    "total = 36\n",
    "\n",
    "labels = ['rating_more_than_8', 'total']\n",
    "values = [rating_more_than_8, total]\n",
    "\n",
    "\n",
    "plt.bar(labels,values)\n",
    "\n",
    "\n",
    "plt.title('Comparison: rating_more_than_8 vs Total')\n",
    "\n",
    "\n",
    "plt.show()"
   ]
  },
  {
   "cell_type": "markdown",
   "id": "6512ddf6",
   "metadata": {},
   "source": [
    "3. Get all the episode names that aired before May 2019"
   ]
  },
  {
   "cell_type": "code",
   "execution_count": 363,
   "id": "5903f4d2",
   "metadata": {},
   "outputs": [
    {
     "data": {
      "text/plain": [
       "20"
      ]
     },
     "execution_count": 363,
     "metadata": {},
     "output_type": "execute_result"
    }
   ],
   "source": [
    "df['name'][pd.to_datetime(df['airdate'])<pd.to_datetime('2019-05-01')].count()"
   ]
  },
  {
   "cell_type": "code",
   "execution_count": 364,
   "id": "39efb72b",
   "metadata": {},
   "outputs": [
    {
     "data": {
      "text/plain": [
       "36"
      ]
     },
     "execution_count": 364,
     "metadata": {},
     "output_type": "execute_result"
    }
   ],
   "source": [
    "df['name'].count()"
   ]
  },
  {
   "cell_type": "code",
   "execution_count": 365,
   "id": "ecfbbd92",
   "metadata": {},
   "outputs": [
    {
     "data": {
      "image/png": "[encoded data removed]",
      "text/plain": [
       "<Figure size 432x288 with 1 Axes>"
      ]
     },
     "metadata": {
      "needs_background": "light"
     },
     "output_type": "display_data"
    }
   ],
   "source": [
    "epi_before_2019 =20\n",
    "total = 36\n",
    "\n",
    "labels = ['epi_before_2019', 'total']\n",
    "values = [epi_before_2019, total]\n",
    "\n",
    "\n",
    "plt.bar(labels,values)\n",
    "\n",
    "\n",
    "plt.title('Comparison: epi_before_2019 vs Total')\n",
    "\n",
    "\n",
    "plt.show()"
   ]
  },
  {
   "cell_type": "markdown",
   "id": "17f44ddf",
   "metadata": {},
   "source": [
    "● Get the episode name from each season with the highest and lowest rating"
   ]
  },
  {
   "cell_type": "code",
   "execution_count": 380,
   "id": "1694556c",
   "metadata": {},
   "outputs": [
    {
     "data": {
      "text/plain": [
       "8.7"
      ]
     },
     "execution_count": 380,
     "metadata": {},
     "output_type": "execute_result"
    }
   ],
   "source": [
    "df[df['season']==1]['rating'].apply(lambda x:eval(x)).apply(lambda x:x['average']).max()"
   ]
  },
  {
   "cell_type": "code",
   "execution_count": 381,
   "id": "e1fd2e57",
   "metadata": {},
   "outputs": [
    {
     "data": {
      "text/plain": [
       "7.6"
      ]
     },
     "execution_count": 381,
     "metadata": {},
     "output_type": "execute_result"
    }
   ],
   "source": [
    "df[df['season']==1]['rating'].apply(lambda x:eval(x)).apply(lambda x:x['average']).min()"
   ]
  },
  {
   "cell_type": "code",
   "execution_count": 382,
   "id": "44a4cdcb",
   "metadata": {},
   "outputs": [
    {
     "data": {
      "text/plain": [
       "8.7"
      ]
     },
     "execution_count": 382,
     "metadata": {},
     "output_type": "execute_result"
    }
   ],
   "source": [
    "df[df['season']==2]['rating'].apply(lambda x:eval(x)).apply(lambda x:x['average']).max()"
   ]
  },
  {
   "cell_type": "code",
   "execution_count": 383,
   "id": "853038b0",
   "metadata": {},
   "outputs": [
    {
     "data": {
      "text/plain": [
       "7.6"
      ]
     },
     "execution_count": 383,
     "metadata": {},
     "output_type": "execute_result"
    }
   ],
   "source": [
    "df[df['season']==2]['rating'].apply(lambda x:eval(x)).apply(lambda x:x['average']).min()"
   ]
  },
  {
   "cell_type": "code",
   "execution_count": 384,
   "id": "05dd0c84",
   "metadata": {},
   "outputs": [
    {
     "data": {
      "text/plain": [
       "8.0"
      ]
     },
     "execution_count": 384,
     "metadata": {},
     "output_type": "execute_result"
    }
   ],
   "source": [
    "df[df['season']==3]['rating'].apply(lambda x:eval(x)).apply(lambda x:x['average']).max()"
   ]
  },
  {
   "cell_type": "code",
   "execution_count": 385,
   "id": "2c1a9005",
   "metadata": {},
   "outputs": [
    {
     "data": {
      "text/plain": [
       "7.5"
      ]
     },
     "execution_count": 385,
     "metadata": {},
     "output_type": "execute_result"
    }
   ],
   "source": [
    "df[df['season']==3]['rating'].apply(lambda x:eval(x)).apply(lambda x:x['average']).min()"
   ]
  },
  {
   "cell_type": "code",
   "execution_count": 386,
   "id": "e88815f6",
   "metadata": {},
   "outputs": [
    {
     "data": {
      "text/plain": [
       "7.8"
      ]
     },
     "execution_count": 386,
     "metadata": {},
     "output_type": "execute_result"
    }
   ],
   "source": [
    "df[df['season']==4]['rating'].apply(lambda x:eval(x)).apply(lambda x:x['average']).max()"
   ]
  },
  {
   "cell_type": "code",
   "execution_count": 387,
   "id": "d27ca797",
   "metadata": {},
   "outputs": [
    {
     "data": {
      "text/plain": [
       "7.1"
      ]
     },
     "execution_count": 387,
     "metadata": {},
     "output_type": "execute_result"
    }
   ],
   "source": [
    "df[df['season']==4]['rating'].apply(lambda x:eval(x)).apply(lambda x:x['average']).min()"
   ]
  },
  {
   "cell_type": "markdown",
   "id": "ea831a5c",
   "metadata": {},
   "source": [
    "● Get the summary for the most popular ( ratings ) episode in every season"
   ]
  },
  {
   "cell_type": "code",
   "execution_count": 413,
   "id": "8e8a3200",
   "metadata": {},
   "outputs": [],
   "source": [
    "df['rating']=df['rating'].apply(lambda x:eval(x)).apply(lambda x:x['average'])"
   ]
  },
  {
   "cell_type": "code",
   "execution_count": 431,
   "id": "6e4d3e6f",
   "metadata": {},
   "outputs": [
    {
     "data": {
      "text/plain": [
       "9    <p>Delores finds out the truth about William's...\n",
       "Name: summary, dtype: object"
      ]
     },
     "execution_count": 431,
     "metadata": {},
     "output_type": "execute_result"
    }
   ],
   "source": [
    "df['summary'][df['rating']==df['rating'].max()][df['season']==1]"
   ]
  },
  {
   "cell_type": "code",
   "execution_count": 441,
   "id": "768013ee",
   "metadata": {},
   "outputs": [
    {
     "data": {
      "text/plain": [
       "9    <p>Delores finds out the truth about William's...\n",
       "Name: summary, dtype: object"
      ]
     },
     "execution_count": 441,
     "metadata": {},
     "output_type": "execute_result"
    }
   ],
   "source": [
    "df[df['season']==1]['summary'][df['rating']==df[df['season']==1]['rating'].max()]"
   ]
  },
  {
   "cell_type": "code",
   "execution_count": 443,
   "id": "d1647bf5",
   "metadata": {},
   "outputs": [
    {
     "data": {
      "text/plain": [
       "17    <p>Another of Westworld's Host revolutionaries...\n",
       "Name: summary, dtype: object"
      ]
     },
     "execution_count": 443,
     "metadata": {},
     "output_type": "execute_result"
    }
   ],
   "source": [
    "df[df['season']==2]['summary'][df['rating']==df[df['season']==2]['rating'].max()]"
   ]
  },
  {
   "cell_type": "code",
   "execution_count": 442,
   "id": "e2575458",
   "metadata": {},
   "outputs": [
    {
     "data": {
      "text/plain": [
       "20    <p>If you're stuck in a loop, try walking in a...\n",
       "23        <p>The truth doesn't always set you free.</p>\n",
       "Name: summary, dtype: object"
      ]
     },
     "execution_count": 442,
     "metadata": {},
     "output_type": "execute_result"
    }
   ],
   "source": [
    "df[df['season']==3]['summary'][df['rating']==df[df['season']==3]['rating'].max()]"
   ]
  },
  {
   "cell_type": "code",
   "execution_count": 449,
   "id": "75093314",
   "metadata": {},
   "outputs": [
    {
     "data": {
      "text/plain": [
       "32    <p>God is bored.</p>\n",
       "Name: summary, dtype: object"
      ]
     },
     "execution_count": 449,
     "metadata": {},
     "output_type": "execute_result"
    }
   ],
   "source": [
    "df[df['season']==4]['summary'][df['rating']==df[df['season']==4]['rating'].max()]"
   ]
  },
  {
   "cell_type": "markdown",
   "id": "a4b36505",
   "metadata": {},
   "source": [
    "# Question 9 -\n",
    "Write a program to read the data from the following link, perform data analysis and answer the following\n",
    "questions\n",
    "\n",
    "Note -\n",
    "1. Write code comments wherever required for code understanding\n",
    "Link - https://data.wa.gov/api/views/f6w7-q2d2/rows.csv?accessType=DOWNLOAD\n",
    "Insights to be drawn -\n",
    "\n",
    "● Get all the cars and their types that do not qualify for clean alternative fuel vehicle\n",
    "\n",
    "● Get all TESLA cars with the model year, and model type made in Bothell City.\n",
    "\n",
    "● Get all the cars that have an electric range of more than 100, and were made after\n",
    "2015\n",
    "\n",
    "● Draw plots to show the distribution between city and electric vehicle type"
   ]
  },
  {
   "cell_type": "markdown",
   "id": "5827caae",
   "metadata": {},
   "source": [
    "# Answer 9 ."
   ]
  },
  {
   "cell_type": "code",
   "execution_count": 574,
   "id": "a4345280",
   "metadata": {},
   "outputs": [],
   "source": [
    "df=pd.read_csv('Downloads/Electric_Vehicle_Population_Data.csv')"
   ]
  },
  {
   "cell_type": "code",
   "execution_count": 493,
   "id": "f8c23ec2",
   "metadata": {},
   "outputs": [
    {
     "data": {
      "text/plain": [
       "VIN (1-10)                                            object\n",
       "County                                                object\n",
       "City                                                  object\n",
       "State                                                 object\n",
       "Postal Code                                          float64\n",
       "Model Year                                             int64\n",
       "Make                                                  object\n",
       "Model                                                 object\n",
       "Electric Vehicle Type                                 object\n",
       "Clean Alternative Fuel Vehicle (CAFV) Eligibility     object\n",
       "Electric Range                                         int64\n",
       "Base MSRP                                              int64\n",
       "Legislative District                                 float64\n",
       "DOL Vehicle ID                                         int64\n",
       "Vehicle Location                                      object\n",
       "Electric Utility                                      object\n",
       "2020 Census Tract                                    float64\n",
       "dtype: object"
      ]
     },
     "execution_count": 493,
     "metadata": {},
     "output_type": "execute_result"
    }
   ],
   "source": [
    "df.dtypes"
   ]
  },
  {
   "cell_type": "markdown",
   "id": "0a460ccc",
   "metadata": {},
   "source": [
    "● Get all the cars and their types that do not qualify for clean alternative fuel vehicle"
   ]
  },
  {
   "cell_type": "code",
   "execution_count": 565,
   "id": "05630026",
   "metadata": {},
   "outputs": [
    {
     "data": {
      "text/plain": [
       "16446"
      ]
     },
     "execution_count": 565,
     "metadata": {},
     "output_type": "execute_result"
    }
   ],
   "source": [
    "df['Make'][df['Clean Alternative Fuel Vehicle (CAFV) Eligibility']=='Not eligible due to low battery range'].count()"
   ]
  },
  {
   "cell_type": "code",
   "execution_count": 566,
   "id": "cd9d0c82",
   "metadata": {},
   "outputs": [
    {
     "data": {
      "text/plain": [
       "130443"
      ]
     },
     "execution_count": 566,
     "metadata": {},
     "output_type": "execute_result"
    }
   ],
   "source": [
    "df['Make'].count()"
   ]
  },
  {
   "cell_type": "code",
   "execution_count": 570,
   "id": "c6ce8fd0",
   "metadata": {},
   "outputs": [
    {
     "data": {
      "image/png": "[encoded data removed]",
      "text/plain": [
       "<Figure size 432x288 with 1 Axes>"
      ]
     },
     "metadata": {
      "needs_background": "light"
     },
     "output_type": "display_data"
    }
   ],
   "source": [
    "models_not_eligible =16446\n",
    "total = 130443\n",
    "\n",
    "labels = ['models_not_eligible ', 'total']\n",
    "values = [models_not_eligible , total]\n",
    "\n",
    "\n",
    "plt.bar(labels,values)\n",
    "\n",
    "\n",
    "plt.title('Comparison: models_not_eligible  vs Total')\n",
    "\n",
    "\n",
    "plt.show()"
   ]
  },
  {
   "cell_type": "markdown",
   "id": "ee3dbd15",
   "metadata": {},
   "source": [
    "● Get all TESLA cars with the model year, and model type made in Bothell City."
   ]
  },
  {
   "cell_type": "code",
   "execution_count": 541,
   "id": "9e1f3729",
   "metadata": {},
   "outputs": [
    {
     "data": {
      "text/html": [
       "<div>\n",
       "<style scoped>\n",
       "    .dataframe tbody tr th:only-of-type {\n",
       "        vertical-align: middle;\n",
       "    }\n",
       "\n",
       "    .dataframe tbody tr th {\n",
       "        vertical-align: top;\n",
       "    }\n",
       "\n",
       "    .dataframe thead th {\n",
       "        text-align: right;\n",
       "    }\n",
       "</style>\n",
       "<table border=\"1\" class=\"dataframe\">\n",
       "  <thead>\n",
       "    <tr style=\"text-align: right;\">\n",
       "      <th></th>\n",
       "      <th>VIN (1-10)</th>\n",
       "      <th>County</th>\n",
       "      <th>City</th>\n",
       "      <th>State</th>\n",
       "      <th>Postal Code</th>\n",
       "      <th>Model Year</th>\n",
       "      <th>Make</th>\n",
       "      <th>Model</th>\n",
       "      <th>Electric Vehicle Type</th>\n",
       "      <th>Clean Alternative Fuel Vehicle (CAFV) Eligibility</th>\n",
       "      <th>Electric Range</th>\n",
       "      <th>Base MSRP</th>\n",
       "      <th>Legislative District</th>\n",
       "      <th>DOL Vehicle ID</th>\n",
       "      <th>Vehicle Location</th>\n",
       "      <th>Electric Utility</th>\n",
       "      <th>2020 Census Tract</th>\n",
       "    </tr>\n",
       "  </thead>\n",
       "  <tbody>\n",
       "  </tbody>\n",
       "</table>\n",
       "</div>"
      ],
      "text/plain": [
       "Empty DataFrame\n",
       "Columns: [VIN (1-10), County, City, State, Postal Code, Model Year, Make, Model, Electric Vehicle Type, Clean Alternative Fuel Vehicle (CAFV) Eligibility, Electric Range, Base MSRP, Legislative District, DOL Vehicle ID, Vehicle Location, Electric Utility, 2020 Census Tract]\n",
       "Index: []"
      ]
     },
     "execution_count": 541,
     "metadata": {},
     "output_type": "execute_result"
    }
   ],
   "source": [
    "df[df['City']=='Bothell City']"
   ]
  },
  {
   "cell_type": "code",
   "execution_count": 545,
   "id": "f9900e10",
   "metadata": {},
   "outputs": [
    {
     "data": {
      "text/plain": [
       "False"
      ]
     },
     "execution_count": 545,
     "metadata": {},
     "output_type": "execute_result"
    }
   ],
   "source": [
    "'Bothell City' in df.values"
   ]
  },
  {
   "cell_type": "markdown",
   "id": "272610b2",
   "metadata": {},
   "source": [
    "Bothell City does not exist in this DataFrame"
   ]
  },
  {
   "cell_type": "markdown",
   "id": "63fd6a76",
   "metadata": {},
   "source": [
    "● Get all the cars that have an electric range of more than 100, and were made after 2015"
   ]
  },
  {
   "cell_type": "code",
   "execution_count": 568,
   "id": "6087bc20",
   "metadata": {},
   "outputs": [
    {
     "data": {
      "text/plain": [
       "34066"
      ]
     },
     "execution_count": 568,
     "metadata": {},
     "output_type": "execute_result"
    }
   ],
   "source": [
    "df['Make'][df['Model Year']>2015][df['Electric Range'][df['Model Year']>2015]>100].count()"
   ]
  },
  {
   "cell_type": "code",
   "execution_count": 569,
   "id": "e2c44867",
   "metadata": {},
   "outputs": [
    {
     "data": {
      "text/plain": [
       "130443"
      ]
     },
     "execution_count": 569,
     "metadata": {},
     "output_type": "execute_result"
    }
   ],
   "source": [
    "df['Make'].count()"
   ]
  },
  {
   "cell_type": "code",
   "execution_count": 571,
   "id": "4c8d94f3",
   "metadata": {},
   "outputs": [
    {
     "data": {
      "image/png": "[encoded data removed]",
      "text/plain": [
       "<Figure size 432x288 with 1 Axes>"
      ]
     },
     "metadata": {
      "needs_background": "light"
     },
     "output_type": "display_data"
    }
   ],
   "source": [
    "cars_ER_100 =34066\n",
    "total = 130443\n",
    "\n",
    "labels = ['cars_ER_100 ', 'total']\n",
    "values = [cars_ER_100 , total]\n",
    "\n",
    "\n",
    "plt.bar(labels,values)\n",
    "\n",
    "\n",
    "plt.title('Comparison:cars_ER_100  vs Total')\n",
    "\n",
    "\n",
    "plt.show()"
   ]
  },
  {
   "cell_type": "markdown",
   "id": "376dea0e",
   "metadata": {},
   "source": [
    "● Draw plots to show the distribution between city and electric vehicle type"
   ]
  },
  {
   "cell_type": "code",
   "execution_count": 575,
   "id": "3a6c3093",
   "metadata": {},
   "outputs": [
    {
     "data": {
      "text/plain": [
       "Index(['VIN (1-10)', 'County', 'City', 'State', 'Postal Code', 'Model Year',\n",
       "       'Make', 'Model', 'Electric Vehicle Type',\n",
       "       'Clean Alternative Fuel Vehicle (CAFV) Eligibility', 'Electric Range',\n",
       "       'Base MSRP', 'Legislative District', 'DOL Vehicle ID',\n",
       "       'Vehicle Location', 'Electric Utility', '2020 Census Tract'],\n",
       "      dtype='object')"
      ]
     },
     "execution_count": 575,
     "metadata": {},
     "output_type": "execute_result"
    }
   ],
   "source": [
    "df.columns"
   ]
  },
  {
   "cell_type": "code",
   "execution_count": 576,
   "id": "e5f3938e",
   "metadata": {},
   "outputs": [],
   "source": [
    "count_df = df.groupby(['City', 'Electric Vehicle Type']).size().reset_index(name='Count')"
   ]
  },
  {
   "cell_type": "code",
   "execution_count": 580,
   "id": "a4d09572",
   "metadata": {},
   "outputs": [
    {
     "data": {
      "text/html": [
       "<div>\n",
       "<style scoped>\n",
       "    .dataframe tbody tr th:only-of-type {\n",
       "        vertical-align: middle;\n",
       "    }\n",
       "\n",
       "    .dataframe tbody tr th {\n",
       "        vertical-align: top;\n",
       "    }\n",
       "\n",
       "    .dataframe thead th {\n",
       "        text-align: right;\n",
       "    }\n",
       "</style>\n",
       "<table border=\"1\" class=\"dataframe\">\n",
       "  <thead>\n",
       "    <tr style=\"text-align: right;\">\n",
       "      <th></th>\n",
       "      <th>City</th>\n",
       "      <th>Electric Vehicle Type</th>\n",
       "      <th>Count</th>\n",
       "    </tr>\n",
       "  </thead>\n",
       "  <tbody>\n",
       "    <tr>\n",
       "      <th>0</th>\n",
       "      <td>Aberdeen</td>\n",
       "      <td>Battery Electric Vehicle (BEV)</td>\n",
       "      <td>73</td>\n",
       "    </tr>\n",
       "    <tr>\n",
       "      <th>1</th>\n",
       "      <td>Aberdeen</td>\n",
       "      <td>Plug-in Hybrid Electric Vehicle (PHEV)</td>\n",
       "      <td>42</td>\n",
       "    </tr>\n",
       "    <tr>\n",
       "      <th>2</th>\n",
       "      <td>Acme</td>\n",
       "      <td>Battery Electric Vehicle (BEV)</td>\n",
       "      <td>3</td>\n",
       "    </tr>\n",
       "    <tr>\n",
       "      <th>3</th>\n",
       "      <td>Acme</td>\n",
       "      <td>Plug-in Hybrid Electric Vehicle (PHEV)</td>\n",
       "      <td>4</td>\n",
       "    </tr>\n",
       "    <tr>\n",
       "      <th>4</th>\n",
       "      <td>Addy</td>\n",
       "      <td>Battery Electric Vehicle (BEV)</td>\n",
       "      <td>1</td>\n",
       "    </tr>\n",
       "    <tr>\n",
       "      <th>...</th>\n",
       "      <td>...</td>\n",
       "      <td>...</td>\n",
       "      <td>...</td>\n",
       "    </tr>\n",
       "    <tr>\n",
       "      <th>1049</th>\n",
       "      <td>Yarrow Point</td>\n",
       "      <td>Plug-in Hybrid Electric Vehicle (PHEV)</td>\n",
       "      <td>24</td>\n",
       "    </tr>\n",
       "    <tr>\n",
       "      <th>1050</th>\n",
       "      <td>Yelm</td>\n",
       "      <td>Battery Electric Vehicle (BEV)</td>\n",
       "      <td>137</td>\n",
       "    </tr>\n",
       "    <tr>\n",
       "      <th>1051</th>\n",
       "      <td>Yelm</td>\n",
       "      <td>Plug-in Hybrid Electric Vehicle (PHEV)</td>\n",
       "      <td>60</td>\n",
       "    </tr>\n",
       "    <tr>\n",
       "      <th>1052</th>\n",
       "      <td>Zillah</td>\n",
       "      <td>Battery Electric Vehicle (BEV)</td>\n",
       "      <td>18</td>\n",
       "    </tr>\n",
       "    <tr>\n",
       "      <th>1053</th>\n",
       "      <td>Zillah</td>\n",
       "      <td>Plug-in Hybrid Electric Vehicle (PHEV)</td>\n",
       "      <td>5</td>\n",
       "    </tr>\n",
       "  </tbody>\n",
       "</table>\n",
       "<p>1054 rows × 3 columns</p>\n",
       "</div>"
      ],
      "text/plain": [
       "              City                   Electric Vehicle Type  Count\n",
       "0         Aberdeen          Battery Electric Vehicle (BEV)     73\n",
       "1         Aberdeen  Plug-in Hybrid Electric Vehicle (PHEV)     42\n",
       "2             Acme          Battery Electric Vehicle (BEV)      3\n",
       "3             Acme  Plug-in Hybrid Electric Vehicle (PHEV)      4\n",
       "4             Addy          Battery Electric Vehicle (BEV)      1\n",
       "...            ...                                     ...    ...\n",
       "1049  Yarrow Point  Plug-in Hybrid Electric Vehicle (PHEV)     24\n",
       "1050          Yelm          Battery Electric Vehicle (BEV)    137\n",
       "1051          Yelm  Plug-in Hybrid Electric Vehicle (PHEV)     60\n",
       "1052        Zillah          Battery Electric Vehicle (BEV)     18\n",
       "1053        Zillah  Plug-in Hybrid Electric Vehicle (PHEV)      5\n",
       "\n",
       "[1054 rows x 3 columns]"
      ]
     },
     "execution_count": 580,
     "metadata": {},
     "output_type": "execute_result"
    }
   ],
   "source": [
    "count_df\n"
   ]
  },
  {
   "cell_type": "markdown",
   "id": "b29feb9e",
   "metadata": {},
   "source": [
    "# Question 10 -\n",
    "Write a program to count the number of verbs, nouns, pronouns, and adjectives in a given particular phrase or\n",
    "paragraph, and return their respective count as a dictionary.\n"
   ]
  },
  {
   "cell_type": "markdown",
   "id": "3406d057",
   "metadata": {},
   "source": [
    "# Answer 10 ."
   ]
  },
  {
   "cell_type": "code",
   "execution_count": 587,
   "id": "0c0a8b6b",
   "metadata": {},
   "outputs": [
    {
     "name": "stderr",
     "output_type": "stream",
     "text": [
      "[nltk_data] Downloading package punkt to\n",
      "[nltk_data]     C:\\Users\\DELL\\AppData\\Roaming\\nltk_data...\n",
      "[nltk_data]   Package punkt is already up-to-date!\n",
      "[nltk_data] Downloading package averaged_perceptron_tagger to\n",
      "[nltk_data]     C:\\Users\\DELL\\AppData\\Roaming\\nltk_data...\n",
      "[nltk_data]   Unzipping taggers\\averaged_perceptron_tagger.zip.\n"
     ]
    },
    {
     "data": {
      "text/plain": [
       "True"
      ]
     },
     "execution_count": 587,
     "metadata": {},
     "output_type": "execute_result"
    }
   ],
   "source": [
    "import nltk\n",
    "nltk.download('punkt')\n",
    "nltk.download('averaged_perceptron_tagger')"
   ]
  },
  {
   "cell_type": "code",
   "execution_count": 706,
   "id": "85f1c556",
   "metadata": {},
   "outputs": [],
   "source": [
    "def get_speech_tags(string):\n",
    "    tokens=nltk.word_tokenize(string)\n",
    "    d={}\n",
    "    l=[]\n",
    "    tags=[]\n",
    "    for word,tag in nltk.pos_tag(tokens):\n",
    "        l.append(tag)\n",
    "    i = 0\n",
    "    while i < len(l):\n",
    "        j = l[i]\n",
    "        if j.startswith(\"P\"):\n",
    "            l[i] = \"pronouns\"\n",
    "            tags.append(l[i])\n",
    "            i += 1\n",
    "        elif j.startswith(\"N\"):\n",
    "            l[i] = \"nouns\"\n",
    "            tags.append(l[i])\n",
    "            i += 1\n",
    "        elif j.startswith(\"V\"):\n",
    "            l[i] = \"verbs\"\n",
    "            tags.append(l[i])\n",
    "            i += 1\n",
    "        elif j.startswith(\"J\"):\n",
    "            l[i] = \"adjectives\"\n",
    "            tags.append(l[i])\n",
    "            i += 1\n",
    "        else:\n",
    "            l.remove(j)\n",
    "            continue\n",
    "\n",
    "    for i in l:\n",
    "        d[i]=l.count(i)\n",
    "    return d\n",
    "    "
   ]
  },
  {
   "cell_type": "code",
   "execution_count": 707,
   "id": "9e4e15df",
   "metadata": {},
   "outputs": [
    {
     "data": {
      "text/plain": [
       "{'pronouns': 1, 'verbs': 3, 'adjectives': 1, 'nouns': 8}"
      ]
     },
     "execution_count": 707,
     "metadata": {},
     "output_type": "execute_result"
    }
   ],
   "source": [
    "get_speech_tags(\"I am adhiraj singh shekhawat and i am an student of Inueron enrolled in Data Science Course\")"
   ]
  },
  {
   "cell_type": "code",
   "execution_count": 708,
   "id": "89b07d40",
   "metadata": {},
   "outputs": [
    {
     "data": {
      "text/plain": [
       "{'pronouns': 1, 'verbs': 3, 'nouns': 6}"
      ]
     },
     "execution_count": 708,
     "metadata": {},
     "output_type": "execute_result"
    }
   ],
   "source": [
    "get_speech_tags(\"I am currently working in an intership project to get a hands on industry level experience\")"
   ]
  },
  {
   "cell_type": "code",
   "execution_count": null,
   "id": "43ca8c76",
   "metadata": {},
   "outputs": [],
   "source": []
  }
 ],
 "metadata": {
  "kernelspec": {
   "display_name": "Python 3 (ipykernel)",
   "language": "python",
   "name": "python3"
  },
  "language_info": {
   "codemirror_mode": {
    "name": "ipython",
    "version": 3
   },
   "file_extension": ".py",
   "mimetype": "text/x-python",
   "name": "python",
   "nbconvert_exporter": "python",
   "pygments_lexer": "ipython3",
   "version": "3.9.12"
  }
 },
 "nbformat": 4,
 "nbformat_minor": 5
}
