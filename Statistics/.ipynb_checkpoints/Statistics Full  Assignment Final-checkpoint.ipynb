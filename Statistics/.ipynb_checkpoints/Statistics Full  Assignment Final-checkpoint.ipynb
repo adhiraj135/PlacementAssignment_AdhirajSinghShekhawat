{
 "cells": [
  {
   "cell_type": "markdown",
   "id": "d9b578b3",
   "metadata": {},
   "source": [
    "# Q-1. \n",
    "A university wants to understand the relationship between the SAT scores of its\n",
    "applicants and their college GPA. They collect data on 500 students, including their SAT\n",
    "scores (out of 1600) and their college GPA (on a 4.0 scale). They find that the correlation\n",
    "coefficient between SAT scores and college GPA is 0.7. What does this correlation\n",
    "coefficient indicate about the relationship between SAT scores and college GPA?\n"
   ]
  },
  {
   "cell_type": "markdown",
   "id": "7b9280dc",
   "metadata": {},
   "source": [
    "# Answer 1 ."
   ]
  },
  {
   "cell_type": "markdown",
   "id": "7e1eaae2",
   "metadata": {},
   "source": [
    "ans.\n",
    "\n",
    "As the correlation coefficient is 0.7 it states that there is substantial positive correlation between the SAT score and GPA. It also state that there is a strong tendancy for a person with higher SAT score to have high GPA and vice versa. but this doesnot imply that a with person higher SAT score will cause a higher GPA  and vice cers some other factors can also correlate to this. "
   ]
  },
  {
   "cell_type": "markdown",
   "id": "eb66ff4b",
   "metadata": {},
   "source": [
    "# Q-2. \n",
    "Consider a dataset containing the heights (in centimeters) of 1000 individuals. The\n",
    "mean height is 170 cm with a standard deviation of 10 cm. The dataset is approximately\n",
    "normally distributed, and its skewness is approximately zero. Based on this information,\n",
    "answer the following questions:\n",
    "\n",
    "a. What percentage of individuals in the dataset have heights between 160 cm\n",
    "and 180 cm?\n",
    "\n",
    "b. If we randomly select 100 individuals from the dataset, what is the probability\n",
    "that their average height is greater than 175 cm?\n",
    "\n",
    "c. Assuming the dataset follows a normal distribution, what is the z-score\n",
    "corresponding to a height of 185 cm?\n",
    "\n",
    "d. We know that 5% of the dataset has heights below a certain value. What is\n",
    "the approximate height corresponding to this threshold?\n",
    "\n",
    "e. Calculate the coefficient of variation (CV) for the dataset.\n",
    "\n",
    "f. Calculate the skewness of the dataset and interpret the result."
   ]
  },
  {
   "cell_type": "markdown",
   "id": "4a332921",
   "metadata": {},
   "source": [
    "# Answer 2 ."
   ]
  },
  {
   "cell_type": "markdown",
   "id": "88d53000",
   "metadata": {},
   "source": [
    "a. What percentage of individuals in the dataset have heights between 160 cm and 180 cm?"
   ]
  },
  {
   "cell_type": "markdown",
   "id": "33c05afd",
   "metadata": {},
   "source": [
    "The z-score provides information about the relative position of an individual data point within the distribution. It tells us how far and in which direction a particular value deviates from the mean in terms of standard deviations.\n",
    "\n",
    "A positive z-score indicates that the observed value is above the mean of the distribution.\n",
    "\n",
    "A negative z-score indicates that the observed value is below the mean of the distribution.\n",
    "\n",
    "A z-score of 0 indicates that the observed value is exactly at the mean of the distribution.\n"
   ]
  },
  {
   "cell_type": "code",
   "execution_count": 2,
   "id": "9f025ae6",
   "metadata": {},
   "outputs": [],
   "source": [
    "SD=10\n",
    "mean=170"
   ]
  },
  {
   "cell_type": "code",
   "execution_count": 8,
   "id": "1f42b5a2",
   "metadata": {},
   "outputs": [
    {
     "data": {
      "text/plain": [
       "-1.0"
      ]
     },
     "execution_count": 8,
     "metadata": {},
     "output_type": "execute_result"
    }
   ],
   "source": [
    "z1=(160-170)/10\n",
    "z1"
   ]
  },
  {
   "cell_type": "code",
   "execution_count": 9,
   "id": "f307baf2",
   "metadata": {},
   "outputs": [
    {
     "data": {
      "text/plain": [
       "1.0"
      ]
     },
     "execution_count": 9,
     "metadata": {},
     "output_type": "execute_result"
    }
   ],
   "source": [
    "z2=(180-170)/10\n",
    "z2"
   ]
  },
  {
   "cell_type": "code",
   "execution_count": 11,
   "id": "57355f58",
   "metadata": {},
   "outputs": [],
   "source": [
    "#standard normal probabilites\n",
    "z2_score=.8413\n",
    "z1_score=.1587"
   ]
  },
  {
   "cell_type": "code",
   "execution_count": 14,
   "id": "484f405f",
   "metadata": {},
   "outputs": [
    {
     "data": {
      "text/plain": [
       "0.6826000000000001"
      ]
     },
     "execution_count": 14,
     "metadata": {},
     "output_type": "execute_result"
    }
   ],
   "source": [
    "z2_score - z1_score"
   ]
  },
  {
   "cell_type": "markdown",
   "id": "edf1b03c",
   "metadata": {},
   "source": [
    "P(160 cm ≤ X ≤ 180 cm) is 68.2%"
   ]
  },
  {
   "cell_type": "markdown",
   "id": "f99eb4a7",
   "metadata": {},
   "source": [
    "b. If we randomly select 100 individuals from the dataset, what is the probability that their average height is greater than 175 cm?\n"
   ]
  },
  {
   "cell_type": "code",
   "execution_count": 16,
   "id": "e906c9a6",
   "metadata": {},
   "outputs": [],
   "source": [
    "import numpy as np"
   ]
  },
  {
   "cell_type": "code",
   "execution_count": 15,
   "id": "c83851f7",
   "metadata": {},
   "outputs": [],
   "source": [
    "SD=10\n",
    "n=number_of_samples=100"
   ]
  },
  {
   "cell_type": "code",
   "execution_count": 18,
   "id": "a40a92f6",
   "metadata": {},
   "outputs": [
    {
     "data": {
      "text/plain": [
       "1.0"
      ]
     },
     "execution_count": 18,
     "metadata": {},
     "output_type": "execute_result"
    }
   ],
   "source": [
    "#first we will calculate standard error of the sample which is \n",
    "#SE=SD/np.sqrt(number_of_sample)\n",
    "SE=SD/np.sqrt(100)\n",
    "SE"
   ]
  },
  {
   "cell_type": "code",
   "execution_count": 20,
   "id": "feac38f4",
   "metadata": {},
   "outputs": [
    {
     "data": {
      "text/plain": [
       "5.0"
      ]
     },
     "execution_count": 20,
     "metadata": {},
     "output_type": "execute_result"
    }
   ],
   "source": [
    "z_score=(175-170)/SE\n",
    "z_score"
   ]
  },
  {
   "cell_type": "markdown",
   "id": "545dfede",
   "metadata": {},
   "source": [
    "standard normal probality of 5.0 is approximately 0.99999 which states that 99.9999% individuals will have height less than 175 cm hence if we talk about greater it would be very minute\n",
    "\n"
   ]
  },
  {
   "cell_type": "markdown",
   "id": "dd43e237",
   "metadata": {},
   "source": [
    "c. Assuming the dataset follows a normal distribution, what is the z-score corresponding to a height of 185 cm?"
   ]
  },
  {
   "cell_type": "code",
   "execution_count": 21,
   "id": "6ad66cbb",
   "metadata": {},
   "outputs": [
    {
     "data": {
      "text/plain": [
       "10"
      ]
     },
     "execution_count": 21,
     "metadata": {},
     "output_type": "execute_result"
    }
   ],
   "source": [
    "SD"
   ]
  },
  {
   "cell_type": "code",
   "execution_count": 22,
   "id": "7b2daecd",
   "metadata": {},
   "outputs": [
    {
     "data": {
      "text/plain": [
       "170"
      ]
     },
     "execution_count": 22,
     "metadata": {},
     "output_type": "execute_result"
    }
   ],
   "source": [
    "mean"
   ]
  },
  {
   "cell_type": "code",
   "execution_count": 23,
   "id": "ec440adc",
   "metadata": {},
   "outputs": [],
   "source": [
    "z_score=(185-170)/10"
   ]
  },
  {
   "cell_type": "code",
   "execution_count": 24,
   "id": "2640f3e0",
   "metadata": {},
   "outputs": [
    {
     "data": {
      "text/plain": [
       "1.5"
      ]
     },
     "execution_count": 24,
     "metadata": {},
     "output_type": "execute_result"
    }
   ],
   "source": [
    "z_score"
   ]
  },
  {
   "cell_type": "code",
   "execution_count": 25,
   "id": "960a430c",
   "metadata": {},
   "outputs": [],
   "source": [
    "#standard normal porbability is 0.9332"
   ]
  },
  {
   "cell_type": "markdown",
   "id": "bd59d121",
   "metadata": {},
   "source": [
    "d. We know that 5% of the dataset has heights below a certain value. What is the approximate height corresponding to this threshold?"
   ]
  },
  {
   "cell_type": "code",
   "execution_count": 26,
   "id": "671da577",
   "metadata": {},
   "outputs": [],
   "source": [
    "from scipy.stats import norm"
   ]
  },
  {
   "cell_type": "code",
   "execution_count": 29,
   "id": "3575f3b8",
   "metadata": {},
   "outputs": [],
   "source": [
    "zscore=norm.ppf(0.05)"
   ]
  },
  {
   "cell_type": "code",
   "execution_count": 33,
   "id": "12f83fc5",
   "metadata": {},
   "outputs": [],
   "source": [
    "zscore=-1.65"
   ]
  },
  {
   "cell_type": "code",
   "execution_count": 37,
   "id": "5163e244",
   "metadata": {},
   "outputs": [
    {
     "data": {
      "text/plain": [
       "153.5"
      ]
     },
     "execution_count": 37,
     "metadata": {},
     "output_type": "execute_result"
    }
   ],
   "source": [
    "-1.65 * 10 + 170"
   ]
  },
  {
   "cell_type": "markdown",
   "id": "7644dc99",
   "metadata": {},
   "source": [
    "e. Calculate the coefficient of variation (CV) for the dataset."
   ]
  },
  {
   "cell_type": "markdown",
   "id": "84c6cc2c",
   "metadata": {},
   "source": [
    "CV = (σ / μ) * 100"
   ]
  },
  {
   "cell_type": "code",
   "execution_count": 38,
   "id": "1eb4d38f",
   "metadata": {},
   "outputs": [],
   "source": [
    "CV=(10/170)*100"
   ]
  },
  {
   "cell_type": "code",
   "execution_count": 39,
   "id": "1b7bae4a",
   "metadata": {},
   "outputs": [
    {
     "data": {
      "text/plain": [
       "5.88235294117647"
      ]
     },
     "execution_count": 39,
     "metadata": {},
     "output_type": "execute_result"
    }
   ],
   "source": [
    "CV"
   ]
  },
  {
   "cell_type": "markdown",
   "id": "ea29118e",
   "metadata": {},
   "source": [
    "f. Calculate the skewness of the dataset and interpret the result"
   ]
  },
  {
   "cell_type": "code",
   "execution_count": 41,
   "id": "bb80e168",
   "metadata": {},
   "outputs": [],
   "source": [
    "mean=170\n",
    "standard_deviation=10\n",
    "dataset_size=1000"
   ]
  },
  {
   "cell_type": "code",
   "execution_count": 45,
   "id": "d123efaf",
   "metadata": {},
   "outputs": [
    {
     "data": {
      "text/plain": [
       "array([188.30731208, 188.16922916, 167.73300955, 158.52255494,\n",
       "       154.88815882, 159.38599773, 191.43259305, 178.80125689,\n",
       "       154.70224148, 170.14170071, 167.61715886, 151.1449196 ,\n",
       "       166.96698651, 161.19459061, 156.77887481, 173.04666018,\n",
       "       162.10738013, 168.65962321, 182.56383106, 180.25881538,\n",
       "       176.63648377, 177.21564058, 169.29858475, 177.07206545,\n",
       "       177.21172902, 157.19643517, 160.57497105, 161.29439909,\n",
       "       154.52429652, 188.93556409, 168.90842071, 175.8330788 ,\n",
       "       178.94441788, 169.61702866, 188.08906727, 171.64254219,\n",
       "       167.46842039, 157.26620803, 160.35601412, 173.21602941,\n",
       "       170.76623953, 174.74552907, 187.20893745, 166.92478263,\n",
       "       162.05164877, 175.33928167, 160.29024349, 179.36488836,\n",
       "       163.76431735, 180.56476552, 169.65212016, 162.52799933,\n",
       "       180.82532856, 164.05351107, 184.30269981, 160.53657378,\n",
       "       162.58853095, 150.81747502, 164.56202191, 174.14779929,\n",
       "       159.28816926, 155.88263231, 136.34215363, 165.60518022,\n",
       "       152.05544839, 182.26225915, 177.56144283, 172.92901529,\n",
       "       164.86938748, 163.3898618 , 181.55404478, 176.2756862 ,\n",
       "       171.31437533, 186.17460336, 174.01401284, 189.37110645,\n",
       "       166.38580025, 175.94986063, 171.69654463, 179.40636579,\n",
       "       153.3176901 , 165.44319645, 167.79910413, 173.77681407,\n",
       "       175.16352932, 155.7437937 , 164.26396711, 171.64528867,\n",
       "       175.67027739, 182.72893292, 180.54809678, 159.70171277,\n",
       "       171.20010778, 160.74790345, 175.60899841, 176.12730339,\n",
       "       160.72423887, 161.06481892, 174.61369841, 176.546932  ,\n",
       "       181.1687818 , 174.3217395 , 176.06099635, 179.36978413,\n",
       "       156.96327196, 183.47823891, 173.0610494 , 161.39022716,\n",
       "       192.96708936, 167.29969856, 181.89556719, 174.75443443,\n",
       "       168.63192198, 172.304678  , 162.1985819 , 163.13160263,\n",
       "       173.15681363, 157.31191886, 148.29732664, 162.07626748,\n",
       "       167.87485604, 173.56191702, 174.76215845, 174.27946323,\n",
       "       176.77111476, 172.28455464, 155.04738634, 174.56829226,\n",
       "       160.2077547 , 185.98539926, 175.04380746, 157.46126441,\n",
       "       155.39824524, 174.66858593, 186.97852978, 166.47662181,\n",
       "       157.81404256, 162.50847649, 174.58400678, 154.46360745,\n",
       "       165.62091929, 183.50444075, 180.62938992, 171.40913891,\n",
       "       169.57020655, 171.28218309, 180.51277065, 178.29999936,\n",
       "       157.5490465 , 178.62409704, 152.381639  , 173.36037157,\n",
       "       165.82507199, 168.16530847, 155.28255836, 154.44465327,\n",
       "       169.1063262 , 172.00027605, 166.65739079, 161.68208682,\n",
       "       163.44273868, 164.82054241, 178.71411469, 159.41149914,\n",
       "       185.06646452, 160.21353866, 170.9143301 , 163.21456729,\n",
       "       167.4143565 , 158.81904492, 150.48863922, 183.22936116,\n",
       "       183.06715997, 176.49610265, 155.59400891, 165.5300586 ,\n",
       "       156.4674551 , 186.88594697, 171.93663271, 160.87629743,\n",
       "       199.48670038, 176.10717098, 166.96713921, 170.50844956,\n",
       "       169.89740633, 174.87962829, 169.4784763 , 155.1897171 ,\n",
       "       173.7372638 , 167.4732667 , 164.59610767, 175.92769518,\n",
       "       173.50220821, 188.14982101, 170.19736185, 178.57438464,\n",
       "       179.57541112, 163.8028953 , 158.82962865, 163.41822801,\n",
       "       165.14065123, 176.8609125 , 162.26664146, 174.68639822,\n",
       "       176.04657331, 171.30467109, 175.66576038, 165.5085684 ,\n",
       "       170.35055449, 153.13519207, 173.370622  , 156.03973371,\n",
       "       177.36619282, 160.58916692, 161.48618187, 152.26986586,\n",
       "       172.21772308, 156.32855498, 170.58023636, 188.90228511,\n",
       "       173.33393463, 155.92982986, 175.37868047, 168.69335401,\n",
       "       174.17806526, 161.72214313, 179.93848181, 162.40370205,\n",
       "       159.61859214, 171.92459418, 166.17156108, 181.45629937,\n",
       "       158.54053791, 176.56495704, 181.255852  , 178.35134253,\n",
       "       178.61158779, 155.28276806, 155.41158845, 167.62907131,\n",
       "       164.2988103 , 151.40799308, 176.89853177, 160.09039072,\n",
       "       150.04083381, 155.65536592, 176.4019178 , 163.82227253,\n",
       "       169.85183892, 179.18588395, 192.61079677, 168.58924338,\n",
       "       190.71210782, 158.31832852, 157.49947463, 180.22808755,\n",
       "       172.5362738 , 175.49766672, 170.34914046, 186.63763806,\n",
       "       159.85903515, 166.93003107, 176.67190341, 159.67462794,\n",
       "       187.98601825, 169.96417747, 171.42729264, 185.86353879,\n",
       "       171.11753058, 188.00306339, 175.430943  , 187.23681361,\n",
       "       173.29850294, 164.00660233, 172.28298645, 176.40261859,\n",
       "       167.79895243, 158.69466061, 159.76080497, 172.84844315,\n",
       "       178.38347789, 155.99632927, 179.75730234, 183.68390449,\n",
       "       171.20499078, 166.85606921, 166.37357088, 177.99295034,\n",
       "       188.78548934, 163.21363291, 167.35076547, 174.38186763,\n",
       "       161.20199259, 159.43817725, 177.01116756, 163.40874142,\n",
       "       166.96465525, 184.64877013, 164.2559912 , 176.07024102,\n",
       "       163.07942291, 168.28638459, 167.77813765, 161.03641551,\n",
       "       155.84489677, 157.65700144, 170.36565107, 167.18533539,\n",
       "       172.48960367, 167.25270215, 184.14725196, 164.74295308,\n",
       "       179.86856   , 184.40368328, 181.95999752, 168.45727652,\n",
       "       184.39428896, 187.02358923, 180.11657257, 162.91469009,\n",
       "       170.32963671, 169.83749367, 191.31158743, 171.14319648,\n",
       "       165.35847261, 159.19002138, 169.32230626, 184.67982887,\n",
       "       164.5233904 , 171.3312369 , 180.28083087, 171.22040664,\n",
       "       160.73217248, 170.01706644, 176.27152616, 160.15854379,\n",
       "       178.98232581, 157.95746126, 178.94557623, 176.1783679 ,\n",
       "       187.76062605, 178.47580373, 175.25812321, 187.63391548,\n",
       "       171.28253095, 175.83309498, 176.14585846, 155.50924029,\n",
       "       188.04586138, 176.98332179, 152.54077406, 163.85288033,\n",
       "       158.01889963, 177.92719127, 146.75505839, 179.77595268,\n",
       "       154.27195186, 175.97065231, 173.58637764, 179.67187147,\n",
       "       172.87046568, 161.7369906 , 170.77227029, 164.25287035,\n",
       "       163.96957645, 180.92129627, 170.13627984, 152.51595529,\n",
       "       171.38135355, 175.4550132 , 167.17283418, 155.3777495 ,\n",
       "       173.51845465, 167.9858468 , 164.30829877, 170.75343451,\n",
       "       180.13077308, 178.64758406, 180.13987928, 165.91002208,\n",
       "       150.82378756, 178.86499003, 178.05766912, 181.52909588,\n",
       "       173.12000135, 188.02771453, 175.26542427, 163.2744838 ,\n",
       "       190.55541815, 186.72376557, 179.23317261, 176.72106857,\n",
       "       173.08915655, 171.52844818, 156.42032763, 182.41663109,\n",
       "       161.19761378, 173.16856117, 163.78350756, 163.72337351,\n",
       "       162.09602852, 178.7099359 , 189.13756463, 168.09471535,\n",
       "       166.95302139, 168.17837675, 188.39372218, 163.74939224,\n",
       "       183.62947921, 180.62443622, 179.27822592, 174.10652714,\n",
       "       170.65152887, 171.84015305, 161.96787218, 174.24513767,\n",
       "       178.14387713, 169.86684572, 179.77272958, 178.2923883 ,\n",
       "       173.34935603, 167.51817812, 162.72899943, 176.96582111,\n",
       "       176.56565752, 169.94249717, 180.82308157, 173.79806947,\n",
       "       172.46466971, 176.19341204, 170.25196478, 173.87162911,\n",
       "       158.03706367, 165.10700877, 176.04960576, 166.55375032,\n",
       "       165.54488936, 158.15791721, 182.070295  , 185.86999679,\n",
       "       189.53687908, 179.43388323, 162.51702454, 164.15656733,\n",
       "       178.08942832, 163.52090844, 160.85572113, 154.96104185,\n",
       "       147.07101754, 178.53081659, 180.97151093, 177.37592746,\n",
       "       179.48385984, 162.77295556, 176.75595425, 173.00331383,\n",
       "       171.45215978, 173.83632145, 170.76867477, 180.20902505,\n",
       "       176.81179822, 180.50655011, 162.7326288 , 171.1792402 ,\n",
       "       166.21717685, 152.1062099 , 170.67317271, 169.62460965,\n",
       "       155.99649714, 170.01778051, 176.94155577, 154.33925063,\n",
       "       172.86364766, 165.1835945 , 162.29103398, 176.6795306 ,\n",
       "       180.27445935, 170.02100864, 179.67229937, 163.34328825,\n",
       "       187.65324047, 164.4761706 , 166.28774754, 178.84000547,\n",
       "       159.54187457, 167.58345984, 160.32837256, 166.4158379 ,\n",
       "       165.85542701, 177.64708461, 171.26342552, 165.00297117,\n",
       "       185.99284551, 161.46787655, 166.65257615, 142.09665786,\n",
       "       172.20159871, 159.56990678, 167.19820055, 178.85838793,\n",
       "       182.71362145, 163.3062542 , 174.06810643, 168.67308393,\n",
       "       172.71664103, 166.23625452, 163.1785332 , 174.45979219,\n",
       "       168.3297273 , 180.12054252, 176.42564065, 176.0964152 ,\n",
       "       170.37563699, 190.58317687, 153.16196911, 157.37604037,\n",
       "       179.84647433, 164.99716892, 168.72675026, 183.92075262,\n",
       "       154.9758853 , 168.33870449, 166.69657845, 177.83380249,\n",
       "       159.57184182, 171.91173995, 175.07600639, 176.97628124,\n",
       "       181.2228266 , 156.49103241, 155.65398832, 164.23777338,\n",
       "       170.20258956, 171.40062713, 171.37907276, 169.38876038,\n",
       "       187.84417747, 187.725993  , 179.67054971, 182.25528365,\n",
       "       163.15638675, 179.30321507, 168.03814453, 173.73175789,\n",
       "       167.37167539, 172.5373505 , 180.31323082, 161.49286955,\n",
       "       180.77482283, 169.87346276, 149.5837183 , 166.81213122,\n",
       "       157.8374586 , 161.75189878, 157.02565649, 180.28524717,\n",
       "       176.96676883, 169.24979452, 171.5406847 , 170.52018339,\n",
       "       182.89908656, 187.37030605, 178.68536917, 179.986837  ,\n",
       "       185.55398741, 167.77378308, 178.88054153, 171.80523481,\n",
       "       170.1030544 , 163.40367423, 166.69495249, 148.99972195,\n",
       "       165.54145294, 161.81389973, 167.21099738, 172.3673369 ,\n",
       "       175.70459582, 180.39399588, 179.59937345, 150.23987117,\n",
       "       168.68159337, 169.09242337, 170.35204786, 173.01138856,\n",
       "       164.9625093 , 182.48534812, 175.53726042, 164.33930804,\n",
       "       175.73682614, 176.95383641, 179.49952145, 157.6318299 ,\n",
       "       146.4655479 , 179.50716376, 174.07713421, 161.27240768,\n",
       "       173.09291012, 168.84116635, 171.34103279, 173.09607669,\n",
       "       178.9388592 , 153.36511645, 177.01041699, 162.38022347,\n",
       "       171.40438109, 179.05714922, 169.4119134 , 171.57914811,\n",
       "       173.3318447 , 167.38073296, 155.09493064, 170.96042186,\n",
       "       167.85908768, 150.00530371, 157.29617112, 173.47850928,\n",
       "       150.70497935, 139.16957827, 164.89575339, 176.84178455,\n",
       "       149.32499198, 170.27493063, 172.56802079, 168.2316281 ,\n",
       "       164.28985767, 177.35498489, 165.35083187, 172.60932166,\n",
       "       166.93453096, 173.55003016, 175.93648685, 180.79478462,\n",
       "       152.67129423, 182.5029889 , 178.78399134, 170.99193527,\n",
       "       168.6147206 , 180.56481238, 175.4431914 , 171.71101816,\n",
       "       162.23653877, 172.45389682, 179.2178318 , 164.33484545,\n",
       "       157.74144463, 153.29390481, 161.27824434, 163.36030887,\n",
       "       168.12073871, 175.97273967, 157.38436267, 160.56413812,\n",
       "       154.98226391, 175.05285648, 174.11509532, 170.88922753,\n",
       "       153.95361603, 166.37564544, 153.36036883, 144.84796149,\n",
       "       175.7712073 , 165.720222  , 145.88402607, 179.137266  ,\n",
       "       179.19168292, 178.57236257, 153.91529602, 163.32890452,\n",
       "       174.80082409, 176.7658737 , 177.09281255, 176.36085199,\n",
       "       166.84397154, 154.76971856, 183.30418432, 164.45785166,\n",
       "       174.80626355, 175.82702629, 145.37627941, 175.17226008,\n",
       "       159.44196645, 166.5503215 , 144.9625139 , 177.78855448,\n",
       "       159.8114041 , 166.5506924 , 172.68054411, 156.5786069 ,\n",
       "       171.91893433, 186.8455318 , 197.07276535, 189.57114893,\n",
       "       171.81426141, 170.0625274 , 170.81096246, 165.41162529,\n",
       "       169.51448737, 165.16553561, 163.62551354, 188.65708324,\n",
       "       179.89999502, 154.49375097, 168.89692232, 183.26482627,\n",
       "       170.95188088, 168.93252825, 168.57526219, 156.69794708,\n",
       "       165.21885644, 163.82930461, 155.65213764, 169.01152316,\n",
       "       183.97081727, 186.68233514, 172.49985652, 172.03212812,\n",
       "       197.41236997, 182.89816017, 164.37355248, 157.70532986,\n",
       "       161.56425751, 177.6336106 , 162.91418467, 150.62557272,\n",
       "       166.48996577, 180.29740672, 167.56063739, 170.96015048,\n",
       "       165.70116993, 155.27946202, 169.02634215, 168.25497089,\n",
       "       169.85997364, 165.26515669, 168.68544517, 157.04650749,\n",
       "       166.87548328, 173.5583268 , 175.17063606, 159.9779948 ,\n",
       "       171.45142907, 171.24561814, 164.11109158, 177.22177939,\n",
       "       169.13256067, 170.30588555, 174.96467046, 157.10641342,\n",
       "       177.38043816, 159.65843534, 142.18601691, 179.15154639,\n",
       "       144.55920353, 184.8584296 , 169.61879505, 167.97182985,\n",
       "       176.3810476 , 180.30607913, 171.66110488, 195.77539684,\n",
       "       174.08395042, 169.57592148, 170.11583426, 164.53999389,\n",
       "       179.04964517, 170.68391773, 180.57505521, 179.60663765,\n",
       "       167.32682277, 164.06698787, 174.46189322, 171.51586781,\n",
       "       172.10140911, 167.62340023, 166.95875417, 152.33604985,\n",
       "       166.77971518, 161.58108766, 174.22437835, 163.87706048,\n",
       "       179.24217996, 173.79464183, 166.25612959, 158.90762946,\n",
       "       176.93075004, 171.35135791, 174.38117683, 176.34916611,\n",
       "       173.77309891, 173.70990168, 187.18295982, 172.25683768,\n",
       "       177.29862374, 160.82728966, 148.37781201, 159.87793894,\n",
       "       163.34619971, 174.69544485, 166.10177094, 165.32812371,\n",
       "       172.60540151, 185.43845604, 177.59140912, 150.10031103,\n",
       "       152.91625065, 160.61650148, 175.14010753, 170.10345936,\n",
       "       165.61326569, 173.61912859, 156.2386179 , 160.39340602,\n",
       "       188.60105378, 164.55010917, 167.26175315, 168.56933815,\n",
       "       174.57396395, 156.17804796, 171.53362167, 182.70026506,\n",
       "       174.26591101, 181.74871101, 176.23964404, 178.56201519,\n",
       "       155.43117809, 166.46532501, 182.41996412, 177.95436969,\n",
       "       144.68136848, 168.43517398, 168.43758194, 168.73379849,\n",
       "       189.85769365, 165.42301671, 174.87838262, 170.25233234,\n",
       "       158.21583942, 154.27530804, 170.57896433, 165.75924017,\n",
       "       155.09753361, 184.97685254, 173.68107052, 151.08755382,\n",
       "       178.25097273, 168.26617846, 163.30971953, 152.71197857,\n",
       "       179.18925451, 177.57626234, 161.22800832, 171.69274673,\n",
       "       155.68240551, 166.69017428, 185.61530163, 155.48828995,\n",
       "       182.27435481, 165.26424239, 165.53459249, 173.74468377,\n",
       "       162.74497216, 170.02440593, 152.50868271, 189.00539865,\n",
       "       168.2867833 , 176.69109865, 176.18600613, 164.14092566,\n",
       "       166.93270384, 181.66718411, 162.62653378, 164.33710651,\n",
       "       160.59525974, 164.15461817, 173.4001959 , 172.8570388 ,\n",
       "       175.66921199, 172.44177915, 170.73545935, 176.77585244,\n",
       "       160.75917599, 164.00256331, 160.2084687 , 191.95263599,\n",
       "       189.43224826, 189.81676061, 160.12731456, 173.07732204,\n",
       "       171.53497875, 185.90109763, 170.10241326, 163.55988718,\n",
       "       170.70047194, 178.80035055, 158.32879181, 162.70539083,\n",
       "       171.60462482, 158.76354984, 158.89993878, 163.42956431,\n",
       "       190.82221648, 185.55231625, 152.81735767, 172.68548416,\n",
       "       172.28718884, 175.15747822, 145.74712916, 171.36116587,\n",
       "       149.33025813, 171.69558871, 160.96771698, 174.0927428 ,\n",
       "       169.08023173, 161.21689456, 180.42056729, 159.94624423,\n",
       "       171.72036229, 163.16162708, 154.91452342, 168.19887184,\n",
       "       168.43228259, 174.08688052, 162.98254432, 179.75645816,\n",
       "       172.52178343, 169.65431086, 161.67240298, 162.52837375,\n",
       "       196.9035345 , 157.3540452 , 163.0855698 , 173.51760522,\n",
       "       172.58405695, 190.09421989, 176.60557453, 158.40028082,\n",
       "       155.22556377, 162.02983291, 173.26841523, 176.62815621,\n",
       "       149.77746777, 156.93835018, 161.05648297, 178.27104096,\n",
       "       179.65675971, 170.19830333, 159.58690865, 170.10541814,\n",
       "       163.89935685, 164.87043329, 146.58206983, 167.68827697,\n",
       "       161.0595726 , 179.38778842, 184.12885896, 180.54377452,\n",
       "       184.39398809, 145.21591558, 168.22438966, 164.16030383,\n",
       "       182.66587204, 165.89686045, 183.45381844, 162.82168935,\n",
       "       191.46794674, 190.88595084, 151.16047539, 162.57846754,\n",
       "       171.06286767, 158.7314099 , 164.99565408, 177.3656199 ,\n",
       "       187.81952952, 163.44718858, 164.72659714, 182.89794699,\n",
       "       172.11868024, 173.31642731, 157.39501944, 169.91888916,\n",
       "       206.10940971, 193.0524624 , 149.07920651, 159.48036506,\n",
       "       182.8674565 , 153.57246648, 168.95567451, 170.37324962,\n",
       "       177.52109438, 175.94092039, 166.82381886, 175.58161245,\n",
       "       182.61126686, 170.66972042, 163.37457636, 176.66361017,\n",
       "       164.65639098, 174.6804701 , 170.53228967, 167.73182056])"
      ]
     },
     "execution_count": 45,
     "metadata": {},
     "output_type": "execute_result"
    }
   ],
   "source": [
    "data=np.random.normal(mean, standard_deviation, dataset_size)\n",
    "data"
   ]
  },
  {
   "cell_type": "code",
   "execution_count": 46,
   "id": "e738ba43",
   "metadata": {},
   "outputs": [],
   "source": [
    "from scipy.stats import skew"
   ]
  },
  {
   "cell_type": "code",
   "execution_count": 47,
   "id": "1bdb0daf",
   "metadata": {},
   "outputs": [
    {
     "data": {
      "text/plain": [
       "-0.06996964429535987"
      ]
     },
     "execution_count": 47,
     "metadata": {},
     "output_type": "execute_result"
    }
   ],
   "source": [
    "skew(data)"
   ]
  },
  {
   "cell_type": "markdown",
   "id": "d53800c3",
   "metadata": {},
   "source": [
    "skewness of approx -0.07 states that somewhat slightly negatively left-skewed"
   ]
  },
  {
   "cell_type": "markdown",
   "id": "aab5dff6",
   "metadata": {},
   "source": [
    "# Q-3. \n",
    "\n",
    "Consider the ‘Blood Pressure Before’ and ‘Blood Pressure After’ columns from the\n",
    "data and calculate the following\n",
    "https://drive.google.com/file/d/1mCjtYHiX--mMUjicuaP2gH3k-SnFxt8Y/view?usp=share_\n",
    "\n",
    "a. Measure the dispersion in both and interpret the results.\n",
    "\n",
    "b. Calculate mean and 5% confidence interval and plot it in a graph\n",
    "\n",
    "c. Calculate the Mean absolute deviation and Standard deviation and interpret\n",
    "the results.\n",
    "\n",
    "d. Calculate the correlation coefficient and check the significance of it at 1% level\n",
    "of significance.\n"
   ]
  },
  {
   "cell_type": "markdown",
   "id": "d0f1f2fd",
   "metadata": {},
   "source": [
    "# Answer 3 ."
   ]
  },
  {
   "cell_type": "code",
   "execution_count": 53,
   "id": "7b4617fe",
   "metadata": {},
   "outputs": [],
   "source": [
    "import pandas as pd"
   ]
  },
  {
   "cell_type": "code",
   "execution_count": 56,
   "id": "1bd8cc1d",
   "metadata": {},
   "outputs": [],
   "source": [
    "df=pd.read_csv('Downloads/data.csv')"
   ]
  },
  {
   "cell_type": "code",
   "execution_count": 57,
   "id": "9114efbb",
   "metadata": {},
   "outputs": [],
   "source": [
    "df.drop(columns=['Patient ID'],inplace=True)"
   ]
  },
  {
   "cell_type": "code",
   "execution_count": 58,
   "id": "0721b456",
   "metadata": {},
   "outputs": [
    {
     "data": {
      "text/html": [
       "<div>\n",
       "<style scoped>\n",
       "    .dataframe tbody tr th:only-of-type {\n",
       "        vertical-align: middle;\n",
       "    }\n",
       "\n",
       "    .dataframe tbody tr th {\n",
       "        vertical-align: top;\n",
       "    }\n",
       "\n",
       "    .dataframe thead th {\n",
       "        text-align: right;\n",
       "    }\n",
       "</style>\n",
       "<table border=\"1\" class=\"dataframe\">\n",
       "  <thead>\n",
       "    <tr style=\"text-align: right;\">\n",
       "      <th></th>\n",
       "      <th>Blood Pressure Before (mmHg)</th>\n",
       "      <th>Blood Pressure After (mmHg)</th>\n",
       "    </tr>\n",
       "  </thead>\n",
       "  <tbody>\n",
       "    <tr>\n",
       "      <th>0</th>\n",
       "      <td>130</td>\n",
       "      <td>120</td>\n",
       "    </tr>\n",
       "    <tr>\n",
       "      <th>1</th>\n",
       "      <td>142</td>\n",
       "      <td>135</td>\n",
       "    </tr>\n",
       "    <tr>\n",
       "      <th>2</th>\n",
       "      <td>120</td>\n",
       "      <td>118</td>\n",
       "    </tr>\n",
       "    <tr>\n",
       "      <th>3</th>\n",
       "      <td>135</td>\n",
       "      <td>127</td>\n",
       "    </tr>\n",
       "    <tr>\n",
       "      <th>4</th>\n",
       "      <td>148</td>\n",
       "      <td>140</td>\n",
       "    </tr>\n",
       "    <tr>\n",
       "      <th>...</th>\n",
       "      <td>...</td>\n",
       "      <td>...</td>\n",
       "    </tr>\n",
       "    <tr>\n",
       "      <th>95</th>\n",
       "      <td>136</td>\n",
       "      <td>129</td>\n",
       "    </tr>\n",
       "    <tr>\n",
       "      <th>96</th>\n",
       "      <td>143</td>\n",
       "      <td>137</td>\n",
       "    </tr>\n",
       "    <tr>\n",
       "      <th>97</th>\n",
       "      <td>127</td>\n",
       "      <td>123</td>\n",
       "    </tr>\n",
       "    <tr>\n",
       "      <th>98</th>\n",
       "      <td>139</td>\n",
       "      <td>135</td>\n",
       "    </tr>\n",
       "    <tr>\n",
       "      <th>99</th>\n",
       "      <td>135</td>\n",
       "      <td>130</td>\n",
       "    </tr>\n",
       "  </tbody>\n",
       "</table>\n",
       "<p>100 rows × 2 columns</p>\n",
       "</div>"
      ],
      "text/plain": [
       "     Blood Pressure Before (mmHg)   Blood Pressure After (mmHg)\n",
       "0                             130                           120\n",
       "1                             142                           135\n",
       "2                             120                           118\n",
       "3                             135                           127\n",
       "4                             148                           140\n",
       "..                            ...                           ...\n",
       "95                            136                           129\n",
       "96                            143                           137\n",
       "97                            127                           123\n",
       "98                            139                           135\n",
       "99                            135                           130\n",
       "\n",
       "[100 rows x 2 columns]"
      ]
     },
     "execution_count": 58,
     "metadata": {},
     "output_type": "execute_result"
    }
   ],
   "source": [
    "df"
   ]
  },
  {
   "cell_type": "markdown",
   "id": "11ec9dc9",
   "metadata": {},
   "source": [
    "a. Measure the dispersion in both and interpret the results."
   ]
  },
  {
   "cell_type": "code",
   "execution_count": 97,
   "id": "43f7b630",
   "metadata": {},
   "outputs": [],
   "source": [
    "def dispersion(data,column):\n",
    "    max_value=df[column].max()\n",
    "    min_value=data[column].min()\n",
    "    ranges=data[column].max()-data[column].min()\n",
    "    mean=df[column].mean()\n",
    "    variance=data[column].var()\n",
    "    std=data[column].std()\n",
    "    CV=(std/mean)*100\n",
    "    IQR=np.percentile(data[column],75) - np.percentile(data[column],25)\n",
    "    dispersion_df = pd.DataFrame({\n",
    "    'max_value':max_value,\n",
    "    \"min_value\":min_value,\n",
    "    'Range': ranges,\n",
    "    \"Mean\": mean,\n",
    "    'Variance': variance,\n",
    "    'Standard Deviation': std,\n",
    "    'Coefficient of Variation':CV,\n",
    "    'Interquartile Range':IQR\n",
    "     },index=['measure of dispersion'])\n",
    "    return dispersion_df"
   ]
  },
  {
   "cell_type": "code",
   "execution_count": 100,
   "id": "d1009c5c",
   "metadata": {},
   "outputs": [
    {
     "data": {
      "text/plain": [
       "Index([' Blood Pressure Before (mmHg)', ' Blood Pressure After (mmHg)'], dtype='object')"
      ]
     },
     "execution_count": 100,
     "metadata": {},
     "output_type": "execute_result"
    }
   ],
   "source": [
    "df.columns"
   ]
  },
  {
   "cell_type": "code",
   "execution_count": 99,
   "id": "141577b0",
   "metadata": {},
   "outputs": [],
   "source": [
    "dispersion_Blood_Pressure_After=dispersion(df,' Blood Pressure After (mmHg)')"
   ]
  },
  {
   "cell_type": "code",
   "execution_count": 101,
   "id": "10aeb95c",
   "metadata": {},
   "outputs": [],
   "source": [
    "dispersion_Blood_Pressure_Before=dispersion(df,' Blood Pressure Before (mmHg)')"
   ]
  },
  {
   "cell_type": "code",
   "execution_count": 102,
   "id": "29517ba6",
   "metadata": {},
   "outputs": [
    {
     "data": {
      "text/html": [
       "<div>\n",
       "<style scoped>\n",
       "    .dataframe tbody tr th:only-of-type {\n",
       "        vertical-align: middle;\n",
       "    }\n",
       "\n",
       "    .dataframe tbody tr th {\n",
       "        vertical-align: top;\n",
       "    }\n",
       "\n",
       "    .dataframe thead th {\n",
       "        text-align: right;\n",
       "    }\n",
       "</style>\n",
       "<table border=\"1\" class=\"dataframe\">\n",
       "  <thead>\n",
       "    <tr style=\"text-align: right;\">\n",
       "      <th></th>\n",
       "      <th>max_value</th>\n",
       "      <th>min_value</th>\n",
       "      <th>Range</th>\n",
       "      <th>Mean</th>\n",
       "      <th>Variance</th>\n",
       "      <th>Standard Deviation</th>\n",
       "      <th>Coefficient of Variation</th>\n",
       "      <th>Interquartile Range</th>\n",
       "    </tr>\n",
       "  </thead>\n",
       "  <tbody>\n",
       "    <tr>\n",
       "      <th>measure of dispersion</th>\n",
       "      <td>148</td>\n",
       "      <td>120</td>\n",
       "      <td>28</td>\n",
       "      <td>133.91</td>\n",
       "      <td>43.537273</td>\n",
       "      <td>6.598278</td>\n",
       "      <td>4.927398</td>\n",
       "      <td>11.25</td>\n",
       "    </tr>\n",
       "  </tbody>\n",
       "</table>\n",
       "</div>"
      ],
      "text/plain": [
       "                       max_value  min_value  Range    Mean   Variance  \\\n",
       "measure of dispersion        148        120     28  133.91  43.537273   \n",
       "\n",
       "                       Standard Deviation  Coefficient of Variation  \\\n",
       "measure of dispersion            6.598278                  4.927398   \n",
       "\n",
       "                       Interquartile Range  \n",
       "measure of dispersion                11.25  "
      ]
     },
     "execution_count": 102,
     "metadata": {},
     "output_type": "execute_result"
    }
   ],
   "source": [
    "dispersion_Blood_Pressure_Before"
   ]
  },
  {
   "cell_type": "markdown",
   "id": "88718199",
   "metadata": {},
   "source": [
    "intrepretation of BP before:-\n",
    "    \n",
    "1.Variance= it quantifies the spread or dispersion of the data points around the mean. A higher variance indicates a greater variability or spread of the data, while a lower variance suggests that the data points are closer to the mean. a variance of 43.537273 indicates a moderate degree of dispersion or spread of the data points around the mean.\n",
    "\n",
    "2.Standard Deviation= it states how much away a data is away from the mean. a mean is 134 than 140.5 is 1 SD away from it\n",
    "\n",
    "3.IQR= it helps in detemining the outliers lower bound to q25-1.5*IQR and upper bound to q75+1.5*IQR\n",
    "\n",
    "4.Coefficient of variation=It provides a measure of relative variability and is useful for comparing the dispersion of datasets with different scales.\n",
    "\n"
   ]
  },
  {
   "cell_type": "code",
   "execution_count": 103,
   "id": "9809a736",
   "metadata": {},
   "outputs": [
    {
     "data": {
      "text/html": [
       "<div>\n",
       "<style scoped>\n",
       "    .dataframe tbody tr th:only-of-type {\n",
       "        vertical-align: middle;\n",
       "    }\n",
       "\n",
       "    .dataframe tbody tr th {\n",
       "        vertical-align: top;\n",
       "    }\n",
       "\n",
       "    .dataframe thead th {\n",
       "        text-align: right;\n",
       "    }\n",
       "</style>\n",
       "<table border=\"1\" class=\"dataframe\">\n",
       "  <thead>\n",
       "    <tr style=\"text-align: right;\">\n",
       "      <th></th>\n",
       "      <th>max_value</th>\n",
       "      <th>min_value</th>\n",
       "      <th>Range</th>\n",
       "      <th>Mean</th>\n",
       "      <th>Variance</th>\n",
       "      <th>Standard Deviation</th>\n",
       "      <th>Coefficient of Variation</th>\n",
       "      <th>Interquartile Range</th>\n",
       "    </tr>\n",
       "  </thead>\n",
       "  <tbody>\n",
       "    <tr>\n",
       "      <th>measure of dispersion</th>\n",
       "      <td>141</td>\n",
       "      <td>118</td>\n",
       "      <td>23</td>\n",
       "      <td>128.36</td>\n",
       "      <td>47.444848</td>\n",
       "      <td>6.888022</td>\n",
       "      <td>5.366175</td>\n",
       "      <td>12.0</td>\n",
       "    </tr>\n",
       "  </tbody>\n",
       "</table>\n",
       "</div>"
      ],
      "text/plain": [
       "                       max_value  min_value  Range    Mean   Variance  \\\n",
       "measure of dispersion        141        118     23  128.36  47.444848   \n",
       "\n",
       "                       Standard Deviation  Coefficient of Variation  \\\n",
       "measure of dispersion            6.888022                  5.366175   \n",
       "\n",
       "                       Interquartile Range  \n",
       "measure of dispersion                 12.0  "
      ]
     },
     "execution_count": 103,
     "metadata": {},
     "output_type": "execute_result"
    }
   ],
   "source": [
    "dispersion_Blood_Pressure_After"
   ]
  },
  {
   "cell_type": "markdown",
   "id": "ae53a7a8",
   "metadata": {},
   "source": [
    "intrepretation of BP before:-\n",
    "    \n",
    "1.Variance= it quantifies the spread or dispersion of the data points around the mean. A higher variance indicates a greater variability or spread of the data, while a lower variance suggests that the data points are closer to the mean. a variance of 47.44 indicates a moderate degree of dispersion or spread of the data points around the mean.\n",
    "\n",
    "2.Standard Deviation= it states how much away a data is away from the mean. a mean is 128 than 135 is 1 SD away from it\n",
    "\n",
    "3.IQR= it helps in detemining the outliers lower bound to q25-1.5*IQR and upper bound to q75+1.5*IQR\n",
    "\n",
    "4.Coefficient of variation=It provides a measure of relative variability and is useful for comparing the dispersion of datasets with different scales."
   ]
  },
  {
   "cell_type": "markdown",
   "id": "3e5d0116",
   "metadata": {},
   "source": [
    "b. Calculate mean and 5% confidence interval and plot it in a graph"
   ]
  },
  {
   "cell_type": "code",
   "execution_count": 106,
   "id": "287e496f",
   "metadata": {},
   "outputs": [
    {
     "data": {
      "text/plain": [
       "133.91"
      ]
     },
     "execution_count": 106,
     "metadata": {},
     "output_type": "execute_result"
    }
   ],
   "source": [
    "df[' Blood Pressure Before (mmHg)'].mean()"
   ]
  },
  {
   "cell_type": "code",
   "execution_count": 105,
   "id": "e2edee5b",
   "metadata": {},
   "outputs": [
    {
     "data": {
      "text/plain": [
       "128.36"
      ]
     },
     "execution_count": 105,
     "metadata": {},
     "output_type": "execute_result"
    }
   ],
   "source": [
    "df[' Blood Pressure After (mmHg)'].mean()"
   ]
  },
  {
   "cell_type": "code",
   "execution_count": 160,
   "id": "25c2422b",
   "metadata": {},
   "outputs": [],
   "source": [
    "def confidence_interval(data,column):\n",
    "    lower=np.percentile(data[column],2.5)\n",
    "    upper=np.percentile(data[column],97.5)\n",
    "    return (lower,upper)\n",
    "   \n",
    "    "
   ]
  },
  {
   "cell_type": "code",
   "execution_count": 161,
   "id": "68f6e06b",
   "metadata": {},
   "outputs": [
    {
     "data": {
      "text/plain": [
       "(118.0, 141.0)"
      ]
     },
     "execution_count": 161,
     "metadata": {},
     "output_type": "execute_result"
    }
   ],
   "source": [
    "confidence_interval_BP_after=confidence_interval(df,' Blood Pressure After (mmHg)')\n",
    "confidence_interval_BP_after"
   ]
  },
  {
   "cell_type": "code",
   "execution_count": 164,
   "id": "587eaebf",
   "metadata": {},
   "outputs": [
    {
     "data": {
      "text/plain": [
       "118.0"
      ]
     },
     "execution_count": 164,
     "metadata": {},
     "output_type": "execute_result"
    }
   ],
   "source": [
    "confidence_interval_BP_after[0]"
   ]
  },
  {
   "cell_type": "code",
   "execution_count": 162,
   "id": "d2fc3e54",
   "metadata": {},
   "outputs": [
    {
     "data": {
      "text/plain": [
       "(124.0, 145.0)"
      ]
     },
     "execution_count": 162,
     "metadata": {},
     "output_type": "execute_result"
    }
   ],
   "source": [
    "confidence_interval_BP_before=confidence_interval(df,' Blood Pressure Before (mmHg)')\n",
    "confidence_interval_BP_before"
   ]
  },
  {
   "cell_type": "code",
   "execution_count": 177,
   "id": "10d5d7d1",
   "metadata": {},
   "outputs": [],
   "source": [
    "def confidence_interval_plot(data,column,confidence_interval_range):\n",
    "    sns.distplot(data[column], hist=False, kde=True)\n",
    "    plt.axvline(data[column].mean(), color='r', linestyle='--', label='Mean')\n",
    "    plt.axvline(confidence_interval_range[0], color='g', linestyle='--', label='2.5%')\n",
    "    plt.axvline(confidence_interval_range[1], color='g', linestyle='--', label='97.5%')\n",
    "    plt.xlabel('Confidence')\n",
    "    plt.ylabel('Density')\n",
    "    plt.title('Confidence Interval')\n",
    "    plt.legend()\n",
    "    plt.show()"
   ]
  },
  {
   "cell_type": "code",
   "execution_count": 179,
   "id": "36a4f502",
   "metadata": {},
   "outputs": [
    {
     "name": "stderr",
     "output_type": "stream",
     "text": [
      "C:\\Users\\DELL\\anaconda3\\lib\\site-packages\\seaborn\\distributions.py:2619: FutureWarning: `distplot` is a deprecated function and will be removed in a future version. Please adapt your code to use either `displot` (a figure-level function with similar flexibility) or `kdeplot` (an axes-level function for kernel density plots).\n",
      "  warnings.warn(msg, FutureWarning)\n"
     ]
    },
    {
     "data": {
      "image/png": "[encoded data removed]",
      "text/plain": [
       "<Figure size 432x288 with 1 Axes>"
      ]
     },
     "metadata": {
      "needs_background": "light"
     },
     "output_type": "display_data"
    }
   ],
   "source": [
    "confidence_interval_plot(data=df,column=' Blood Pressure Before (mmHg)',confidence_interval_range=confidence_interval_BP_before)"
   ]
  },
  {
   "cell_type": "code",
   "execution_count": 180,
   "id": "8ccc87be",
   "metadata": {},
   "outputs": [
    {
     "name": "stderr",
     "output_type": "stream",
     "text": [
      "C:\\Users\\DELL\\anaconda3\\lib\\site-packages\\seaborn\\distributions.py:2619: FutureWarning: `distplot` is a deprecated function and will be removed in a future version. Please adapt your code to use either `displot` (a figure-level function with similar flexibility) or `kdeplot` (an axes-level function for kernel density plots).\n",
      "  warnings.warn(msg, FutureWarning)\n"
     ]
    },
    {
     "data": {
      "image/png": "[encoded data removed]",
      "text/plain": [
       "<Figure size 432x288 with 1 Axes>"
      ]
     },
     "metadata": {
      "needs_background": "light"
     },
     "output_type": "display_data"
    }
   ],
   "source": [
    "confidence_interval_plot(data=df,column=' Blood Pressure After (mmHg)',confidence_interval_range=confidence_interval_BP_after)"
   ]
  },
  {
   "cell_type": "markdown",
   "id": "9d53214c",
   "metadata": {},
   "source": [
    "c. Calculate the Mean absolute deviation and Standard deviation and interpret the results."
   ]
  },
  {
   "cell_type": "code",
   "execution_count": 181,
   "id": "761aa323",
   "metadata": {},
   "outputs": [],
   "source": [
    "def calculate_mad(data):\n",
    "    mean = np.mean(data)\n",
    "    absolute_diff = np.abs(data - mean)\n",
    "    mad = np.mean(absolute_diff)\n",
    "    return mad"
   ]
  },
  {
   "cell_type": "code",
   "execution_count": 187,
   "id": "30800e65",
   "metadata": {},
   "outputs": [
    {
     "data": {
      "text/plain": [
       "5.9"
      ]
     },
     "execution_count": 187,
     "metadata": {},
     "output_type": "execute_result"
    }
   ],
   "source": [
    "calculate_mad(data=df[\" Blood Pressure After (mmHg)\"])"
   ]
  },
  {
   "cell_type": "code",
   "execution_count": 188,
   "id": "25323e96",
   "metadata": {},
   "outputs": [
    {
     "data": {
      "text/plain": [
       "5.7118"
      ]
     },
     "execution_count": 188,
     "metadata": {},
     "output_type": "execute_result"
    }
   ],
   "source": [
    "calculate_mad(data=df[\" Blood Pressure Before (mmHg)\"])"
   ]
  },
  {
   "cell_type": "code",
   "execution_count": 189,
   "id": "2b90b6e3",
   "metadata": {},
   "outputs": [
    {
     "data": {
      "text/plain": [
       "6.8880221025232276"
      ]
     },
     "execution_count": 189,
     "metadata": {},
     "output_type": "execute_result"
    }
   ],
   "source": [
    "df[' Blood Pressure After (mmHg)'].std()"
   ]
  },
  {
   "cell_type": "code",
   "execution_count": 190,
   "id": "53602c1e",
   "metadata": {},
   "outputs": [
    {
     "data": {
      "text/plain": [
       "6.598278012275075"
      ]
     },
     "execution_count": 190,
     "metadata": {},
     "output_type": "execute_result"
    }
   ],
   "source": [
    "df[' Blood Pressure Before (mmHg)'].std()"
   ]
  },
  {
   "cell_type": "markdown",
   "id": "eb34d9dc",
   "metadata": {},
   "source": [
    "As the std and mean absolute deviation calclates the spread and dipersion of the data and how much a observed value is far from the mean and in the above two case it is low around 6 to 7.Generally, the standard deviation is more commonly used due to its mathematical properties and relationship to the normal distribution. However, the MAD is useful when outliers or extreme values are present in the dataset, as it is less affected by outliers than the standard deviation."
   ]
  },
  {
   "cell_type": "markdown",
   "id": "2118553c",
   "metadata": {},
   "source": [
    "# d. Calculate the correlation coefficient and check the significance of it at 1% level of significance."
   ]
  },
  {
   "cell_type": "code",
   "execution_count": 191,
   "id": "c68c5f29",
   "metadata": {},
   "outputs": [
    {
     "data": {
      "text/plain": [
       "array([120, 135, 118, 127, 140, 118, 129, 124, 137, 125, 129, 132, 125,\n",
       "       136, 118, 122, 130, 139, 123, 132, 131, 126, 120, 123, 139, 122,\n",
       "       129, 136, 127, 140, 119, 121, 129, 137, 122, 135, 129, 124, 119,\n",
       "       124, 139, 123, 131, 135, 127, 141, 118, 121, 129, 137, 123, 135,\n",
       "       130, 125, 121, 124, 139, 123, 131, 136, 127, 141, 118, 121, 129,\n",
       "       137, 123, 135, 130, 124, 121, 124, 139, 123, 131, 136, 127, 141,\n",
       "       118, 121, 129, 137, 123, 135, 130, 125, 121, 124, 122, 129, 135,\n",
       "       127, 141, 118, 121, 129, 137, 123, 135, 130], dtype=int64)"
      ]
     },
     "execution_count": 191,
     "metadata": {},
     "output_type": "execute_result"
    }
   ],
   "source": [
    "df[' Blood Pressure After (mmHg)'].ravel()"
   ]
  },
  {
   "cell_type": "code",
   "execution_count": 192,
   "id": "869a3e44",
   "metadata": {},
   "outputs": [
    {
     "data": {
      "text/plain": [
       "array([130, 142, 120, 135, 148, 122, 137, 130, 142, 128, 135, 140, 132,\n",
       "       145, 124, 128, 136, 143, 127, 139, 135, 131, 127, 130, 142, 128,\n",
       "       136, 140, 132, 145, 124, 128, 136, 143, 127, 139, 135, 131, 127,\n",
       "       130, 142, 128, 136, 140, 132, 145, 124, 128, 136, 143, 127, 139,\n",
       "       135, 131, 127, 130, 142, 128, 136, 140, 132, 145, 124, 128, 136,\n",
       "       143, 127, 139, 135, 131, 127, 130, 142, 128, 136, 140, 132, 145,\n",
       "       124, 128, 136, 143, 127, 139, 135, 131, 127, 130, 128, 136, 140,\n",
       "       132, 145, 124, 128, 136, 143, 127, 139, 135], dtype=int64)"
      ]
     },
     "execution_count": 192,
     "metadata": {},
     "output_type": "execute_result"
    }
   ],
   "source": [
    "df[' Blood Pressure Before (mmHg)'].ravel()"
   ]
  },
  {
   "cell_type": "code",
   "execution_count": 197,
   "id": "6e2097ca",
   "metadata": {},
   "outputs": [
    {
     "data": {
      "text/plain": [
       "<AxesSubplot:>"
      ]
     },
     "execution_count": 197,
     "metadata": {},
     "output_type": "execute_result"
    },
    {
     "data": {
      "image/png": "[encoded data removed]",
      "text/plain": [
       "<Figure size 432x288 with 2 Axes>"
      ]
     },
     "metadata": {
      "needs_background": "light"
     },
     "output_type": "display_data"
    }
   ],
   "source": [
    "sns.heatmap(df.corr(),annot=True)"
   ]
  },
  {
   "cell_type": "code",
   "execution_count": 223,
   "id": "44e547c9",
   "metadata": {},
   "outputs": [],
   "source": [
    "def significance_correlation():\n",
    "    x = df[' Blood Pressure Before (mmHg)']\n",
    "    y = df[' Blood Pressure After (mmHg)']\n",
    "\n",
    "    corr_coef, p_value = pearsonr(x, y)\n",
    "    alpha = 0.01\n",
    "    if p_value < alpha:\n",
    "        significance = \"Significant correlation at the 1% level\"\n",
    "    else:\n",
    "        significance = \"No significant correlation at the 1% level\"\n",
    "    return significance"
   ]
  },
  {
   "cell_type": "code",
   "execution_count": 224,
   "id": "204173fe",
   "metadata": {},
   "outputs": [
    {
     "data": {
      "text/plain": [
       "'Significant correlation at the 1% level'"
      ]
     },
     "execution_count": 224,
     "metadata": {},
     "output_type": "execute_result"
    }
   ],
   "source": [
    "significance_correlation()"
   ]
  },
  {
   "cell_type": "markdown",
   "id": "6ba51d48",
   "metadata": {},
   "source": [
    "# Q-4. A group of 20 friends decide to play a game in which they each write a numberbetween 1 and 20 on a slip of paper and put it into a hat. They then draw one slip of paperat random. What is the probability that the number on the slip of paper is a perfect square(i.e., 1, 4, 9, or 16)"
   ]
  },
  {
   "cell_type": "code",
   "execution_count": 229,
   "id": "7540e1ff",
   "metadata": {},
   "outputs": [],
   "source": [
    "outcomes_of_square=4"
   ]
  },
  {
   "cell_type": "code",
   "execution_count": 230,
   "id": "4b942485",
   "metadata": {},
   "outputs": [],
   "source": [
    "total_outcomes=20"
   ]
  },
  {
   "cell_type": "code",
   "execution_count": 231,
   "id": "ff04b28d",
   "metadata": {},
   "outputs": [],
   "source": [
    "probability=outcomes_of_square/total_outcomes"
   ]
  },
  {
   "cell_type": "code",
   "execution_count": 232,
   "id": "e0d3ae8a",
   "metadata": {},
   "outputs": [
    {
     "data": {
      "text/plain": [
       "0.2"
      ]
     },
     "execution_count": 232,
     "metadata": {},
     "output_type": "execute_result"
    }
   ],
   "source": [
    "probability"
   ]
  },
  {
   "cell_type": "markdown",
   "id": "c3bd4f6b",
   "metadata": {},
   "source": [
    "\n",
    "\n",
    "# Q-5. A certain city has two taxi companies: Company A has 80% of the taxis andCompany B has 20% of the taxis. Company A's taxis have a 95% success rate for pickingup passengers on time, while Company B's taxis have a 90% success rate. If a randomlyselected taxi is late, what is the probability that it belongs to Company A?"
   ]
  },
  {
   "cell_type": "code",
   "execution_count": 250,
   "id": "35f787da",
   "metadata": {},
   "outputs": [],
   "source": [
    "proportion_of_companyA_taxi=0.80\n",
    "proportion_of_companyB_taxi=0.20\n",
    "proportion_of_companyA_success=0.95\n",
    "proportion_of_companyB_success=0.90\n",
    "\n",
    "\n"
   ]
  },
  {
   "cell_type": "markdown",
   "id": "9a3eb8ec",
   "metadata": {},
   "source": [
    "proportion_of_companyB_success or proportion_of_companyA_success means that the taxi is on time and 1-these proportion is taxi is late or failure"
   ]
  },
  {
   "cell_type": "code",
   "execution_count": 251,
   "id": "542ef8dc",
   "metadata": {},
   "outputs": [],
   "source": [
    "proportion_of_companyA_late=0.05\n",
    "proportion_of_companyA_late=0.10"
   ]
  },
  {
   "cell_type": "code",
   "execution_count": 266,
   "id": "39503c9c",
   "metadata": {},
   "outputs": [],
   "source": [
    "probability=(0.8 * 0.05)/((0.8 * 0.05)+ (0.2 * 0.1))"
   ]
  },
  {
   "cell_type": "code",
   "execution_count": 267,
   "id": "a61df436",
   "metadata": {},
   "outputs": [
    {
     "data": {
      "text/plain": [
       "0.6666666666666666"
      ]
     },
     "execution_count": 267,
     "metadata": {},
     "output_type": "execute_result"
    }
   ],
   "source": [
    "probability"
   ]
  },
  {
   "cell_type": "markdown",
   "id": "498f3066",
   "metadata": {},
   "source": [
    "# Q-6. A pharmaceutical company is developing a drug that is supposed to reduce bloodpressure. They conduct a clinical trial with 100 patients and record their blood pressure before and after taking the drug. The company wants to know if the change in blood pressure follows a normal distribution.\n",
    "https://drive.google.com/file/d/1mCjtYHiX--mMUjicuaP2gH3k-SnFxt8Y/view?usp=share"
   ]
  },
  {
   "cell_type": "code",
   "execution_count": 269,
   "id": "da8f5543",
   "metadata": {},
   "outputs": [],
   "source": [
    "df=pd.read_csv('Downloads/data (1).csv')"
   ]
  },
  {
   "cell_type": "code",
   "execution_count": 272,
   "id": "a34782ac",
   "metadata": {},
   "outputs": [],
   "source": [
    "df['change_in_BP']=df[' Blood Pressure Before (mmHg)'] - df[' Blood Pressure After (mmHg)']"
   ]
  },
  {
   "cell_type": "code",
   "execution_count": 274,
   "id": "ac47149b",
   "metadata": {},
   "outputs": [
    {
     "name": "stderr",
     "output_type": "stream",
     "text": [
      "C:\\Users\\DELL\\anaconda3\\lib\\site-packages\\seaborn\\distributions.py:2619: FutureWarning: `distplot` is a deprecated function and will be removed in a future version. Please adapt your code to use either `displot` (a figure-level function with similar flexibility) or `histplot` (an axes-level function for histograms).\n",
      "  warnings.warn(msg, FutureWarning)\n"
     ]
    },
    {
     "data": {
      "text/plain": [
       "<AxesSubplot:xlabel='change_in_BP', ylabel='Density'>"
      ]
     },
     "execution_count": 274,
     "metadata": {},
     "output_type": "execute_result"
    },
    {
     "data": {
      "image/png": "[encoded data removed]",
      "text/plain": [
       "<Figure size 432x288 with 1 Axes>"
      ]
     },
     "metadata": {
      "needs_background": "light"
     },
     "output_type": "display_data"
    }
   ],
   "source": [
    "sns.distplot(df['change_in_BP'],hist=True)"
   ]
  },
  {
   "cell_type": "code",
   "execution_count": 275,
   "id": "b9d9a56f",
   "metadata": {},
   "outputs": [
    {
     "data": {
      "text/plain": [
       "1.4451241601965688"
      ]
     },
     "execution_count": 275,
     "metadata": {},
     "output_type": "execute_result"
    }
   ],
   "source": [
    "df['change_in_BP'].std()"
   ]
  },
  {
   "cell_type": "markdown",
   "id": "dee4f648",
   "metadata": {},
   "source": [
    "data doesnot follow a normal distribution"
   ]
  },
  {
   "cell_type": "code",
   "execution_count": 284,
   "id": "999f8e43",
   "metadata": {},
   "outputs": [
    {
     "data": {
      "text/plain": [
       "0.19543801617688214"
      ]
     },
     "execution_count": 284,
     "metadata": {},
     "output_type": "execute_result"
    }
   ],
   "source": [
    "df['change_in_BP'].skew()"
   ]
  },
  {
   "cell_type": "code",
   "execution_count": 287,
   "id": "bf58d76b",
   "metadata": {},
   "outputs": [
    {
     "name": "stdout",
     "output_type": "stream",
     "text": [
      "Shapiro-Wilk test statistic: 0.9538202285766602\n",
      "Shapiro-Wilk p-value: 0.0014939394313842058\n"
     ]
    }
   ],
   "source": [
    "from scipy.stats import shapiro\n",
    "shapiro_test = shapiro(df['change_in_BP'])\n",
    "print(\"Shapiro-Wilk test statistic:\", shapiro_test.statistic)\n",
    "print(\"Shapiro-Wilk p-value:\", shapiro_test.pvalue)"
   ]
  },
  {
   "cell_type": "code",
   "execution_count": 291,
   "id": "c8d315c5",
   "metadata": {},
   "outputs": [
    {
     "name": "stdout",
     "output_type": "stream",
     "text": [
      "column is not normally distributed\n"
     ]
    }
   ],
   "source": [
    "alpha=0.05\n",
    "if shapiro_test.pvalue > alpha:\n",
    "    print(\"column is normally distributed\")\n",
    "elif shapiro_test.pvalue < alpha:\n",
    "    print(\"column is not normally distributed\")"
   ]
  },
  {
   "cell_type": "markdown",
   "id": "58bf38ff",
   "metadata": {},
   "source": [
    "Q-8 the anxiety levels of 10 participants were measured before and after a new therapy.\n",
    "The scores are not normally distributed. Use the Wilcoxon signed-rank test to test whether\n",
    "the therapy had a significant effect on anxiety levels. The data is given below: Participant\n",
    "Before therapy After therapy Difference\n"
   ]
  },
  {
   "cell_type": "code",
   "execution_count": 370,
   "id": "431a39e4",
   "metadata": {},
   "outputs": [],
   "source": [
    "array1=np.array([10,8,12,15,6,9,1,7,14,10])"
   ]
  },
  {
   "cell_type": "code",
   "execution_count": 371,
   "id": "5f61773b",
   "metadata": {},
   "outputs": [
    {
     "data": {
      "text/plain": [
       "array([10,  8, 12, 15,  6,  9,  1,  7, 14, 10])"
      ]
     },
     "execution_count": 371,
     "metadata": {},
     "output_type": "execute_result"
    }
   ],
   "source": [
    "array1.T"
   ]
  },
  {
   "cell_type": "code",
   "execution_count": 372,
   "id": "e51a17a8",
   "metadata": {},
   "outputs": [],
   "source": [
    "array2=np.array([7,6,10,12,5,8,9,6,12,8])"
   ]
  },
  {
   "cell_type": "code",
   "execution_count": 373,
   "id": "4930283f",
   "metadata": {},
   "outputs": [
    {
     "data": {
      "text/plain": [
       "array([ 7,  6, 10, 12,  5,  8,  9,  6, 12,  8])"
      ]
     },
     "execution_count": 373,
     "metadata": {},
     "output_type": "execute_result"
    }
   ],
   "source": [
    "array2.T"
   ]
  },
  {
   "cell_type": "code",
   "execution_count": 374,
   "id": "07eb782b",
   "metadata": {},
   "outputs": [
    {
     "data": {
      "text/plain": [
       "array([-3, -2, -2, -3, -1, -2, -1, -2, -2])"
      ]
     },
     "execution_count": 374,
     "metadata": {},
     "output_type": "execute_result"
    }
   ],
   "source": [
    "array3=np.array([-3,-2,-2,-3,-1,-2,-1,-2,-2])\n",
    "array3.T"
   ]
  },
  {
   "cell_type": "code",
   "execution_count": 375,
   "id": "487ac084",
   "metadata": {},
   "outputs": [],
   "source": [
    "df1=pd.DataFrame(array1.T,columns=['Before Therapy'])"
   ]
  },
  {
   "cell_type": "code",
   "execution_count": 376,
   "id": "702142b7",
   "metadata": {},
   "outputs": [],
   "source": [
    "df2=pd.DataFrame(array2.T,columns=['After Therapy'])"
   ]
  },
  {
   "cell_type": "code",
   "execution_count": 377,
   "id": "6d62cf18",
   "metadata": {},
   "outputs": [],
   "source": [
    "df3=pd.DataFrame(array3.T,columns=['Differnce'])"
   ]
  },
  {
   "cell_type": "code",
   "execution_count": 378,
   "id": "0c3b8582",
   "metadata": {},
   "outputs": [],
   "source": [
    "df=pd.concat((df1,df2,df3),axis=1)"
   ]
  },
  {
   "cell_type": "code",
   "execution_count": 379,
   "id": "99bcb568",
   "metadata": {},
   "outputs": [],
   "source": [
    "from scipy.stats import wilcoxon"
   ]
  },
  {
   "cell_type": "code",
   "execution_count": 380,
   "id": "91479547",
   "metadata": {},
   "outputs": [],
   "source": [
    "\n",
    "def wilcoxon_analysis(data,column1,column2):\n",
    "    global wilcoxon\n",
    "    wilcoxon=wilcoxon(data[column1],data[column2])\n",
    "    alpha=0.05\n",
    "    print(wilcoxon.pvalue)\n",
    "    if wilcoxon.pvalue>alpha:\n",
    "        return \"The therapy had a significant effect on anxiety levels\"\n",
    "    elif wilcoxon.pvalue<alpha:\n",
    "        return \"the therapy had a significant effect on anxiety levels\"\n",
    "    \n",
    "    "
   ]
  },
  {
   "cell_type": "code",
   "execution_count": 382,
   "id": "17cdef37",
   "metadata": {},
   "outputs": [
    {
     "name": "stdout",
     "output_type": "stream",
     "text": [
      "0.083984375\n"
     ]
    },
    {
     "data": {
      "text/plain": [
       "'The therapy had a significant effect on anxiety levels'"
      ]
     },
     "execution_count": 382,
     "metadata": {},
     "output_type": "execute_result"
    }
   ],
   "source": [
    "wilcoxon_analysis(data=df,column1='Before Therapy',column2='After Therapy')"
   ]
  },
  {
   "cell_type": "markdown",
   "id": "3c3c0dcb",
   "metadata": {},
   "source": [
    "Q-9 Test the hypothesis that the mean scores of all the students are the same. If not, name the\n",
    "student with the highest score"
   ]
  },
  {
   "cell_type": "code",
   "execution_count": 384,
   "id": "56a98ed3",
   "metadata": {},
   "outputs": [],
   "source": [
    "df=pd.DataFrame({\"Exam 1\":[85,70,90,75,95],\"Exam 2\":[90,80,85,70,92],\"Exam 3\":[92,85,88,75,96]},index=[\"Karan\",\"Deepa\",\"Kartik\",\"Chandan\",\"Jeevan\"])"
   ]
  },
  {
   "cell_type": "code",
   "execution_count": 385,
   "id": "ba52a89e",
   "metadata": {},
   "outputs": [
    {
     "data": {
      "text/html": [
       "<div>\n",
       "<style scoped>\n",
       "    .dataframe tbody tr th:only-of-type {\n",
       "        vertical-align: middle;\n",
       "    }\n",
       "\n",
       "    .dataframe tbody tr th {\n",
       "        vertical-align: top;\n",
       "    }\n",
       "\n",
       "    .dataframe thead th {\n",
       "        text-align: right;\n",
       "    }\n",
       "</style>\n",
       "<table border=\"1\" class=\"dataframe\">\n",
       "  <thead>\n",
       "    <tr style=\"text-align: right;\">\n",
       "      <th></th>\n",
       "      <th>Exam 1</th>\n",
       "      <th>Exam 2</th>\n",
       "      <th>Exam 3</th>\n",
       "    </tr>\n",
       "  </thead>\n",
       "  <tbody>\n",
       "    <tr>\n",
       "      <th>Karan</th>\n",
       "      <td>85</td>\n",
       "      <td>90</td>\n",
       "      <td>92</td>\n",
       "    </tr>\n",
       "    <tr>\n",
       "      <th>Deepa</th>\n",
       "      <td>70</td>\n",
       "      <td>80</td>\n",
       "      <td>85</td>\n",
       "    </tr>\n",
       "    <tr>\n",
       "      <th>Kartik</th>\n",
       "      <td>90</td>\n",
       "      <td>85</td>\n",
       "      <td>88</td>\n",
       "    </tr>\n",
       "    <tr>\n",
       "      <th>Chandan</th>\n",
       "      <td>75</td>\n",
       "      <td>70</td>\n",
       "      <td>75</td>\n",
       "    </tr>\n",
       "    <tr>\n",
       "      <th>Jeevan</th>\n",
       "      <td>95</td>\n",
       "      <td>92</td>\n",
       "      <td>96</td>\n",
       "    </tr>\n",
       "  </tbody>\n",
       "</table>\n",
       "</div>"
      ],
      "text/plain": [
       "         Exam 1  Exam 2  Exam 3\n",
       "Karan        85      90      92\n",
       "Deepa        70      80      85\n",
       "Kartik       90      85      88\n",
       "Chandan      75      70      75\n",
       "Jeevan       95      92      96"
      ]
     },
     "execution_count": 385,
     "metadata": {},
     "output_type": "execute_result"
    }
   ],
   "source": [
    "df"
   ]
  },
  {
   "cell_type": "code",
   "execution_count": 389,
   "id": "6a5d6e78",
   "metadata": {},
   "outputs": [
    {
     "data": {
      "text/plain": [
       "89.0"
      ]
     },
     "execution_count": 389,
     "metadata": {},
     "output_type": "execute_result"
    }
   ],
   "source": [
    "df.T[\"Karan\"].mean()"
   ]
  },
  {
   "cell_type": "code",
   "execution_count": 413,
   "id": "a2df980f",
   "metadata": {},
   "outputs": [],
   "source": [
    "def mean_analysis(data):\n",
    "    d={}\n",
    "    for col in data.T.columns:\n",
    "        d[col]=df.T[col].mean()\n",
    "    if len(set(d.values()))==1:\n",
    "        return \"Every student has same mean marks\"\n",
    "    else:\n",
    "        return f\"Every student does not has same mean marks and highest mean score is {max(d.values())}\""
   ]
  },
  {
   "cell_type": "code",
   "execution_count": 414,
   "id": "72a21305",
   "metadata": {},
   "outputs": [
    {
     "data": {
      "text/plain": [
       "'Every student does not has same mean marks and highest mean score is 94.33333333333333'"
      ]
     },
     "execution_count": 414,
     "metadata": {},
     "output_type": "execute_result"
    }
   ],
   "source": [
    "mean_analysis(df)"
   ]
  },
  {
   "cell_type": "markdown",
   "id": "12be63b9",
   "metadata": {},
   "source": [
    "# Q-10. A factory produces light bulbs, and the probability of a bulb being defective is 0.05.\n",
    "\n",
    "The factory produces a large batch of 500 light bulbs.\n",
    "\n",
    "a. What is the probability that exactly 20 bulbs are defective?\n",
    "\n",
    "b. What is the probability that at least 10 bulbs are defective?\n",
    "\n",
    "c. What is the probability that at max 15 bulbs are defective?\n",
    "\n",
    "d. On average, how many defective bulbs would you expect in a batch of 500"
   ]
  },
  {
   "cell_type": "code",
   "execution_count": 415,
   "id": "fe5fb946",
   "metadata": {},
   "outputs": [],
   "source": [
    "import math\n"
   ]
  },
  {
   "cell_type": "code",
   "execution_count": null,
   "id": "7ed163de",
   "metadata": {},
   "outputs": [],
   "source": [
    "a. What is the probability that exactly 20 bulbs are defective?"
   ]
  },
  {
   "cell_type": "code",
   "execution_count": 421,
   "id": "0f83ad41",
   "metadata": {},
   "outputs": [],
   "source": [
    "def probability_exact_20(total,sample,p):\n",
    "    coefficient = math.comb(n, k)\n",
    "    probability = coefficient * (p ** sample) * ((1 - p) ** (total - sample))\n",
    "    return probability"
   ]
  },
  {
   "cell_type": "code",
   "execution_count": 422,
   "id": "14613373",
   "metadata": {},
   "outputs": [
    {
     "data": {
      "text/plain": [
       "0.05161619253663997"
      ]
     },
     "execution_count": 422,
     "metadata": {},
     "output_type": "execute_result"
    }
   ],
   "source": [
    "probability_exact_20(total=500,sample=20,p=0.05)"
   ]
  },
  {
   "cell_type": "markdown",
   "id": "08af6db9",
   "metadata": {},
   "source": [
    "b. What is the probability that at least 10 bulbs are defective?"
   ]
  },
  {
   "cell_type": "code",
   "execution_count": 429,
   "id": "11c0d5b9",
   "metadata": {},
   "outputs": [],
   "source": [
    "def probability_atleast_10(total,sample,p):\n",
    "    prob=[]\n",
    "    for k in range(sample,total+1):\n",
    "         coefficient = math.comb(n, k)\n",
    "         probability = coefficient * (p ** k) * ((1 - p) ** (total - k))\n",
    "         prob.append(probability)\n",
    "    return sum(prob)\n",
    "    "
   ]
  },
  {
   "cell_type": "code",
   "execution_count": 430,
   "id": "a2c80d2b",
   "metadata": {},
   "outputs": [
    {
     "data": {
      "text/plain": [
       "0.9998316463654692"
      ]
     },
     "execution_count": 430,
     "metadata": {},
     "output_type": "execute_result"
    }
   ],
   "source": [
    "probability_atleast_10(500,10,0.05)"
   ]
  },
  {
   "cell_type": "markdown",
   "id": "e8c191d0",
   "metadata": {},
   "source": [
    "c. What is the probability that at max 15 bulbs are defective?"
   ]
  },
  {
   "cell_type": "code",
   "execution_count": 434,
   "id": "921520f0",
   "metadata": {},
   "outputs": [],
   "source": [
    "def probability_atmost_15(total,sample,p):\n",
    "    prob=[]\n",
    "    for k in range(1,sample+1):\n",
    "         coefficient = math.comb(n, k)\n",
    "         probability = coefficient * (p ** k) * ((1 - p) ** (total - k))\n",
    "         prob.append(probability)\n",
    "    return sum(prob)"
   ]
  },
  {
   "cell_type": "code",
   "execution_count": 433,
   "id": "2e680568",
   "metadata": {},
   "outputs": [
    {
     "data": {
      "text/plain": [
       "(0.01985837715573173, 15)"
      ]
     },
     "execution_count": 433,
     "metadata": {},
     "output_type": "execute_result"
    }
   ],
   "source": [
    "probability_atmost_15(total=500,sample=15,p=0.05)"
   ]
  },
  {
   "cell_type": "markdown",
   "id": "e6b1fe06",
   "metadata": {},
   "source": [
    "d. On average, how many defective bulbs would you expect in a batch of 500"
   ]
  },
  {
   "cell_type": "code",
   "execution_count": 435,
   "id": "deaa4e79",
   "metadata": {},
   "outputs": [],
   "source": [
    "def probability_average(total,sample,p):\n",
    "    prob=[]\n",
    "    for k in range(1,sample+1):\n",
    "         coefficient = math.comb(n, k)\n",
    "         probability = coefficient * (p ** k) * ((1 - p) ** (total - k))\n",
    "         prob.append(probability)\n",
    "    return sum(prob)"
   ]
  },
  {
   "cell_type": "code",
   "execution_count": 436,
   "id": "3b819b51",
   "metadata": {},
   "outputs": [
    {
     "data": {
      "text/plain": [
       "0.9999999999927046"
      ]
     },
     "execution_count": 436,
     "metadata": {},
     "output_type": "execute_result"
    }
   ],
   "source": [
    "probability_average(total=500,sample=250,p=0.05)"
   ]
  },
  {
   "cell_type": "markdown",
   "id": "3a062958",
   "metadata": {},
   "source": [
    "# Q-11. Given the data of a feature contributing to different classes\n",
    "\n",
    "https://drive.google.com/file/d/1mCjtYHiX--mMUjicuaP2gH3k-SnFxt8Y/view?usp=share_\n",
    "\n",
    "a. Check whether the distribution of all the classes are the same or not.\n",
    "\n",
    "b. Check for the equality of variance/\n",
    "\n",
    "c. Which amount LDA and QDA would perform better on this data for\n",
    "classification and why.\n",
    "\n",
    "d. Check the equality of mean for between all the classes.\n"
   ]
  },
  {
   "cell_type": "code",
   "execution_count": 438,
   "id": "e5c5115e",
   "metadata": {},
   "outputs": [],
   "source": [
    "df=pd.read_csv('Downloads/data (2).csv')"
   ]
  },
  {
   "cell_type": "markdown",
   "id": "0861dece",
   "metadata": {},
   "source": [
    "a. Check whether the distribution of all the classes are the same or not."
   ]
  },
  {
   "cell_type": "code",
   "execution_count": 441,
   "id": "8d966075",
   "metadata": {},
   "outputs": [
    {
     "data": {
      "text/plain": [
       "count    100.000000\n",
       "mean     133.910000\n",
       "std        6.598278\n",
       "min      120.000000\n",
       "25%      128.000000\n",
       "50%      135.000000\n",
       "75%      139.250000\n",
       "max      148.000000\n",
       "Name:  Blood Pressure Before (mmHg), dtype: float64"
      ]
     },
     "execution_count": 441,
     "metadata": {},
     "output_type": "execute_result"
    }
   ],
   "source": [
    "df[' Blood Pressure Before (mmHg)'].describe()"
   ]
  },
  {
   "cell_type": "code",
   "execution_count": 442,
   "id": "393540ba",
   "metadata": {},
   "outputs": [
    {
     "data": {
      "text/plain": [
       "count    100.000000\n",
       "mean     128.360000\n",
       "std        6.888022\n",
       "min      118.000000\n",
       "25%      123.000000\n",
       "50%      128.000000\n",
       "75%      135.000000\n",
       "max      141.000000\n",
       "Name:  Blood Pressure After (mmHg), dtype: float64"
      ]
     },
     "execution_count": 442,
     "metadata": {},
     "output_type": "execute_result"
    }
   ],
   "source": [
    "df[' Blood Pressure After (mmHg)'].describe()"
   ]
  },
  {
   "cell_type": "code",
   "execution_count": 447,
   "id": "7f3c7f05",
   "metadata": {},
   "outputs": [
    {
     "name": "stderr",
     "output_type": "stream",
     "text": [
      "C:\\Users\\DELL\\anaconda3\\lib\\site-packages\\seaborn\\distributions.py:2619: FutureWarning: `distplot` is a deprecated function and will be removed in a future version. Please adapt your code to use either `displot` (a figure-level function with similar flexibility) or `histplot` (an axes-level function for histograms).\n",
      "  warnings.warn(msg, FutureWarning)\n"
     ]
    },
    {
     "data": {
      "text/plain": [
       "<AxesSubplot:xlabel=' Blood Pressure Before (mmHg)', ylabel='Density'>"
      ]
     },
     "execution_count": 447,
     "metadata": {},
     "output_type": "execute_result"
    },
    {
     "data": {
      "image/png": "[encoded data removed]",
      "text/plain": [
       "<Figure size 432x288 with 1 Axes>"
      ]
     },
     "metadata": {
      "needs_background": "light"
     },
     "output_type": "display_data"
    }
   ],
   "source": [
    "sns.distplot(df[' Blood Pressure Before (mmHg)'],hist=True,kde=True)"
   ]
  },
  {
   "cell_type": "code",
   "execution_count": 449,
   "id": "b373b606",
   "metadata": {},
   "outputs": [
    {
     "data": {
      "text/plain": [
       "<AxesSubplot:xlabel=' Blood Pressure After (mmHg)', ylabel='Density'>"
      ]
     },
     "execution_count": 449,
     "metadata": {},
     "output_type": "execute_result"
    },
    {
     "data": {
      "image/png": "[encoded data removed]",
      "text/plain": [
       "<Figure size 432x288 with 1 Axes>"
      ]
     },
     "metadata": {
      "needs_background": "light"
     },
     "output_type": "display_data"
    }
   ],
   "source": [
    "sns.distplot(df[' Blood Pressure After (mmHg)'],hist=True)"
   ]
  },
  {
   "cell_type": "markdown",
   "id": "60e774ca",
   "metadata": {},
   "source": [
    "distribution of all the classes are not the same"
   ]
  },
  {
   "cell_type": "markdown",
   "id": "267447ad",
   "metadata": {},
   "source": [
    "b. Check for the equality of variance"
   ]
  },
  {
   "cell_type": "code",
   "execution_count": 451,
   "id": "df04ca1b",
   "metadata": {},
   "outputs": [
    {
     "data": {
      "text/plain": [
       "43.53727272727271"
      ]
     },
     "execution_count": 451,
     "metadata": {},
     "output_type": "execute_result"
    }
   ],
   "source": [
    "df[' Blood Pressure Before (mmHg)'].var()"
   ]
  },
  {
   "cell_type": "code",
   "execution_count": 452,
   "id": "10b72f4a",
   "metadata": {},
   "outputs": [
    {
     "data": {
      "text/plain": [
       "47.4448484848485"
      ]
     },
     "execution_count": 452,
     "metadata": {},
     "output_type": "execute_result"
    }
   ],
   "source": [
    "df[' Blood Pressure After (mmHg)'].var()"
   ]
  },
  {
   "cell_type": "markdown",
   "id": "54165477",
   "metadata": {},
   "source": [
    "Variance of the columns are not same"
   ]
  },
  {
   "cell_type": "markdown",
   "id": "7570324d",
   "metadata": {},
   "source": [
    "c. Which amount LDA and QDA would perform better on this data for\n",
    "classification and why."
   ]
  },
  {
   "cell_type": "markdown",
   "id": "c7316357",
   "metadata": {},
   "source": [
    "ans. LDA assumes that the features follow a multivariate Gaussian distribution and that the covariance matrices of the classes are equal. It seeks to find linear boundaries that best separate the classes. \n",
    "\n",
    "QDA, on the other hand, relaxes the assumption of equal covariance matrices and allows each class to have its own covariance matrix. It seeks to find quadratic boundaries to separate the classes. \n",
    "\n",
    "In this casre QDA would be better as the variance of each classes/columns are not same"
   ]
  },
  {
   "cell_type": "markdown",
   "id": "2ce82bf0",
   "metadata": {},
   "source": [
    "d. Check the equality of mean for between all the classes."
   ]
  },
  {
   "cell_type": "code",
   "execution_count": 453,
   "id": "ade47477",
   "metadata": {},
   "outputs": [
    {
     "data": {
      "text/plain": [
       "128.36"
      ]
     },
     "execution_count": 453,
     "metadata": {},
     "output_type": "execute_result"
    }
   ],
   "source": [
    "df[' Blood Pressure After (mmHg)'].mean()"
   ]
  },
  {
   "cell_type": "code",
   "execution_count": 454,
   "id": "5dc4cf78",
   "metadata": {},
   "outputs": [
    {
     "data": {
      "text/plain": [
       "133.91"
      ]
     },
     "execution_count": 454,
     "metadata": {},
     "output_type": "execute_result"
    }
   ],
   "source": [
    "df[' Blood Pressure Before (mmHg)'].mean()"
   ]
  },
  {
   "cell_type": "markdown",
   "id": "52721ed4",
   "metadata": {},
   "source": [
    "the mena of the 2 classes are not same"
   ]
  },
  {
   "cell_type": "markdown",
   "id": "4fe9fc22",
   "metadata": {},
   "source": [
    "Q-12. A pharmaceutical company develops a new drug and wants to compare its\n",
    "effectiveness against a standard drug for treating a particular condition. They conduct a\n",
    "study with two groups: Group A receives the new drug, and Group B receives the standard\n",
    "drug. The company measures the improvement in a specific symptom for both groups after\n",
    "a 4-week treatment period.\n",
    "\n",
    "a. The company collects data from 30 patients in each group and calculates the\n",
    "mean improvement score and the standard deviation of improvement for each\n",
    "group. The mean improvement score for Group A is 2.5 with a standard\n",
    "deviation of 0.8, while the mean improvement score for Group B is 2.2 with a\n",
    "standard deviation of 0.6. Conduct a t-test to determine if there is a significant\n",
    "difference in the mean improvement scores between the two groups. Use a\n",
    "significance level of 0.05.\n",
    "\n",
    "b. Based on the t-test results, state whether the null hypothesis should be\n",
    "rejected or not. Provide a conclusion in the context of the study."
   ]
  },
  {
   "cell_type": "code",
   "execution_count": 472,
   "id": "e4c2c3e8",
   "metadata": {},
   "outputs": [],
   "source": [
    "null_hypothesis=\"there is no differce in mean improvement scores between the two groups\"\n",
    "alternate_hypothesis=\"there is differce in mean improvement scores between the two groups\""
   ]
  },
  {
   "cell_type": "code",
   "execution_count": 473,
   "id": "4ae0e925",
   "metadata": {},
   "outputs": [],
   "source": [
    "significance_value=0.05"
   ]
  },
  {
   "cell_type": "code",
   "execution_count": 474,
   "id": "0cc20862",
   "metadata": {},
   "outputs": [],
   "source": [
    "def t_test(sample1,s1,mean1,sample2,s2,mean2):\n",
    "    t_statistics=(mean1-mean2)/(math.sqrt((s1**2/sample1)+(s2**2/sample2)))\n",
    "    return t_statistics\n"
   ]
  },
  {
   "cell_type": "code",
   "execution_count": 475,
   "id": "64eceed4",
   "metadata": {},
   "outputs": [
    {
     "data": {
      "text/plain": [
       "1.6431676725154973"
      ]
     },
     "execution_count": 475,
     "metadata": {},
     "output_type": "execute_result"
    }
   ],
   "source": [
    "t_test(sample1=30,s1=0.8,mean1=2.5,sample2=30,s2=0.6,mean2=2.2)"
   ]
  },
  {
   "cell_type": "markdown",
   "id": "cbe5f0fb",
   "metadata": {},
   "source": [
    "from t table with significance_value=0.05  and degree of freedom gives a critical aplha value of 2.045"
   ]
  },
  {
   "cell_type": "code",
   "execution_count": 476,
   "id": "87a3d5d9",
   "metadata": {},
   "outputs": [],
   "source": [
    "critical_range=(-2.045,2.045)"
   ]
  },
  {
   "cell_type": "code",
   "execution_count": 481,
   "id": "0266260a",
   "metadata": {},
   "outputs": [
    {
     "name": "stdout",
     "output_type": "stream",
     "text": [
      "as t_statistics is 1.643 approx and lies between the critical_range hence null hypothes is accepted and alternate hypothesis is rejected there is no differce in mean improvement scores between the two groups\n"
     ]
    }
   ],
   "source": [
    "print(f'as t_statistics is 1.643 approx and lies between the critical_range hence null hypothes is accepted and alternate hypothesis is rejected {null_hypothesis}')"
   ]
  },
  {
   "cell_type": "code",
   "execution_count": null,
   "id": "73384c30",
   "metadata": {},
   "outputs": [],
   "source": []
  }
 ],
 "metadata": {
  "kernelspec": {
   "display_name": "Python 3 (ipykernel)",
   "language": "python",
   "name": "python3"
  },
  "language_info": {
   "codemirror_mode": {
    "name": "ipython",
    "version": 3
   },
   "file_extension": ".py",
   "mimetype": "text/x-python",
   "name": "python",
   "nbconvert_exporter": "python",
   "pygments_lexer": "ipython3",
   "version": "3.9.12"
  }
 },
 "nbformat": 4,
 "nbformat_minor": 5
}
