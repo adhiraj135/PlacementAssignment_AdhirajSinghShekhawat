{
 "cells": [
  {
   "cell_type": "code",
   "execution_count": 1,
   "id": "245e1ab9",
   "metadata": {},
   "outputs": [],
   "source": [
    "import pandas as pd\n",
    "import os\n",
    "import numpy as np\n",
    "import matplotlib.pyplot as plt\n",
    "import seaborn as sns"
   ]
  },
  {
   "cell_type": "code",
   "execution_count": 2,
   "id": "0b10fa3d",
   "metadata": {},
   "outputs": [],
   "source": [
    "os.chdir('C:\\\\Users\\\\DELL\\\\Downloads\\\\Inueron assignment\\\\machine learning')"
   ]
  },
  {
   "cell_type": "code",
   "execution_count": 4,
   "id": "88cd9768",
   "metadata": {},
   "outputs": [],
   "source": [
    "df=pd.read_csv('ObesityDataSet_raw_and_data_sinthetic.csv')"
   ]
  },
  {
   "cell_type": "code",
   "execution_count": 5,
   "id": "e9298b63",
   "metadata": {},
   "outputs": [
    {
     "data": {
      "text/html": [
       "<div>\n",
       "<style scoped>\n",
       "    .dataframe tbody tr th:only-of-type {\n",
       "        vertical-align: middle;\n",
       "    }\n",
       "\n",
       "    .dataframe tbody tr th {\n",
       "        vertical-align: top;\n",
       "    }\n",
       "\n",
       "    .dataframe thead th {\n",
       "        text-align: right;\n",
       "    }\n",
       "</style>\n",
       "<table border=\"1\" class=\"dataframe\">\n",
       "  <thead>\n",
       "    <tr style=\"text-align: right;\">\n",
       "      <th></th>\n",
       "      <th>Gender</th>\n",
       "      <th>Age</th>\n",
       "      <th>Height</th>\n",
       "      <th>Weight</th>\n",
       "      <th>family_history_with_overweight</th>\n",
       "      <th>FAVC</th>\n",
       "      <th>FCVC</th>\n",
       "      <th>NCP</th>\n",
       "      <th>CAEC</th>\n",
       "      <th>SMOKE</th>\n",
       "      <th>CH2O</th>\n",
       "      <th>SCC</th>\n",
       "      <th>FAF</th>\n",
       "      <th>TUE</th>\n",
       "      <th>CALC</th>\n",
       "      <th>MTRANS</th>\n",
       "      <th>NObeyesdad</th>\n",
       "    </tr>\n",
       "  </thead>\n",
       "  <tbody>\n",
       "    <tr>\n",
       "      <th>0</th>\n",
       "      <td>Female</td>\n",
       "      <td>21.0</td>\n",
       "      <td>1.62</td>\n",
       "      <td>64.0</td>\n",
       "      <td>yes</td>\n",
       "      <td>no</td>\n",
       "      <td>2.0</td>\n",
       "      <td>3.0</td>\n",
       "      <td>Sometimes</td>\n",
       "      <td>no</td>\n",
       "      <td>2.0</td>\n",
       "      <td>no</td>\n",
       "      <td>0.0</td>\n",
       "      <td>1.0</td>\n",
       "      <td>no</td>\n",
       "      <td>Public_Transportation</td>\n",
       "      <td>Normal_Weight</td>\n",
       "    </tr>\n",
       "    <tr>\n",
       "      <th>1</th>\n",
       "      <td>Female</td>\n",
       "      <td>21.0</td>\n",
       "      <td>1.52</td>\n",
       "      <td>56.0</td>\n",
       "      <td>yes</td>\n",
       "      <td>no</td>\n",
       "      <td>3.0</td>\n",
       "      <td>3.0</td>\n",
       "      <td>Sometimes</td>\n",
       "      <td>yes</td>\n",
       "      <td>3.0</td>\n",
       "      <td>yes</td>\n",
       "      <td>3.0</td>\n",
       "      <td>0.0</td>\n",
       "      <td>Sometimes</td>\n",
       "      <td>Public_Transportation</td>\n",
       "      <td>Normal_Weight</td>\n",
       "    </tr>\n",
       "    <tr>\n",
       "      <th>2</th>\n",
       "      <td>Male</td>\n",
       "      <td>23.0</td>\n",
       "      <td>1.80</td>\n",
       "      <td>77.0</td>\n",
       "      <td>yes</td>\n",
       "      <td>no</td>\n",
       "      <td>2.0</td>\n",
       "      <td>3.0</td>\n",
       "      <td>Sometimes</td>\n",
       "      <td>no</td>\n",
       "      <td>2.0</td>\n",
       "      <td>no</td>\n",
       "      <td>2.0</td>\n",
       "      <td>1.0</td>\n",
       "      <td>Frequently</td>\n",
       "      <td>Public_Transportation</td>\n",
       "      <td>Normal_Weight</td>\n",
       "    </tr>\n",
       "    <tr>\n",
       "      <th>3</th>\n",
       "      <td>Male</td>\n",
       "      <td>27.0</td>\n",
       "      <td>1.80</td>\n",
       "      <td>87.0</td>\n",
       "      <td>no</td>\n",
       "      <td>no</td>\n",
       "      <td>3.0</td>\n",
       "      <td>3.0</td>\n",
       "      <td>Sometimes</td>\n",
       "      <td>no</td>\n",
       "      <td>2.0</td>\n",
       "      <td>no</td>\n",
       "      <td>2.0</td>\n",
       "      <td>0.0</td>\n",
       "      <td>Frequently</td>\n",
       "      <td>Walking</td>\n",
       "      <td>Overweight_Level_I</td>\n",
       "    </tr>\n",
       "    <tr>\n",
       "      <th>4</th>\n",
       "      <td>Male</td>\n",
       "      <td>22.0</td>\n",
       "      <td>1.78</td>\n",
       "      <td>89.8</td>\n",
       "      <td>no</td>\n",
       "      <td>no</td>\n",
       "      <td>2.0</td>\n",
       "      <td>1.0</td>\n",
       "      <td>Sometimes</td>\n",
       "      <td>no</td>\n",
       "      <td>2.0</td>\n",
       "      <td>no</td>\n",
       "      <td>0.0</td>\n",
       "      <td>0.0</td>\n",
       "      <td>Sometimes</td>\n",
       "      <td>Public_Transportation</td>\n",
       "      <td>Overweight_Level_II</td>\n",
       "    </tr>\n",
       "  </tbody>\n",
       "</table>\n",
       "</div>"
      ],
      "text/plain": [
       "   Gender   Age  Height  Weight family_history_with_overweight FAVC  FCVC  \\\n",
       "0  Female  21.0    1.62    64.0                            yes   no   2.0   \n",
       "1  Female  21.0    1.52    56.0                            yes   no   3.0   \n",
       "2    Male  23.0    1.80    77.0                            yes   no   2.0   \n",
       "3    Male  27.0    1.80    87.0                             no   no   3.0   \n",
       "4    Male  22.0    1.78    89.8                             no   no   2.0   \n",
       "\n",
       "   NCP       CAEC SMOKE  CH2O  SCC  FAF  TUE        CALC  \\\n",
       "0  3.0  Sometimes    no   2.0   no  0.0  1.0          no   \n",
       "1  3.0  Sometimes   yes   3.0  yes  3.0  0.0   Sometimes   \n",
       "2  3.0  Sometimes    no   2.0   no  2.0  1.0  Frequently   \n",
       "3  3.0  Sometimes    no   2.0   no  2.0  0.0  Frequently   \n",
       "4  1.0  Sometimes    no   2.0   no  0.0  0.0   Sometimes   \n",
       "\n",
       "                  MTRANS           NObeyesdad  \n",
       "0  Public_Transportation        Normal_Weight  \n",
       "1  Public_Transportation        Normal_Weight  \n",
       "2  Public_Transportation        Normal_Weight  \n",
       "3                Walking   Overweight_Level_I  \n",
       "4  Public_Transportation  Overweight_Level_II  "
      ]
     },
     "execution_count": 5,
     "metadata": {},
     "output_type": "execute_result"
    }
   ],
   "source": [
    "df.head()"
   ]
  },
  {
   "cell_type": "code",
   "execution_count": 7,
   "id": "6b8d9611",
   "metadata": {},
   "outputs": [
    {
     "data": {
      "text/plain": [
       "Obesity_Type_I         351\n",
       "Obesity_Type_III       324\n",
       "Obesity_Type_II        297\n",
       "Overweight_Level_I     290\n",
       "Overweight_Level_II    290\n",
       "Normal_Weight          287\n",
       "Insufficient_Weight    272\n",
       "Name: NObeyesdad, dtype: int64"
      ]
     },
     "execution_count": 7,
     "metadata": {},
     "output_type": "execute_result"
    }
   ],
   "source": [
    "df['NObeyesdad'].value_counts()"
   ]
  },
  {
   "cell_type": "code",
   "execution_count": 13,
   "id": "b3162fa0",
   "metadata": {},
   "outputs": [],
   "source": [
    "dict={\"Normal_Weight\":\"Normal\", \"Overweight_Level_II\":\"Overweight\",\"Overweight_Level_I\":\"Overweight\", \"Obesity_Type_I\":\"Obesity\" ,\"Insufficient_Weight\":\"Underweight\" , \"Obesity_Type_III\":\"Extreme Obesity\",\"Obesity_Type_II\":\"Extreme Obesity\"}"
   ]
  },
  {
   "cell_type": "code",
   "execution_count": 15,
   "id": "1af9670b",
   "metadata": {},
   "outputs": [
    {
     "data": {
      "text/plain": [
       "dict_keys(['Normal_Weight', 'Overweight_Level_II', 'Overweight_Level_I', 'Obesity_Type_I', 'Insufficient_Weight', 'Obesity_Type_III', 'Obesity_Type_II'])"
      ]
     },
     "execution_count": 15,
     "metadata": {},
     "output_type": "execute_result"
    }
   ],
   "source": [
    "dict.keys()"
   ]
  },
  {
   "cell_type": "code",
   "execution_count": 16,
   "id": "2e9990a8",
   "metadata": {},
   "outputs": [
    {
     "data": {
      "text/plain": [
       "dict_values(['Normal', 'Overweight', 'Overweight', 'Obesity', 'Underweight', 'Extreme Obesity', 'Extreme Obesity'])"
      ]
     },
     "execution_count": 16,
     "metadata": {},
     "output_type": "execute_result"
    }
   ],
   "source": [
    "dict.values()"
   ]
  },
  {
   "cell_type": "code",
   "execution_count": 18,
   "id": "27b43624",
   "metadata": {},
   "outputs": [],
   "source": [
    "df['NObeyesdad']=df['NObeyesdad'].map(dict)"
   ]
  },
  {
   "cell_type": "code",
   "execution_count": 19,
   "id": "5377bdc2",
   "metadata": {},
   "outputs": [
    {
     "data": {
      "text/plain": [
       "Extreme Obesity    621\n",
       "Overweight         580\n",
       "Obesity            351\n",
       "Normal             287\n",
       "Underweight        272\n",
       "Name: NObeyesdad, dtype: int64"
      ]
     },
     "execution_count": 19,
     "metadata": {},
     "output_type": "execute_result"
    }
   ],
   "source": [
    "df['NObeyesdad'].value_counts()"
   ]
  },
  {
   "cell_type": "code",
   "execution_count": 22,
   "id": "23a17467",
   "metadata": {},
   "outputs": [],
   "source": [
    "df.columns=['Gender', 'Age', 'Height', 'Weight', 'family_history_with_overweight',\n",
    "       'FAVC', 'FCVC', 'NCP', 'CAEC', 'SMOKE', 'CH2O', 'SCC', 'FAF', 'TUE',\n",
    "       'CALC', 'TRANSPORTATION', 'BMI_Indicator']"
   ]
  },
  {
   "cell_type": "code",
   "execution_count": 24,
   "id": "e55323e4",
   "metadata": {},
   "outputs": [
    {
     "data": {
      "text/html": [
       "<div>\n",
       "<style scoped>\n",
       "    .dataframe tbody tr th:only-of-type {\n",
       "        vertical-align: middle;\n",
       "    }\n",
       "\n",
       "    .dataframe tbody tr th {\n",
       "        vertical-align: top;\n",
       "    }\n",
       "\n",
       "    .dataframe thead th {\n",
       "        text-align: right;\n",
       "    }\n",
       "</style>\n",
       "<table border=\"1\" class=\"dataframe\">\n",
       "  <thead>\n",
       "    <tr style=\"text-align: right;\">\n",
       "      <th></th>\n",
       "      <th>Gender</th>\n",
       "      <th>Age</th>\n",
       "      <th>Height</th>\n",
       "      <th>Weight</th>\n",
       "      <th>family_history_with_overweight</th>\n",
       "      <th>FAVC</th>\n",
       "      <th>FCVC</th>\n",
       "      <th>NCP</th>\n",
       "      <th>CAEC</th>\n",
       "      <th>SMOKE</th>\n",
       "      <th>CH2O</th>\n",
       "      <th>SCC</th>\n",
       "      <th>FAF</th>\n",
       "      <th>TUE</th>\n",
       "      <th>CALC</th>\n",
       "      <th>TRANSPORTATION</th>\n",
       "      <th>BMI_Indicator</th>\n",
       "    </tr>\n",
       "  </thead>\n",
       "  <tbody>\n",
       "    <tr>\n",
       "      <th>0</th>\n",
       "      <td>Female</td>\n",
       "      <td>21.0</td>\n",
       "      <td>1.62</td>\n",
       "      <td>64.0</td>\n",
       "      <td>yes</td>\n",
       "      <td>no</td>\n",
       "      <td>2.0</td>\n",
       "      <td>3.0</td>\n",
       "      <td>Sometimes</td>\n",
       "      <td>no</td>\n",
       "      <td>2.0</td>\n",
       "      <td>no</td>\n",
       "      <td>0.0</td>\n",
       "      <td>1.0</td>\n",
       "      <td>no</td>\n",
       "      <td>Public_Transportation</td>\n",
       "      <td>Normal</td>\n",
       "    </tr>\n",
       "    <tr>\n",
       "      <th>1</th>\n",
       "      <td>Female</td>\n",
       "      <td>21.0</td>\n",
       "      <td>1.52</td>\n",
       "      <td>56.0</td>\n",
       "      <td>yes</td>\n",
       "      <td>no</td>\n",
       "      <td>3.0</td>\n",
       "      <td>3.0</td>\n",
       "      <td>Sometimes</td>\n",
       "      <td>yes</td>\n",
       "      <td>3.0</td>\n",
       "      <td>yes</td>\n",
       "      <td>3.0</td>\n",
       "      <td>0.0</td>\n",
       "      <td>Sometimes</td>\n",
       "      <td>Public_Transportation</td>\n",
       "      <td>Normal</td>\n",
       "    </tr>\n",
       "    <tr>\n",
       "      <th>2</th>\n",
       "      <td>Male</td>\n",
       "      <td>23.0</td>\n",
       "      <td>1.80</td>\n",
       "      <td>77.0</td>\n",
       "      <td>yes</td>\n",
       "      <td>no</td>\n",
       "      <td>2.0</td>\n",
       "      <td>3.0</td>\n",
       "      <td>Sometimes</td>\n",
       "      <td>no</td>\n",
       "      <td>2.0</td>\n",
       "      <td>no</td>\n",
       "      <td>2.0</td>\n",
       "      <td>1.0</td>\n",
       "      <td>Frequently</td>\n",
       "      <td>Public_Transportation</td>\n",
       "      <td>Normal</td>\n",
       "    </tr>\n",
       "    <tr>\n",
       "      <th>3</th>\n",
       "      <td>Male</td>\n",
       "      <td>27.0</td>\n",
       "      <td>1.80</td>\n",
       "      <td>87.0</td>\n",
       "      <td>no</td>\n",
       "      <td>no</td>\n",
       "      <td>3.0</td>\n",
       "      <td>3.0</td>\n",
       "      <td>Sometimes</td>\n",
       "      <td>no</td>\n",
       "      <td>2.0</td>\n",
       "      <td>no</td>\n",
       "      <td>2.0</td>\n",
       "      <td>0.0</td>\n",
       "      <td>Frequently</td>\n",
       "      <td>Walking</td>\n",
       "      <td>Overweight</td>\n",
       "    </tr>\n",
       "    <tr>\n",
       "      <th>4</th>\n",
       "      <td>Male</td>\n",
       "      <td>22.0</td>\n",
       "      <td>1.78</td>\n",
       "      <td>89.8</td>\n",
       "      <td>no</td>\n",
       "      <td>no</td>\n",
       "      <td>2.0</td>\n",
       "      <td>1.0</td>\n",
       "      <td>Sometimes</td>\n",
       "      <td>no</td>\n",
       "      <td>2.0</td>\n",
       "      <td>no</td>\n",
       "      <td>0.0</td>\n",
       "      <td>0.0</td>\n",
       "      <td>Sometimes</td>\n",
       "      <td>Public_Transportation</td>\n",
       "      <td>Overweight</td>\n",
       "    </tr>\n",
       "  </tbody>\n",
       "</table>\n",
       "</div>"
      ],
      "text/plain": [
       "   Gender   Age  Height  Weight family_history_with_overweight FAVC  FCVC  \\\n",
       "0  Female  21.0    1.62    64.0                            yes   no   2.0   \n",
       "1  Female  21.0    1.52    56.0                            yes   no   3.0   \n",
       "2    Male  23.0    1.80    77.0                            yes   no   2.0   \n",
       "3    Male  27.0    1.80    87.0                             no   no   3.0   \n",
       "4    Male  22.0    1.78    89.8                             no   no   2.0   \n",
       "\n",
       "   NCP       CAEC SMOKE  CH2O  SCC  FAF  TUE        CALC  \\\n",
       "0  3.0  Sometimes    no   2.0   no  0.0  1.0          no   \n",
       "1  3.0  Sometimes   yes   3.0  yes  3.0  0.0   Sometimes   \n",
       "2  3.0  Sometimes    no   2.0   no  2.0  1.0  Frequently   \n",
       "3  3.0  Sometimes    no   2.0   no  2.0  0.0  Frequently   \n",
       "4  1.0  Sometimes    no   2.0   no  0.0  0.0   Sometimes   \n",
       "\n",
       "          TRANSPORTATION BMI_Indicator  \n",
       "0  Public_Transportation        Normal  \n",
       "1  Public_Transportation        Normal  \n",
       "2  Public_Transportation        Normal  \n",
       "3                Walking    Overweight  \n",
       "4  Public_Transportation    Overweight  "
      ]
     },
     "execution_count": 24,
     "metadata": {},
     "output_type": "execute_result"
    }
   ],
   "source": [
    "df.head()"
   ]
  },
  {
   "cell_type": "code",
   "execution_count": 36,
   "id": "d4c28942",
   "metadata": {},
   "outputs": [
    {
     "data": {
      "text/plain": [
       "dtype('O')"
      ]
     },
     "execution_count": 36,
     "metadata": {},
     "output_type": "execute_result"
    }
   ],
   "source": [
    "df['Gender'].dtypes"
   ]
  },
  {
   "cell_type": "code",
   "execution_count": 37,
   "id": "36cb5ff7",
   "metadata": {},
   "outputs": [],
   "source": [
    "cat_columns=[col for col in df.columns if df[col].dtypes == 'O']"
   ]
  },
  {
   "cell_type": "code",
   "execution_count": 38,
   "id": "0700d529",
   "metadata": {},
   "outputs": [
    {
     "data": {
      "text/plain": [
       "['Gender',\n",
       " 'family_history_with_overweight',\n",
       " 'FAVC',\n",
       " 'CAEC',\n",
       " 'SMOKE',\n",
       " 'SCC',\n",
       " 'CALC',\n",
       " 'TRANSPORTATION',\n",
       " 'BMI_Indicator']"
      ]
     },
     "execution_count": 38,
     "metadata": {},
     "output_type": "execute_result"
    }
   ],
   "source": [
    "cat_columns"
   ]
  },
  {
   "cell_type": "code",
   "execution_count": 39,
   "id": "e5b83424",
   "metadata": {},
   "outputs": [],
   "source": [
    "dict_yes_no={\"yes\":1,\"no\":0}"
   ]
  },
  {
   "cell_type": "code",
   "execution_count": 40,
   "id": "96c66daf",
   "metadata": {},
   "outputs": [],
   "source": [
    "yes_no_col=['family_history_with_overweight','FAVC','SMOKE','SCC']"
   ]
  },
  {
   "cell_type": "code",
   "execution_count": 48,
   "id": "1cb8631c",
   "metadata": {},
   "outputs": [],
   "source": [
    "for col in yes_no_col:\n",
    "    df[col]=df[col].map(dict_yes_no)"
   ]
  },
  {
   "cell_type": "code",
   "execution_count": 50,
   "id": "9d1b087f",
   "metadata": {},
   "outputs": [],
   "source": [
    "dict_gender={\"Male\":0,\"Female\":1}"
   ]
  },
  {
   "cell_type": "code",
   "execution_count": 51,
   "id": "ffcc8d89",
   "metadata": {},
   "outputs": [],
   "source": [
    "df['Gender']=df[\"Gender\"].map(dict_gender)"
   ]
  },
  {
   "cell_type": "code",
   "execution_count": 55,
   "id": "92d829bc",
   "metadata": {},
   "outputs": [
    {
     "data": {
      "text/plain": [
       "Sometimes     1765\n",
       "Frequently     242\n",
       "Always          53\n",
       "no              51\n",
       "Name: CAEC, dtype: int64"
      ]
     },
     "execution_count": 55,
     "metadata": {},
     "output_type": "execute_result"
    }
   ],
   "source": [
    "df[\"CAEC\"].value_counts()"
   ]
  },
  {
   "cell_type": "code",
   "execution_count": null,
   "id": "8d5fda59",
   "metadata": {},
   "outputs": [],
   "source": [
    "dict_4={SometimesFrequently    Always     no}"
   ]
  },
  {
   "cell_type": "code",
   "execution_count": 56,
   "id": "88e721c2",
   "metadata": {},
   "outputs": [
    {
     "data": {
      "text/plain": [
       "Sometimes     1401\n",
       "no             639\n",
       "Frequently      70\n",
       "Always           1\n",
       "Name: CALC, dtype: int64"
      ]
     },
     "execution_count": 56,
     "metadata": {},
     "output_type": "execute_result"
    }
   ],
   "source": [
    "df[\"CALC\"].value_counts()"
   ]
  },
  {
   "cell_type": "code",
   "execution_count": 57,
   "id": "e0694585",
   "metadata": {},
   "outputs": [
    {
     "data": {
      "text/plain": [
       "Public_Transportation    1580\n",
       "Automobile                457\n",
       "Walking                    56\n",
       "Motorbike                  11\n",
       "Bike                        7\n",
       "Name: TRANSPORTATION, dtype: int64"
      ]
     },
     "execution_count": 57,
     "metadata": {},
     "output_type": "execute_result"
    }
   ],
   "source": [
    "df['TRANSPORTATION'].value_counts()"
   ]
  },
  {
   "cell_type": "code",
   "execution_count": 59,
   "id": "fd6e163e",
   "metadata": {},
   "outputs": [],
   "source": [
    "df['CALC'] = df['CALC'].apply(lambda x:['no', 'Sometimes', 'Frequently', 'Always'].index(x))"
   ]
  },
  {
   "cell_type": "code",
   "execution_count": 61,
   "id": "7e571f5d",
   "metadata": {},
   "outputs": [
    {
     "data": {
      "text/plain": [
       "1    1401\n",
       "0     639\n",
       "2      70\n",
       "3       1\n",
       "Name: CALC, dtype: int64"
      ]
     },
     "execution_count": 61,
     "metadata": {},
     "output_type": "execute_result"
    }
   ],
   "source": [
    "df[\"CALC\"].value_counts()"
   ]
  },
  {
   "cell_type": "code",
   "execution_count": 68,
   "id": "1d1138e7",
   "metadata": {},
   "outputs": [],
   "source": [
    "df['CAEC'] = df['CAEC'].apply(lambda x:['no', 'Sometimes', 'Frequently', 'Always'].index(x))"
   ]
  },
  {
   "cell_type": "code",
   "execution_count": 69,
   "id": "a539fb27",
   "metadata": {},
   "outputs": [
    {
     "data": {
      "text/plain": [
       "1    1765\n",
       "2     242\n",
       "3      53\n",
       "0      51\n",
       "Name: CAEC, dtype: int64"
      ]
     },
     "execution_count": 69,
     "metadata": {},
     "output_type": "execute_result"
    }
   ],
   "source": [
    "df['CAEC'].value_counts()"
   ]
  },
  {
   "cell_type": "code",
   "execution_count": 74,
   "id": "0aede868",
   "metadata": {},
   "outputs": [],
   "source": [
    "dict_transport={\"Public_Transportation\":0,\"Automobile\":1,\"Walking\":2,\"Motorbike\":3,\"Bike\":4}"
   ]
  },
  {
   "cell_type": "code",
   "execution_count": 76,
   "id": "0fcea651",
   "metadata": {},
   "outputs": [],
   "source": [
    "df[\"TRANSPORTATION\"]=df[\"TRANSPORTATION\"].map(dict_transport)"
   ]
  },
  {
   "cell_type": "code",
   "execution_count": 79,
   "id": "5eb474e0",
   "metadata": {},
   "outputs": [
    {
     "data": {
      "text/html": [
       "<div>\n",
       "<style scoped>\n",
       "    .dataframe tbody tr th:only-of-type {\n",
       "        vertical-align: middle;\n",
       "    }\n",
       "\n",
       "    .dataframe tbody tr th {\n",
       "        vertical-align: top;\n",
       "    }\n",
       "\n",
       "    .dataframe thead th {\n",
       "        text-align: right;\n",
       "    }\n",
       "</style>\n",
       "<table border=\"1\" class=\"dataframe\">\n",
       "  <thead>\n",
       "    <tr style=\"text-align: right;\">\n",
       "      <th></th>\n",
       "      <th>Gender</th>\n",
       "      <th>Age</th>\n",
       "      <th>Height</th>\n",
       "      <th>Weight</th>\n",
       "      <th>family_history_with_overweight</th>\n",
       "      <th>FAVC</th>\n",
       "      <th>FCVC</th>\n",
       "      <th>NCP</th>\n",
       "      <th>CAEC</th>\n",
       "      <th>SMOKE</th>\n",
       "      <th>CH2O</th>\n",
       "      <th>SCC</th>\n",
       "      <th>FAF</th>\n",
       "      <th>TUE</th>\n",
       "      <th>CALC</th>\n",
       "      <th>TRANSPORTATION</th>\n",
       "      <th>BMI_Indicator</th>\n",
       "    </tr>\n",
       "  </thead>\n",
       "  <tbody>\n",
       "    <tr>\n",
       "      <th>0</th>\n",
       "      <td>1</td>\n",
       "      <td>21.0</td>\n",
       "      <td>1.62</td>\n",
       "      <td>64.0</td>\n",
       "      <td>1</td>\n",
       "      <td>0</td>\n",
       "      <td>2.0</td>\n",
       "      <td>3.0</td>\n",
       "      <td>1</td>\n",
       "      <td>0</td>\n",
       "      <td>2.0</td>\n",
       "      <td>0</td>\n",
       "      <td>0.0</td>\n",
       "      <td>1.0</td>\n",
       "      <td>0</td>\n",
       "      <td>0</td>\n",
       "      <td>Normal</td>\n",
       "    </tr>\n",
       "    <tr>\n",
       "      <th>1</th>\n",
       "      <td>1</td>\n",
       "      <td>21.0</td>\n",
       "      <td>1.52</td>\n",
       "      <td>56.0</td>\n",
       "      <td>1</td>\n",
       "      <td>0</td>\n",
       "      <td>3.0</td>\n",
       "      <td>3.0</td>\n",
       "      <td>1</td>\n",
       "      <td>1</td>\n",
       "      <td>3.0</td>\n",
       "      <td>1</td>\n",
       "      <td>3.0</td>\n",
       "      <td>0.0</td>\n",
       "      <td>1</td>\n",
       "      <td>0</td>\n",
       "      <td>Normal</td>\n",
       "    </tr>\n",
       "    <tr>\n",
       "      <th>2</th>\n",
       "      <td>0</td>\n",
       "      <td>23.0</td>\n",
       "      <td>1.80</td>\n",
       "      <td>77.0</td>\n",
       "      <td>1</td>\n",
       "      <td>0</td>\n",
       "      <td>2.0</td>\n",
       "      <td>3.0</td>\n",
       "      <td>1</td>\n",
       "      <td>0</td>\n",
       "      <td>2.0</td>\n",
       "      <td>0</td>\n",
       "      <td>2.0</td>\n",
       "      <td>1.0</td>\n",
       "      <td>2</td>\n",
       "      <td>0</td>\n",
       "      <td>Normal</td>\n",
       "    </tr>\n",
       "    <tr>\n",
       "      <th>3</th>\n",
       "      <td>0</td>\n",
       "      <td>27.0</td>\n",
       "      <td>1.80</td>\n",
       "      <td>87.0</td>\n",
       "      <td>0</td>\n",
       "      <td>0</td>\n",
       "      <td>3.0</td>\n",
       "      <td>3.0</td>\n",
       "      <td>1</td>\n",
       "      <td>0</td>\n",
       "      <td>2.0</td>\n",
       "      <td>0</td>\n",
       "      <td>2.0</td>\n",
       "      <td>0.0</td>\n",
       "      <td>2</td>\n",
       "      <td>2</td>\n",
       "      <td>Overweight</td>\n",
       "    </tr>\n",
       "    <tr>\n",
       "      <th>4</th>\n",
       "      <td>0</td>\n",
       "      <td>22.0</td>\n",
       "      <td>1.78</td>\n",
       "      <td>89.8</td>\n",
       "      <td>0</td>\n",
       "      <td>0</td>\n",
       "      <td>2.0</td>\n",
       "      <td>1.0</td>\n",
       "      <td>1</td>\n",
       "      <td>0</td>\n",
       "      <td>2.0</td>\n",
       "      <td>0</td>\n",
       "      <td>0.0</td>\n",
       "      <td>0.0</td>\n",
       "      <td>1</td>\n",
       "      <td>0</td>\n",
       "      <td>Overweight</td>\n",
       "    </tr>\n",
       "  </tbody>\n",
       "</table>\n",
       "</div>"
      ],
      "text/plain": [
       "   Gender   Age  Height  Weight  family_history_with_overweight  FAVC  FCVC  \\\n",
       "0       1  21.0    1.62    64.0                               1     0   2.0   \n",
       "1       1  21.0    1.52    56.0                               1     0   3.0   \n",
       "2       0  23.0    1.80    77.0                               1     0   2.0   \n",
       "3       0  27.0    1.80    87.0                               0     0   3.0   \n",
       "4       0  22.0    1.78    89.8                               0     0   2.0   \n",
       "\n",
       "   NCP  CAEC  SMOKE  CH2O  SCC  FAF  TUE  CALC  TRANSPORTATION BMI_Indicator  \n",
       "0  3.0     1      0   2.0    0  0.0  1.0     0               0        Normal  \n",
       "1  3.0     1      1   3.0    1  3.0  0.0     1               0        Normal  \n",
       "2  3.0     1      0   2.0    0  2.0  1.0     2               0        Normal  \n",
       "3  3.0     1      0   2.0    0  2.0  0.0     2               2    Overweight  \n",
       "4  1.0     1      0   2.0    0  0.0  0.0     1               0    Overweight  "
      ]
     },
     "execution_count": 79,
     "metadata": {},
     "output_type": "execute_result"
    }
   ],
   "source": [
    "df.head()"
   ]
  },
  {
   "cell_type": "code",
   "execution_count": 80,
   "id": "2d9e9214",
   "metadata": {},
   "outputs": [
    {
     "data": {
      "text/plain": [
       "Gender                              int64\n",
       "Age                               float64\n",
       "Height                            float64\n",
       "Weight                            float64\n",
       "family_history_with_overweight      int64\n",
       "FAVC                                int64\n",
       "FCVC                              float64\n",
       "NCP                               float64\n",
       "CAEC                                int64\n",
       "SMOKE                               int64\n",
       "CH2O                              float64\n",
       "SCC                                 int64\n",
       "FAF                               float64\n",
       "TUE                               float64\n",
       "CALC                                int64\n",
       "TRANSPORTATION                      int64\n",
       "BMI_Indicator                      object\n",
       "dtype: object"
      ]
     },
     "execution_count": 80,
     "metadata": {},
     "output_type": "execute_result"
    }
   ],
   "source": [
    "df.dtypes"
   ]
  },
  {
   "cell_type": "code",
   "execution_count": 81,
   "id": "b4fa8d6a",
   "metadata": {},
   "outputs": [
    {
     "data": {
      "text/plain": [
       "Extreme Obesity    621\n",
       "Overweight         580\n",
       "Obesity            351\n",
       "Normal             287\n",
       "Underweight        272\n",
       "Name: BMI_Indicator, dtype: int64"
      ]
     },
     "execution_count": 81,
     "metadata": {},
     "output_type": "execute_result"
    }
   ],
   "source": [
    "df['BMI_Indicator'].value_counts()"
   ]
  },
  {
   "cell_type": "code",
   "execution_count": 82,
   "id": "e2ce3714",
   "metadata": {},
   "outputs": [],
   "source": [
    "dict_bmi={\"Extreme Obesity\":4,\"Obesity\":3,\"Overweight\":2,\"Normal\":1,\"Underweight\":0}"
   ]
  },
  {
   "cell_type": "code",
   "execution_count": 84,
   "id": "6b68124a",
   "metadata": {},
   "outputs": [],
   "source": [
    "df[\"BMI_Indicator\"]=df[\"BMI_Indicator\"].map(dict_bmi)"
   ]
  },
  {
   "cell_type": "code",
   "execution_count": 85,
   "id": "c90dee17",
   "metadata": {},
   "outputs": [
    {
     "data": {
      "text/plain": [
       "Gender                              int64\n",
       "Age                               float64\n",
       "Height                            float64\n",
       "Weight                            float64\n",
       "family_history_with_overweight      int64\n",
       "FAVC                                int64\n",
       "FCVC                              float64\n",
       "NCP                               float64\n",
       "CAEC                                int64\n",
       "SMOKE                               int64\n",
       "CH2O                              float64\n",
       "SCC                                 int64\n",
       "FAF                               float64\n",
       "TUE                               float64\n",
       "CALC                                int64\n",
       "TRANSPORTATION                      int64\n",
       "BMI_Indicator                       int64\n",
       "dtype: object"
      ]
     },
     "execution_count": 85,
     "metadata": {},
     "output_type": "execute_result"
    }
   ],
   "source": [
    "df.dtypes"
   ]
  },
  {
   "cell_type": "code",
   "execution_count": 86,
   "id": "5686982c",
   "metadata": {},
   "outputs": [
    {
     "data": {
      "text/plain": [
       "17"
      ]
     },
     "execution_count": 86,
     "metadata": {},
     "output_type": "execute_result"
    }
   ],
   "source": [
    "len(df.columns)"
   ]
  },
  {
   "cell_type": "code",
   "execution_count": 92,
   "id": "053caf14",
   "metadata": {},
   "outputs": [],
   "source": [
    "import warnings\n",
    "warnings.filterwarnings(action=\"ignore\")"
   ]
  },
  {
   "cell_type": "code",
   "execution_count": 93,
   "id": "54231289",
   "metadata": {},
   "outputs": [
    {
     "data": {
      "text/plain": [
       "<function matplotlib.pyplot.show(close=None, block=None)>"
      ]
     },
     "execution_count": 93,
     "metadata": {},
     "output_type": "execute_result"
    },
    {
     "data": {
      "image/png": "[encoded data removed]",
      "text/plain": [
       "<Figure size 1440x1800 with 17 Axes>"
      ]
     },
     "metadata": {
      "needs_background": "light"
     },
     "output_type": "display_data"
    }
   ],
   "source": [
    "plt.figure(figsize=(20,25))\n",
    "plot_number=1\n",
    "for col in  df:\n",
    "    ax=plt.subplot(3,6,plot_number)\n",
    "    sns.distplot(df[col])\n",
    "    plt.xlabel(col)\n",
    "    plot_number+=1\n",
    "plt.show"
   ]
  },
  {
   "cell_type": "code",
   "execution_count": 94,
   "id": "8c3318d4",
   "metadata": {},
   "outputs": [],
   "source": [
    "features=df.drop(columns=[\"BMI_Indicator\"])"
   ]
  },
  {
   "cell_type": "code",
   "execution_count": 95,
   "id": "09ea9556",
   "metadata": {},
   "outputs": [],
   "source": [
    "label=df[\"BMI_Indicator\"]"
   ]
  },
  {
   "cell_type": "code",
   "execution_count": 96,
   "id": "3ae9c49c",
   "metadata": {},
   "outputs": [
    {
     "data": {
      "text/plain": [
       "(2111, 16)"
      ]
     },
     "execution_count": 96,
     "metadata": {},
     "output_type": "execute_result"
    }
   ],
   "source": [
    "features.shape"
   ]
  },
  {
   "cell_type": "code",
   "execution_count": 97,
   "id": "7dbcfc2e",
   "metadata": {},
   "outputs": [
    {
     "data": {
      "text/plain": [
       "(2111,)"
      ]
     },
     "execution_count": 97,
     "metadata": {},
     "output_type": "execute_result"
    }
   ],
   "source": [
    "label.shape\n"
   ]
  },
  {
   "cell_type": "code",
   "execution_count": 98,
   "id": "41cbba66",
   "metadata": {},
   "outputs": [],
   "source": [
    "from sklearn.preprocessing import StandardScaler"
   ]
  },
  {
   "cell_type": "code",
   "execution_count": 99,
   "id": "d1ce7216",
   "metadata": {},
   "outputs": [],
   "source": [
    "scaler=StandardScaler()"
   ]
  },
  {
   "cell_type": "code",
   "execution_count": 101,
   "id": "1ee6bccd",
   "metadata": {},
   "outputs": [],
   "source": [
    "scaled_features=pd.DataFrame(scaler.fit_transform(features),columns=features.columns)"
   ]
  },
  {
   "cell_type": "code",
   "execution_count": 108,
   "id": "ab805c6b",
   "metadata": {},
   "outputs": [],
   "source": [
    "from sklearn.model_selection import train_test_split\n",
    "from sklearn.ensemble import RandomForestClassifier\n",
    "from xgboost import XGBClassifier\n",
    "from sklearn.svm import SVC\n",
    "from sklearn.linear_model import LogisticRegression\n",
    "from sklearn.metrics import accuracy_score"
   ]
  },
  {
   "cell_type": "code",
   "execution_count": 103,
   "id": "7e6685a3",
   "metadata": {},
   "outputs": [],
   "source": [
    "x_train,x_test,y_train,y_test=train_test_split(scaled_features,label,test_size=0.20,random_state=42)"
   ]
  },
  {
   "cell_type": "code",
   "execution_count": 104,
   "id": "17ec83d3",
   "metadata": {},
   "outputs": [],
   "source": [
    "rf=RandomForestClassifier()"
   ]
  },
  {
   "cell_type": "code",
   "execution_count": 105,
   "id": "e1db9beb",
   "metadata": {},
   "outputs": [
    {
     "data": {
      "text/plain": [
       "RandomForestClassifier()"
      ]
     },
     "execution_count": 105,
     "metadata": {},
     "output_type": "execute_result"
    }
   ],
   "source": [
    "rf.fit(x_train,y_train)"
   ]
  },
  {
   "cell_type": "code",
   "execution_count": 107,
   "id": "3e7d77e9",
   "metadata": {},
   "outputs": [],
   "source": [
    "pred_rf=rf.predict(x_test)"
   ]
  },
  {
   "cell_type": "code",
   "execution_count": 109,
   "id": "edfcb69c",
   "metadata": {},
   "outputs": [
    {
     "data": {
      "text/plain": [
       "0.9550827423167849"
      ]
     },
     "execution_count": 109,
     "metadata": {},
     "output_type": "execute_result"
    }
   ],
   "source": [
    "accuracy_score(y_test,pred_rf)"
   ]
  },
  {
   "cell_type": "code",
   "execution_count": 110,
   "id": "aa27c5f9",
   "metadata": {},
   "outputs": [],
   "source": [
    "xgb=XGBClassifier()"
   ]
  },
  {
   "cell_type": "code",
   "execution_count": 111,
   "id": "29212d11",
   "metadata": {},
   "outputs": [
    {
     "data": {
      "text/plain": [
       "XGBClassifier(base_score=None, booster=None, callbacks=None,\n",
       "              colsample_bylevel=None, colsample_bynode=None,\n",
       "              colsample_bytree=None, early_stopping_rounds=None,\n",
       "              enable_categorical=False, eval_metric=None, feature_types=None,\n",
       "              gamma=None, gpu_id=None, grow_policy=None, importance_type=None,\n",
       "              interaction_constraints=None, learning_rate=None, max_bin=None,\n",
       "              max_cat_threshold=None, max_cat_to_onehot=None,\n",
       "              max_delta_step=None, max_depth=None, max_leaves=None,\n",
       "              min_child_weight=None, missing=nan, monotone_constraints=None,\n",
       "              n_estimators=100, n_jobs=None, num_parallel_tree=None,\n",
       "              objective='multi:softprob', predictor=None, ...)"
      ]
     },
     "execution_count": 111,
     "metadata": {},
     "output_type": "execute_result"
    }
   ],
   "source": [
    "xgb.fit(x_train,y_train)"
   ]
  },
  {
   "cell_type": "code",
   "execution_count": 112,
   "id": "a378555f",
   "metadata": {},
   "outputs": [],
   "source": [
    "pred_xgb=xgb.predict(x_test)"
   ]
  },
  {
   "cell_type": "code",
   "execution_count": 113,
   "id": "f1f14f4f",
   "metadata": {},
   "outputs": [
    {
     "data": {
      "text/plain": [
       "0.9598108747044918"
      ]
     },
     "execution_count": 113,
     "metadata": {},
     "output_type": "execute_result"
    }
   ],
   "source": [
    "accuracy_score(y_test,pred_xgb)"
   ]
  },
  {
   "cell_type": "code",
   "execution_count": 114,
   "id": "8d3e536f",
   "metadata": {},
   "outputs": [],
   "source": [
    "svc=SVC()"
   ]
  },
  {
   "cell_type": "code",
   "execution_count": 115,
   "id": "7af01c38",
   "metadata": {},
   "outputs": [
    {
     "data": {
      "text/plain": [
       "SVC()"
      ]
     },
     "execution_count": 115,
     "metadata": {},
     "output_type": "execute_result"
    }
   ],
   "source": [
    "svc.fit(x_train,y_train)"
   ]
  },
  {
   "cell_type": "code",
   "execution_count": 116,
   "id": "f9704684",
   "metadata": {},
   "outputs": [],
   "source": [
    "pred_svc=svc.predict(x_test)"
   ]
  },
  {
   "cell_type": "code",
   "execution_count": 117,
   "id": "db9b9bdf",
   "metadata": {},
   "outputs": [
    {
     "data": {
      "text/plain": [
       "0.9054373522458629"
      ]
     },
     "execution_count": 117,
     "metadata": {},
     "output_type": "execute_result"
    }
   ],
   "source": [
    "accuracy_score(y_test,pred_svc)"
   ]
  },
  {
   "cell_type": "code",
   "execution_count": 118,
   "id": "19e8db04",
   "metadata": {},
   "outputs": [],
   "source": [
    "log=LogisticRegression()"
   ]
  },
  {
   "cell_type": "code",
   "execution_count": 119,
   "id": "12ba71e6",
   "metadata": {},
   "outputs": [
    {
     "data": {
      "text/plain": [
       "LogisticRegression()"
      ]
     },
     "execution_count": 119,
     "metadata": {},
     "output_type": "execute_result"
    }
   ],
   "source": [
    "log.fit(x_train,y_train)"
   ]
  },
  {
   "cell_type": "code",
   "execution_count": 121,
   "id": "95e0b53c",
   "metadata": {},
   "outputs": [],
   "source": [
    "pred_log=log.predict(x_test)"
   ]
  },
  {
   "cell_type": "code",
   "execution_count": 122,
   "id": "f7fdc752",
   "metadata": {},
   "outputs": [
    {
     "data": {
      "text/plain": [
       "0.9314420803782506"
      ]
     },
     "execution_count": 122,
     "metadata": {},
     "output_type": "execute_result"
    }
   ],
   "source": [
    "accuracy_score(y_test,pred_log)"
   ]
  },
  {
   "cell_type": "code",
   "execution_count": null,
   "id": "b862bf09",
   "metadata": {},
   "outputs": [],
   "source": []
  }
 ],
 "metadata": {
  "kernelspec": {
   "display_name": "Python 3 (ipykernel)",
   "language": "python",
   "name": "python3"
  },
  "language_info": {
   "codemirror_mode": {
    "name": "ipython",
    "version": 3
   },
   "file_extension": ".py",
   "mimetype": "text/x-python",
   "name": "python",
   "nbconvert_exporter": "python",
   "pygments_lexer": "ipython3",
   "version": "3.9.12"
  }
 },
 "nbformat": 4,
 "nbformat_minor": 5
}
